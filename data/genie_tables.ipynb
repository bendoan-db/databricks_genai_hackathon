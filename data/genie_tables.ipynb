{
 "cells": [
  {
   "cell_type": "code",
   "execution_count": 0,
   "metadata": {
    "application/vnd.databricks.v1+cell": {
     "cellMetadata": {
      "byteLimit": 2048000,
      "rowLimit": 10000
     },
     "inputWidgets": {},
     "nuid": "6fbf680a-a3bf-40e7-8cb9-dd5438817139",
     "showTitle": false,
     "tableResultSettingsMap": {},
     "title": ""
    }
   },
   "outputs": [],
   "source": [
    "%pip install --upgrade pydantic\n",
    "%restart_python"
   ]
  },
  {
   "cell_type": "code",
   "execution_count": 0,
   "metadata": {
    "application/vnd.databricks.v1+cell": {
     "cellMetadata": {
      "byteLimit": 2048000,
      "rowLimit": 10000
     },
     "inputWidgets": {},
     "nuid": "16df3fc1-8e2f-49b4-8fb8-ffa4a26a7ef7",
     "showTitle": false,
     "tableResultSettingsMap": {},
     "title": ""
    }
   },
   "outputs": [],
   "source": [
    "# df = spark.table(\"doan.financial_statements.balance_sheet\")\n",
    "# df.write.mode(\"overwrite\").parquet(\"/Volumes/felixflory/databricks_genai_hackathon/raw_data/balance_sheet.parquet\")"
   ]
  },
  {
   "cell_type": "code",
   "execution_count": 0,
   "metadata": {
    "application/vnd.databricks.v1+cell": {
     "cellMetadata": {
      "byteLimit": 2048000,
      "rowLimit": 10000
     },
     "inputWidgets": {},
     "nuid": "559defdd-5c11-4092-ab3f-84de93227ef7",
     "showTitle": false,
     "tableResultSettingsMap": {},
     "title": ""
    }
   },
   "outputs": [],
   "source": [
    "# df = spark.table(\"doan.financial_statements.income_statement\")\n",
    "# df.write.mode(\"overwrite\").parquet(\"/Volumes/felixflory/databricks_genai_hackathon/raw_data/income_statement.parquet\")"
   ]
  },
  {
   "cell_type": "code",
   "execution_count": 0,
   "metadata": {
    "application/vnd.databricks.v1+cell": {
     "cellMetadata": {
      "byteLimit": 2048000,
      "rowLimit": 10000
     },
     "inputWidgets": {},
     "nuid": "08e1cab6-303d-4dbe-be9a-c8f7b2e39687",
     "showTitle": false,
     "tableResultSettingsMap": {},
     "title": ""
    }
   },
   "outputs": [],
   "source": [
    "%load_ext autoreload\n",
    "%autoreload 2\n",
    "# Enables autoreload; learn more at https://docs.databricks.com/en/files/workspace-modules.html#autoreload-for-python-modules\n",
    "# To disable autoreload; run %autoreload 0"
   ]
  },
  {
   "cell_type": "code",
   "execution_count": 0,
   "metadata": {
    "application/vnd.databricks.v1+cell": {
     "cellMetadata": {
      "byteLimit": 2048000,
      "rowLimit": 10000
     },
     "inputWidgets": {},
     "nuid": "13283862-b168-470e-8b35-2ab7caae2039",
     "showTitle": false,
     "tableResultSettingsMap": {},
     "title": ""
    }
   },
   "outputs": [],
   "source": [
    "import sys, os\n",
    "sys.path.append(os.path.abspath('..'))\n",
    "from configs.project import ProjectConfig"
   ]
  },
  {
   "cell_type": "code",
   "execution_count": 0,
   "metadata": {
    "application/vnd.databricks.v1+cell": {
     "cellMetadata": {
      "byteLimit": 2048000,
      "rowLimit": 10000
     },
     "inputWidgets": {},
     "nuid": "966b2e32-063d-45d6-b7f3-3e0eb1ee8dfe",
     "showTitle": false,
     "tableResultSettingsMap": {},
     "title": ""
    }
   },
   "outputs": [],
   "source": [
    "import yaml\n",
    "\n",
    "with open(\"../configs/project.yml\", \"r\") as file:\n",
    "    data = yaml.safe_load(file)\n",
    "\n",
    "projectConfig = ProjectConfig(**data)\n",
    "projectConfig.model_dump()"
   ]
  },
  {
   "cell_type": "code",
   "execution_count": 0,
   "metadata": {
    "application/vnd.databricks.v1+cell": {
     "cellMetadata": {
      "byteLimit": 2048000,
      "rowLimit": 10000
     },
     "inputWidgets": {},
     "nuid": "74c9a5f9-3183-4ceb-9052-14b0da71b994",
     "showTitle": false,
     "tableResultSettingsMap": {},
     "title": ""
    }
   },
   "outputs": [],
   "source": [
    "import urllib.request\n",
    "\n",
    "for key, table in projectConfig.genie_tables.items():\n",
    "    urllib.request.urlretrieve(table.url, table.local_path)\n",
    "    spark.read.parquet(table.local_path).write.format(\"delta\").mode(\n",
    "        \"overwrite\"\n",
    "    ).saveAsTable(table.fqn)\n",
    "\n",
    "# url = \"https://raw.githubusercontent.com/fflory/databricks_genai_hackathon/main/data/balance_sheet.parquet\"\n",
    "# local_path = \"/Volumes/felixflory/databricks_genai_hackathon/raw_data/balance_sheet.snappy.parquet\"\n",
    "# _ = urllib.request.urlretrieve(url, local_path)\n",
    "\n",
    "# url = \"https://raw.githubusercontent.com/fflory/databricks_genai_hackathon/main/data/income_statement.parquet\"\n",
    "# local_path = \"/Volumes/felixflory/databricks_genai_hackathon/raw_data/income_statement.snappy.parquet\"\n",
    "# _ = urllib.request.urlretrieve(url, local_path)\n",
    "\n",
    "# spark.read.parquet(\n",
    "#     f\"/Volumes/{projectConfig.uc_catalog}/{projectConfig.uc_schema}/raw_data/balance_sheet.snappy.parquet\"\n",
    "# ).write.format(\"delta\").mode(\"overwrite\").saveAsTable(\n",
    "#     f\"{projectConfig.uc_catalog}.{projectConfig.uc_schema}.balance_sheet\",\n",
    "#     mode=\"overwrite\",\n",
    "# )\n",
    "# spark.read.parquet(\n",
    "#     f\"/Volumes/{projectConfig.uc_catalog}/{projectConfig.uc_schema}/raw_data/income_statement.snappy.parquet\"\n",
    "# ).write.format(\"delta\").mode(\"overwrite\").saveAsTable(\n",
    "#     f\"{projectConfig.uc_catalog}.{projectConfig.uc_schema}.income_statement\",\n",
    "#     mode=\"overwrite\",\n",
    "# )"
   ]
  },
  {
   "cell_type": "code",
   "execution_count": 0,
   "metadata": {
    "application/vnd.databricks.v1+cell": {
     "cellMetadata": {
      "byteLimit": 2048000,
      "rowLimit": 10000
     },
     "inputWidgets": {},
     "nuid": "633d6d1b-ac08-473c-807b-790a850bc236",
     "showTitle": false,
     "tableResultSettingsMap": {},
     "title": ""
    }
   },
   "outputs": [],
   "source": [
    "if True:\n",
    "  for key, table in projectConfig.genie_tables.items():\n",
    "    globals()[key] = spark.table(table.fqn)\n",
    "    display(eval(key))\n"
   ]
  }
 ],
 "metadata": {
  "application/vnd.databricks.v1+notebook": {
   "computePreferences": null,
   "dashboards": [],
   "environmentMetadata": {
    "base_environment": "",
    "environment_version": "2"
   },
   "inputWidgetPreferences": null,
   "language": "python",
   "notebookMetadata": {
    "pythonIndentUnit": 2
   },
   "notebookName": "genie_tables",
   "widgets": {}
  },
  "language_info": {
   "name": "python"
  }
 },
 "nbformat": 4,
 "nbformat_minor": 0
}
