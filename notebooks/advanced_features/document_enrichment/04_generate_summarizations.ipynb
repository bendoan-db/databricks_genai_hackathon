{
 "cells": [
  {
   "cell_type": "code",
   "execution_count": 0,
   "metadata": {
    "application/vnd.databricks.v1+cell": {
     "cellMetadata": {
      "byteLimit": 2048000,
      "rowLimit": 10000
     },
     "inputWidgets": {},
     "nuid": "d67aed48-060a-4fcd-9c2d-dc3fc366ff1a",
     "showTitle": false,
     "tableResultSettingsMap": {},
     "title": ""
    }
   },
   "outputs": [],
   "source": [
    "%pip install -q pyyaml"
   ]
  },
  {
   "cell_type": "code",
   "execution_count": 0,
   "metadata": {
    "application/vnd.databricks.v1+cell": {
     "cellMetadata": {
      "byteLimit": 2048000,
      "rowLimit": 10000
     },
     "inputWidgets": {},
     "nuid": "e3b4ea0c-a639-44d1-8f0e-4e6b6bf248a4",
     "showTitle": false,
     "tableResultSettingsMap": {},
     "title": ""
    }
   },
   "outputs": [],
   "source": [
    "import yaml\n",
    "\n",
    "with open('ingestion_config.yml', 'r') as file:\n",
    "    config = yaml.safe_load(file)\n",
    "  \n",
    "#load global configs\n",
    "databricks_config = config['databricks_config']\n",
    "chunk_extraction_config = config['chunk_extraction_config']\n",
    "\n",
    "#load uc configs\n",
    "catalog=databricks_config['catalog']\n",
    "schema=databricks_config['schema']\n",
    "silver_chunk_table = chunk_extraction_config[\"silver_table\"][\"name\"]\n",
    "gold_chunk_table_name = chunk_extraction_config[\"gold_table\"][\"name\"]\n",
    "gold_chunk_table_schema = chunk_extraction_config[\"gold_table\"][\"schema\"]\n",
    "\n",
    "scoring_llm_endpoint = chunk_extraction_config[\"gold_table\"][\"summarization_llm_config\"][\"llm_endpoint_name\"]\n",
    "scoring_llm_prompt = chunk_extraction_config[\"gold_table\"][\"summarization_llm_config\"][\"prompt\"]"
   ]
  },
  {
   "cell_type": "code",
   "execution_count": 0,
   "metadata": {
    "application/vnd.databricks.v1+cell": {
     "cellMetadata": {
      "byteLimit": 2048000,
      "rowLimit": 10000
     },
     "inputWidgets": {},
     "nuid": "3c96c434-4ce0-40c2-9796-e7439aa7cbbe",
     "showTitle": false,
     "tableResultSettingsMap": {},
     "title": ""
    }
   },
   "outputs": [],
   "source": [
    "from pyspark.sql.functions import col, lower\n",
    "silver_doc_chunks=spark.table(f\"{catalog}.{schema}.{silver_chunk_table}\").filter(col(\"quality_score\")==\"1\")"
   ]
  },
  {
   "cell_type": "code",
   "execution_count": 0,
   "metadata": {
    "application/vnd.databricks.v1+cell": {
     "cellMetadata": {
      "byteLimit": 2048000,
      "rowLimit": 10000
     },
     "inputWidgets": {},
     "nuid": "aa69dfc9-5cd5-4c29-a830-41695086b50f",
     "showTitle": false,
     "tableResultSettingsMap": {},
     "title": ""
    }
   },
   "outputs": [],
   "source": [
    "import uuid\n",
    "def generate_uuid(text):\n",
    "    return str(uuid.uuid5(uuid.NAMESPACE_DNS, text))\n",
    "\n",
    "generate_uuid_udf = udf(generate_uuid)"
   ]
  },
  {
   "cell_type": "code",
   "execution_count": 0,
   "metadata": {
    "application/vnd.databricks.v1+cell": {
     "cellMetadata": {
      "byteLimit": 2048000,
      "rowLimit": 10000
     },
     "inputWidgets": {},
     "nuid": "a453d330-80a6-418e-9626-ea648e399b42",
     "showTitle": false,
     "tableResultSettingsMap": {},
     "title": ""
    }
   },
   "outputs": [],
   "source": [
    "from pyspark.sql.functions import lit, concat, substring\n",
    "\n",
    "gold_chunk_table = (\n",
    "    silver_doc_chunks.selectExpr(\n",
    "        \"*\",\n",
    "        f\"ai_query('{scoring_llm_endpoint}', CONCAT('{scoring_llm_prompt}', doc_content)) as doc_summarization\",\n",
    "    )\n",
    "    .withColumn(\n",
    "        \"doc_content\",\n",
    "        concat(\n",
    "            lit(\"COMPANY: \"),\n",
    "            col(\"resolved_company\"),\n",
    "            lit(\"\\nDOCUMENT TYPE: \"),\n",
    "            col(\"document_type\"),\n",
    "            lit(\"\\nDOCUMENT YEAR: \"),\n",
    "            col(\"year\"),\n",
    "            lit(\"\\nDOC SUMMARY:\\n\"),\n",
    "            col(\"doc_summarization\"),\n",
    "            lit(\"\\n\\nDOC CONTENT:\\n\"),\n",
    "            col(\"doc_content\"),\n",
    "        ),\n",
    "    )\n",
    "    .withColumn(\n",
    "        \"chunk_id\", generate_uuid_udf(substring(col(\"doc_summarization\"), 1, 200))\n",
    "    )\n",
    "    .select(gold_chunk_table_schema)\n",
    ")"
   ]
  },
  {
   "cell_type": "code",
   "execution_count": 0,
   "metadata": {
    "application/vnd.databricks.v1+cell": {
     "cellMetadata": {
      "byteLimit": 2048000,
      "rowLimit": 10000
     },
     "inputWidgets": {},
     "nuid": "33756ae2-adbf-4855-989f-f8c4a37aed5f",
     "showTitle": false,
     "tableResultSettingsMap": {},
     "title": ""
    }
   },
   "outputs": [],
   "source": [
    "display(gold_chunk_table.limit(10))"
   ]
  },
  {
   "cell_type": "code",
   "execution_count": 0,
   "metadata": {
    "application/vnd.databricks.v1+cell": {
     "cellMetadata": {
      "byteLimit": 2048000,
      "rowLimit": 10000
     },
     "inputWidgets": {},
     "nuid": "6ee10bc0-3ce2-4d18-bb22-75be22f09ac0",
     "showTitle": false,
     "tableResultSettingsMap": {},
     "title": ""
    }
   },
   "outputs": [],
   "source": [
    "gold_chunk_table.write.mode(\"overwrite\").saveAsTable(f\"{catalog}.{schema}.{gold_chunk_table_name}\")"
   ]
  },
  {
   "cell_type": "code",
   "execution_count": 0,
   "metadata": {
    "application/vnd.databricks.v1+cell": {
     "cellMetadata": {
      "byteLimit": 2048000,
      "rowLimit": 10000
     },
     "inputWidgets": {},
     "nuid": "3f6fd21a-8840-4311-b9ea-47b77521ccbb",
     "showTitle": false,
     "tableResultSettingsMap": {},
     "title": ""
    }
   },
   "outputs": [],
   "source": [
    "spark.sql(f\"ALTER TABLE {catalog}.{schema}.{gold_chunk_table_name} SET TBLPROPERTIES (delta.enableChangeDataFeed = true)\")"
   ]
  },
  {
   "cell_type": "code",
   "execution_count": 0,
   "metadata": {
    "application/vnd.databricks.v1+cell": {
     "cellMetadata": {},
     "inputWidgets": {},
     "nuid": "5d048c83-63d0-4d48-b152-d8f7b931a2f3",
     "showTitle": false,
     "tableResultSettingsMap": {},
     "title": ""
    }
   },
   "outputs": [],
   "source": []
  }
 ],
 "metadata": {
  "application/vnd.databricks.v1+notebook": {
   "computePreferences": null,
   "dashboards": [],
   "environmentMetadata": {
    "base_environment": "",
    "environment_version": "2"
   },
   "inputWidgetPreferences": null,
   "language": "python",
   "notebookMetadata": {
    "pythonIndentUnit": 2
   },
   "notebookName": "04_generate_summarizations",
   "widgets": {}
  },
  "language_info": {
   "name": "python"
  }
 },
 "nbformat": 4,
 "nbformat_minor": 0
}
