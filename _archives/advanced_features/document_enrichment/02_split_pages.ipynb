{
 "cells": [
  {
   "cell_type": "code",
   "execution_count": 0,
   "metadata": {
    "application/vnd.databricks.v1+cell": {
     "cellMetadata": {
      "byteLimit": 2048000,
      "rowLimit": 10000
     },
     "inputWidgets": {},
     "nuid": "b2c94304-49a6-4c82-992d-09b5e7867ef7",
     "showTitle": false,
     "tableResultSettingsMap": {},
     "title": ""
    }
   },
   "outputs": [],
   "source": [
    "%pip install pdfplumber\n",
    "dbutils.library.restartPython()"
   ]
  },
  {
   "cell_type": "code",
   "execution_count": 0,
   "metadata": {
    "application/vnd.databricks.v1+cell": {
     "cellMetadata": {
      "byteLimit": 2048000,
      "rowLimit": 10000
     },
     "inputWidgets": {},
     "nuid": "bf4f07dd-e93d-414d-9600-0e8b2d66d82f",
     "showTitle": false,
     "tableResultSettingsMap": {},
     "title": ""
    }
   },
   "outputs": [],
   "source": [
    "import yaml\n",
    "\n",
    "with open('ingestion_config.yml', 'r') as file:\n",
    "    config = yaml.safe_load(file)\n",
    "  \n",
    "#load global configs\n",
    "databricks_config = config['databricks_config']\n",
    "chunk_extraction_config = config['chunk_extraction_config']\n",
    "\n",
    "#load uc configs\n",
    "catalog=databricks_config['catalog']\n",
    "schema=databricks_config['schema']\n",
    "gold_table = databricks_config[\"gold_table\"][\"name\"]\n",
    "bronze_chunk_table = chunk_extraction_config[\"bronze\"]"
   ]
  },
  {
   "cell_type": "code",
   "execution_count": 0,
   "metadata": {
    "application/vnd.databricks.v1+cell": {
     "cellMetadata": {
      "byteLimit": 2048000,
      "rowLimit": 10000
     },
     "inputWidgets": {},
     "nuid": "f8c15740-9b03-4273-a69e-1565d5d971ab",
     "showTitle": false,
     "tableResultSettingsMap": {},
     "title": ""
    }
   },
   "outputs": [],
   "source": [
    "import os\n",
    "import json\n",
    "from openai import OpenAI\n",
    "from dbruntime.databricks_repl_context import get_context\n",
    "\n",
    "from pyspark.sql.functions import explode, col, regexp_extract\n",
    "from pyspark.sql.types import ArrayType, StructType, StructField, StringType, IntegerType"
   ]
  },
  {
   "cell_type": "code",
   "execution_count": 0,
   "metadata": {
    "application/vnd.databricks.v1+cell": {
     "cellMetadata": {
      "byteLimit": 2048000,
      "rowLimit": 10000
     },
     "inputWidgets": {},
     "nuid": "8310a468-a8e3-4ad0-9e3e-f6c3c2f32819",
     "showTitle": false,
     "tableResultSettingsMap": {},
     "title": ""
    }
   },
   "outputs": [],
   "source": [
    "# parse pdf using pypdf\n",
    "@udf(\n",
    "    ArrayType(\n",
    "        StructType(\n",
    "            [\n",
    "                StructField(\"doc_content\", StringType()),\n",
    "                StructField(\"page_number\", IntegerType()),\n",
    "            ]\n",
    "        )\n",
    "    )\n",
    ")\n",
    "def parse_pdf(file_path):\n",
    "    import pdfplumber\n",
    "\n",
    "    try:\n",
    "        final_output = []\n",
    "        page_counter = 1\n",
    "        with pdfplumber.open(file_path) as pdf:\n",
    "            for page in pdf.pages:\n",
    "                parsed_content = page.extract_text()\n",
    "                page_data = {\n",
    "                    \"doc_content\": (str(parsed_content) if parsed_content else \"No Content\"),\n",
    "                    \"page_number\": page_counter,\n",
    "                }\n",
    "                final_output.append(page_data)\n",
    "                page_counter += 1\n",
    "        return final_output\n",
    "    except Exception as e:\n",
    "        print(f\"Exception {e} has been thrown during parsing\")\n",
    "        return [e]"
   ]
  },
  {
   "cell_type": "code",
   "execution_count": 0,
   "metadata": {
    "application/vnd.databricks.v1+cell": {
     "cellMetadata": {
      "byteLimit": 2048000,
      "rowLimit": 10000
     },
     "inputWidgets": {},
     "nuid": "45ecf2ce-1f3d-4e9d-a606-e1de43b29005",
     "showTitle": false,
     "tableResultSettingsMap": {},
     "title": ""
    }
   },
   "outputs": [],
   "source": [
    "from pyspark.sql.functions import explode, col\n",
    "from pyspark.sql.functions import regexp_extract\n",
    "\n",
    "sec_docs = spark.table(f\"{catalog}.{schema}.{gold_table}\")\n",
    "\n",
    "sec_docs_processed = (sec_docs\n",
    "    .withColumn(\"cleaned_path\", regexp_extract(col(\"path\"), \"dbfs:(.*)\", 1))\n",
    "    .withColumn(\"filename\", regexp_extract(col(\"path\"), \"/pdf/([^/]+)$\", 1))\n",
    "    .withColumn(\"parsed_content\", parse_pdf(\"cleaned_path\"))\n",
    ").select(\n",
    "    \"path\", \"modificationTime\", \"document_type\", \"year\", \"company\", \"resolved_company\", \"parsed_content\")"
   ]
  },
  {
   "cell_type": "code",
   "execution_count": 0,
   "metadata": {
    "application/vnd.databricks.v1+cell": {
     "cellMetadata": {
      "byteLimit": 2048000,
      "rowLimit": 10000
     },
     "inputWidgets": {},
     "nuid": "a3c20ad6-012a-4881-a52a-d72800cfe015",
     "showTitle": false,
     "tableResultSettingsMap": {},
     "title": ""
    }
   },
   "outputs": [],
   "source": [
    "display(sec_docs_processed)"
   ]
  },
  {
   "cell_type": "code",
   "execution_count": 0,
   "metadata": {
    "application/vnd.databricks.v1+cell": {
     "cellMetadata": {
      "byteLimit": 2048000,
      "rowLimit": 10000
     },
     "inputWidgets": {},
     "nuid": "ad2653b1-0e49-4740-b015-d8496df446fd",
     "showTitle": false,
     "tableResultSettingsMap": {},
     "title": ""
    }
   },
   "outputs": [],
   "source": [
    "sec_docs_processed.write.saveAsTable(f\"{catalog}.{schema}.{bronze_chunk_table}\")"
   ]
  },
  {
   "cell_type": "code",
   "execution_count": 0,
   "metadata": {
    "application/vnd.databricks.v1+cell": {
     "cellMetadata": {},
     "inputWidgets": {},
     "nuid": "6779960e-1644-4081-a13b-10735c7698ea",
     "showTitle": false,
     "tableResultSettingsMap": {},
     "title": ""
    }
   },
   "outputs": [],
   "source": []
  }
 ],
 "metadata": {
  "application/vnd.databricks.v1+notebook": {
   "computePreferences": null,
   "dashboards": [],
   "environmentMetadata": null,
   "inputWidgetPreferences": null,
   "language": "python",
   "notebookMetadata": {
    "mostRecentlyExecutedCommandWithImplicitDF": {
     "commandId": 3819540237370012,
     "dataframes": [
      "_sqldf"
     ]
    },
    "pythonIndentUnit": 2
   },
   "notebookName": "02_split_pages",
   "widgets": {}
  },
  "language_info": {
   "name": "python"
  }
 },
 "nbformat": 4,
 "nbformat_minor": 0
}
