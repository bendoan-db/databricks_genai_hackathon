{
 "cells": [
  {
   "cell_type": "code",
   "execution_count": 0,
   "metadata": {
    "application/vnd.databricks.v1+cell": {
     "cellMetadata": {
      "byteLimit": 2048000,
      "rowLimit": 10000
     },
     "inputWidgets": {},
     "nuid": "9006ea89-31d5-4034-8a34-a23149701918",
     "showTitle": false,
     "tableResultSettingsMap": {},
     "title": ""
    }
   },
   "outputs": [],
   "source": [
    "%pip install -q databricks-vectorsearch\n",
    "dbutils.library.restartPython()"
   ]
  },
  {
   "cell_type": "code",
   "execution_count": 0,
   "metadata": {
    "application/vnd.databricks.v1+cell": {
     "cellMetadata": {
      "byteLimit": 2048000,
      "rowLimit": 10000
     },
     "inputWidgets": {},
     "nuid": "e969c084-4c85-485b-8194-3f705b9db81f",
     "showTitle": false,
     "tableResultSettingsMap": {},
     "title": ""
    }
   },
   "outputs": [],
   "source": [
    "import yaml\n",
    "\n",
    "with open('ingestion_config.yml', 'r') as file:\n",
    "    config = yaml.safe_load(file)\n",
    "\n",
    "#load global configs\n",
    "databricks_config = config['databricks_config']\n",
    "entity_resolution_config = config['entity_resolution_config']\n",
    "\n",
    "#load uc configs\n",
    "catalog=databricks_config['catalog']\n",
    "schema=databricks_config['schema']\n",
    "entities_table = entity_resolution_config['gold_entity_table']\n",
    "\n",
    "#load vs configs\n",
    "vector_search_endpoint = entity_resolution_config['vector_search_endpoint']\n",
    "vector_search_index = entity_resolution_config['vector_search_index']\n",
    "embedding_model = entity_resolution_config['embedding_model']\n",
    "vector_search_id_column = entity_resolution_config['vector_search_id_column']\n",
    "embedding_source_column = entity_resolution_config['embedding_source_column']"
   ]
  },
  {
   "cell_type": "code",
   "execution_count": 0,
   "metadata": {
    "application/vnd.databricks.v1+cell": {
     "cellMetadata": {
      "byteLimit": 2048000,
      "rowLimit": 10000
     },
     "inputWidgets": {},
     "nuid": "231d6d48-9145-4491-a844-8bd26be0c593",
     "showTitle": false,
     "tableResultSettingsMap": {},
     "title": ""
    }
   },
   "outputs": [],
   "source": [
    "import os\n",
    "\n",
    "#load csv with company names\n",
    "file_path = (os.getcwd() + \"/sec_companies.csv\")\n",
    "company_names = spark.read.format(\"csv\").option(\"header\", \"true\").load(\"file:\" + file_path)\n",
    "display(company_names)"
   ]
  },
  {
   "cell_type": "code",
   "execution_count": 0,
   "metadata": {
    "application/vnd.databricks.v1+cell": {
     "cellMetadata": {
      "byteLimit": 2048000,
      "rowLimit": 10000
     },
     "inputWidgets": {},
     "nuid": "6aed9f26-9d5c-4b4b-8d15-660982b8ab5e",
     "showTitle": false,
     "tableResultSettingsMap": {},
     "title": ""
    }
   },
   "outputs": [],
   "source": [
    "company_names_list = company_names.select(\"company_name\").rdd.flatMap(lambda x: x).collect()\n",
    "company_names_list"
   ]
  },
  {
   "cell_type": "code",
   "execution_count": 0,
   "metadata": {
    "application/vnd.databricks.v1+cell": {
     "cellMetadata": {
      "byteLimit": 2048000,
      "rowLimit": 10000
     },
     "inputWidgets": {},
     "nuid": "c887af67-ca61-4980-af8b-e5b73f3cd3fd",
     "showTitle": false,
     "tableResultSettingsMap": {},
     "title": ""
    }
   },
   "outputs": [],
   "source": [
    "#write entities to table\n",
    "company_names.write.mode(\"overwrite\").saveAsTable(f\"{catalog}.{schema}.{entities_table}\")"
   ]
  },
  {
   "cell_type": "code",
   "execution_count": 0,
   "metadata": {
    "application/vnd.databricks.v1+cell": {
     "cellMetadata": {
      "byteLimit": 2048000,
      "rowLimit": 10000
     },
     "inputWidgets": {},
     "nuid": "2e5133fb-feda-4547-a572-f43132eb9d0d",
     "showTitle": false,
     "tableResultSettingsMap": {},
     "title": ""
    }
   },
   "outputs": [],
   "source": [
    "from databricks.vector_search.client import VectorSearchClient\n",
    "\n",
    "#create vector search index\n",
    "spark.sql(\"ALTER TABLE `doan`.`alphaledger`.`company_entities` SET TBLPROPERTIES (delta.enableChangeDataFeed = true)\")\n",
    "\n",
    "client = VectorSearchClient()\n",
    "\n",
    "index = client.create_delta_sync_index(\n",
    "  endpoint_name=vector_search_endpoint,\n",
    "  source_table_name=f\"{catalog}.{schema}.{entities_table}\",\n",
    "  index_name=f\"{catalog}.{schema}.{vector_search_index}\",\n",
    "  pipeline_type=\"TRIGGERED\",\n",
    "  primary_key=vector_search_id_column,\n",
    "  embedding_source_column=embedding_source_column,\n",
    "  embedding_model_endpoint_name=embedding_model\n",
    ")"
   ]
  },
  {
   "cell_type": "code",
   "execution_count": 0,
   "metadata": {
    "application/vnd.databricks.v1+cell": {
     "cellMetadata": {},
     "inputWidgets": {},
     "nuid": "70c60e90-2da0-46d6-b387-5f3280f3eb27",
     "showTitle": false,
     "tableResultSettingsMap": {},
     "title": ""
    }
   },
   "outputs": [],
   "source": []
  }
 ],
 "metadata": {
  "application/vnd.databricks.v1+notebook": {
   "computePreferences": null,
   "dashboards": [],
   "environmentMetadata": {
    "base_environment": "",
    "environment_version": "2"
   },
   "inputWidgetPreferences": null,
   "language": "python",
   "notebookMetadata": {
    "pythonIndentUnit": 2
   },
   "notebookName": "00_setup_index",
   "widgets": {}
  },
  "language_info": {
   "name": "python"
  }
 },
 "nbformat": 4,
 "nbformat_minor": 0
}
