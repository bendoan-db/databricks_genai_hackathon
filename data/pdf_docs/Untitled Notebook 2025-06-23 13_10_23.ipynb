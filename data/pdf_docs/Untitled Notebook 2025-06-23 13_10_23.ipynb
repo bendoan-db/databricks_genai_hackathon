{
 "cells": [
  {
   "cell_type": "code",
   "execution_count": 0,
   "metadata": {
    "application/vnd.databricks.v1+cell": {
     "cellMetadata": {
      "byteLimit": 2048000,
      "rowLimit": 10000
     },
     "inputWidgets": {},
     "nuid": "8ca62fe6-5d18-45d1-9d42-11dfea47fdd9",
     "showTitle": false,
     "tableResultSettingsMap": {},
     "title": ""
    }
   },
   "outputs": [],
   "source": [
    "import os\n",
    "import glob\n",
    "\n",
    "source_path = '/Volumes/field_ai_examples/alphaleger/financebench/pdf/'\n",
    "destination_path = os.getcwd()\n",
    "\n",
    "pdf_files = dbutils.fs.ls(source_path)"
   ]
  },
  {
   "cell_type": "code",
   "execution_count": 0,
   "metadata": {
    "application/vnd.databricks.v1+cell": {
     "cellMetadata": {
      "byteLimit": 2048000,
      "rowLimit": 10000
     },
     "inputWidgets": {},
     "nuid": "4925c773-693e-448b-bb61-b09ecb3ce991",
     "showTitle": false,
     "tableResultSettingsMap": {},
     "title": ""
    }
   },
   "outputs": [],
   "source": [
    "destination_path"
   ]
  },
  {
   "cell_type": "code",
   "execution_count": 0,
   "metadata": {
    "application/vnd.databricks.v1+cell": {
     "cellMetadata": {},
     "inputWidgets": {},
     "nuid": "1fde4f55-71c7-4aad-a6bb-c74c5111d42a",
     "showTitle": false,
     "tableResultSettingsMap": {},
     "title": ""
    }
   },
   "outputs": [],
   "source": []
  },
  {
   "cell_type": "code",
   "execution_count": 0,
   "metadata": {
    "application/vnd.databricks.v1+cell": {
     "cellMetadata": {
      "byteLimit": 2048000,
      "rowLimit": 10000
     },
     "inputWidgets": {},
     "nuid": "5a3d2066-cee4-4efa-b2fa-997168ca71a9",
     "showTitle": false,
     "tableResultSettingsMap": {},
     "title": ""
    }
   },
   "outputs": [],
   "source": [
    "for file_info in pdf_files:\n",
    "    if file_info.name.endswith('.pdf'):\n",
    "        dbutils.fs.cp(file_info.path, \"file://\"+destination_path)"
   ]
  },
  {
   "cell_type": "code",
   "execution_count": 0,
   "metadata": {
    "application/vnd.databricks.v1+cell": {
     "cellMetadata": {
      "byteLimit": 2048000,
      "rowLimit": 10000
     },
     "inputWidgets": {},
     "nuid": "b19c4ed9-2fa3-489e-85fe-cbc9bd08a53f",
     "showTitle": false,
     "tableResultSettingsMap": {},
     "title": ""
    }
   },
   "outputs": [],
   "source": [
    "path = \"file:///Workspace/Users/ben.doan@databricks.com/databricks_genai_hackathon/data/pdf_docs\"\n",
    "files = dbutils.fs.ls(path)\n",
    "\n",
    "for file_info in files:\n",
    "    if file_info.name.endswith('.crc'):\n",
    "        dbutils.fs.rm(file_info.path)"
   ]
  },
  {
   "cell_type": "code",
   "execution_count": 0,
   "metadata": {
    "application/vnd.databricks.v1+cell": {
     "cellMetadata": {
      "byteLimit": 2048000,
      "rowLimit": 10000
     },
     "inputWidgets": {},
     "nuid": "226d12d5-2f3f-42be-8010-c11cd0a434f4",
     "showTitle": false,
     "tableResultSettingsMap": {},
     "title": ""
    }
   },
   "outputs": [],
   "source": [
    "dbutils.fs.rm(\"file:///Workspace/Users/ben.doan@databricks.com/databricks_genai_hackathon/data/pdf_docs/.3M_2015_10K.pdf.crc\")"
   ]
  },
  {
   "cell_type": "code",
   "execution_count": 0,
   "metadata": {
    "application/vnd.databricks.v1+cell": {
     "cellMetadata": {
      "byteLimit": 2048000,
      "rowLimit": 10000
     },
     "inputWidgets": {},
     "nuid": "fcd3ad73-3b16-4368-8db9-d563d0e03211",
     "showTitle": false,
     "tableResultSettingsMap": {},
     "title": ""
    }
   },
   "outputs": [],
   "source": [
    "path = \"file:///Workspace/Users/ben.doan@databricks.com/databricks_genai_hackathon/data/pdf_docs\"\n",
    "files = dbutils.fs.ls(path)\n",
    "\n",
    "crc_files = [file_info.name for file_info in files if file_info.name.endswith('.crc')]\n",
    "crc_files"
   ]
  },
  {
   "cell_type": "code",
   "execution_count": 0,
   "metadata": {
    "application/vnd.databricks.v1+cell": {
     "cellMetadata": {
      "byteLimit": 2048000,
      "rowLimit": 10000
     },
     "inputWidgets": {},
     "nuid": "859e889f-3d24-457d-b04e-ba95264de408",
     "showTitle": false,
     "tableResultSettingsMap": {},
     "title": ""
    }
   },
   "outputs": [],
   "source": [
    "files = dbutils.fs.ls(path)\n",
    "files"
   ]
  },
  {
   "cell_type": "code",
   "execution_count": 0,
   "metadata": {
    "application/vnd.databricks.v1+cell": {
     "cellMetadata": {
      "byteLimit": 2048000,
      "rowLimit": 10000
     },
     "inputWidgets": {},
     "nuid": "b56b839d-d983-4801-bdf6-b7ca66ae8ecc",
     "showTitle": false,
     "tableResultSettingsMap": {},
     "title": ""
    }
   },
   "outputs": [],
   "source": [
    "target = \"/Volumes/field_ai_examples/alphaleger/financebench/pdf/3M_2015_10K.pdf\"\n",
    "dbutils.fs.cp(target, \"file://\"+destination_path)"
   ]
  },
  {
   "cell_type": "code",
   "execution_count": 0,
   "metadata": {
    "application/vnd.databricks.v1+cell": {
     "cellMetadata": {
      "byteLimit": 2048000,
      "rowLimit": 10000
     },
     "inputWidgets": {},
     "nuid": "002f66f3-175d-4a42-8ab2-f3a14bba1c08",
     "showTitle": false,
     "tableResultSettingsMap": {},
     "title": ""
    }
   },
   "outputs": [],
   "source": [
    "import os\n",
    "from pathlib import Path\n",
    "\n",
    "# ------------------------------------------------------------------\n",
    "# 1.  Point to the directory that holds your PDFs / .crc files\n",
    "# ------------------------------------------------------------------\n",
    "DIR = Path(\"/Workspace/Users/ben.doan@databricks.com/databricks_genai_hackathon/data/pdf_docs\")\n",
    "\n",
    "# Safety check – verify the directory exists\n",
    "if not DIR.is_dir():\n",
    "    raise FileNotFoundError(f\"{DIR} does not exist. Double-check the path.\")\n",
    "\n",
    "# ------------------------------------------------------------------\n",
    "# 2.  List and delete every *.crc file\n",
    "# ------------------------------------------------------------------\n",
    "deleted, failed = [], []\n",
    "\n",
    "for crc_file in DIR.glob(\"*.crc\"):\n",
    "    try:\n",
    "        crc_file.unlink()          # removes the file\n",
    "        deleted.append(crc_file)\n",
    "    except Exception as err:\n",
    "        failed.append((crc_file, err))\n",
    "\n",
    "# ------------------------------------------------------------------\n",
    "# 3.  Summarise what happened\n",
    "# ------------------------------------------------------------------\n",
    "print(f\"Removed {len(deleted)} '.crc' file(s).\")\n",
    "if failed:\n",
    "    print(\"\\n⚠️  The following files could not be deleted:\")\n",
    "    for path, err in failed:\n",
    "        print(f\"  - {path} : {err}\")\n"
   ]
  },
  {
   "cell_type": "code",
   "execution_count": 0,
   "metadata": {
    "application/vnd.databricks.v1+cell": {
     "cellMetadata": {},
     "inputWidgets": {},
     "nuid": "70a3e672-42f5-4a83-bc63-30bdcd29a539",
     "showTitle": false,
     "tableResultSettingsMap": {},
     "title": ""
    }
   },
   "outputs": [],
   "source": []
  }
 ],
 "metadata": {
  "application/vnd.databricks.v1+notebook": {
   "computePreferences": null,
   "dashboards": [],
   "environmentMetadata": {
    "base_environment": "",
    "environment_version": "2"
   },
   "inputWidgetPreferences": null,
   "language": "python",
   "notebookMetadata": {
    "pythonIndentUnit": 2
   },
   "notebookName": "Untitled Notebook 2025-06-23 13_10_23",
   "widgets": {}
  },
  "language_info": {
   "name": "python"
  }
 },
 "nbformat": 4,
 "nbformat_minor": 0
}
