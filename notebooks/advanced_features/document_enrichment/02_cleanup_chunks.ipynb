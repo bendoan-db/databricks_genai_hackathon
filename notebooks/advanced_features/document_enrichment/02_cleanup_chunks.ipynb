{
 "cells": [
  {
   "cell_type": "code",
   "execution_count": 0,
   "metadata": {
    "application/vnd.databricks.v1+cell": {
     "cellMetadata": {},
     "inputWidgets": {},
     "nuid": "e3b4ea0c-a639-44d1-8f0e-4e6b6bf248a4",
     "showTitle": false,
     "tableResultSettingsMap": {},
     "title": ""
    }
   },
   "outputs": [],
   "source": [
    "import yaml\n",
    "\n",
    "with open('ingestion_config.yml', 'r') as file:\n",
    "    config = yaml.safe_load(file)\n",
    "\n",
    "databricks_config = config['databricks_config']\n",
    "llm_config = config['llm_config']\n",
    "\n",
    "catalog=databricks_config['catalog']\n",
    "schema=databricks_config['schema']\n",
    "silver_table=databricks_config['silver_table']"
   ]
  },
  {
   "cell_type": "code",
   "execution_count": 0,
   "metadata": {
    "application/vnd.databricks.v1+cell": {
     "cellMetadata": {
      "byteLimit": 2048000,
      "rowLimit": 10000
     },
     "inputWidgets": {},
     "nuid": "3c96c434-4ce0-40c2-9796-e7439aa7cbbe",
     "showTitle": false,
     "tableResultSettingsMap": {},
     "title": ""
    }
   },
   "outputs": [],
   "source": [
    "from pyspark.sql.functions import col, lower\n",
    "silver=spark.table(\"doan.alphaledger.sec_docs_silver\").select(\"*\", \"extracted_data.*\").drop(\"extracted_data\").withColumn(\"company\", lower(col(\"company\")))\n",
    "display(silver)"
   ]
  },
  {
   "cell_type": "code",
   "execution_count": 0,
   "metadata": {
    "application/vnd.databricks.v1+cell": {
     "cellMetadata": {
      "byteLimit": 2048000,
      "rowLimit": 10000
     },
     "inputWidgets": {},
     "nuid": "3ddfff65-89a0-4213-bc21-b7ca5956ec97",
     "showTitle": false,
     "tableResultSettingsMap": {},
     "title": ""
    }
   },
   "outputs": [],
   "source": [
    "display(silver.groupBy(\"document_type\").count())\n",
    "display(silver.groupBy(\"company\").count())"
   ]
  },
  {
   "cell_type": "code",
   "execution_count": 0,
   "metadata": {
    "application/vnd.databricks.v1+cell": {
     "cellMetadata": {
      "byteLimit": 2048000,
      "rowLimit": 10000
     },
     "inputWidgets": {},
     "nuid": "a22ad70d-3751-4ef2-8f82-532665243398",
     "showTitle": false,
     "tableResultSettingsMap": {},
     "title": ""
    }
   },
   "outputs": [],
   "source": [
    "#manually cleanup some company names\n",
    "from pyspark.sql.functions import when, col\n",
    "\n",
    "silver = silver.withColumn(\"company\", when(col(\"company\") == \"activsionblizzard\", \"activisionblizzard\").otherwise(col(\"company\")))\\\n",
    "  .withColumn(\"company\", when(col(\"company\") == \"johnson johnson\", \"johnsonjohnson\").otherwise(col(\"company\")))\\\n",
    "  .withColumn(\"company\", when(col(\"company\") == \"johnson_johnson\", \"johnsonjohnson\").otherwise(col(\"company\")))\\\n",
    "  .withColumn(\"company\", when(col(\"company\") == \"pg_e\", \"pg&e\").otherwise(col(\"company\")))"
   ]
  },
  {
   "cell_type": "code",
   "execution_count": 0,
   "metadata": {
    "application/vnd.databricks.v1+cell": {
     "cellMetadata": {
      "byteLimit": 2048000,
      "rowLimit": 10000
     },
     "inputWidgets": {},
     "nuid": "e000e5ad-eff9-49f3-bcbc-978f1973018a",
     "showTitle": false,
     "tableResultSettingsMap": {},
     "title": ""
    }
   },
   "outputs": [],
   "source": [
    "display(silver.groupBy(\"company\").count())"
   ]
  },
  {
   "cell_type": "code",
   "execution_count": 0,
   "metadata": {
    "application/vnd.databricks.v1+cell": {
     "cellMetadata": {
      "byteLimit": 2048000,
      "rowLimit": 10000
     },
     "inputWidgets": {},
     "nuid": "9eb6829d-b4d4-44c9-acf3-fce2fb937c93",
     "showTitle": false,
     "tableResultSettingsMap": {},
     "title": ""
    }
   },
   "outputs": [],
   "source": [
    "summarization_prompt = \"\"\"The following document chunk was extracted from an SEC filing (10k, 8k, 10q, etc.). Summarize and situate the chunk in the larger context of an SEC doc. You should return a concise but descriptive summarization. Additionally, if the chunk contains any financial information, you should clearly highlight the financial metrics, data, and figures in the chunk. Additionally, you should identify the SEC filing items and section that the chunk falls into, if possible, in your summarization. RETURN ONLY THE SUMMARIZATION AND NOTHING ELSE. Below is some additional information to aid in your summarization.\n",
    "\n",
    "\"\"\""
   ]
  },
  {
   "cell_type": "code",
   "execution_count": 0,
   "metadata": {
    "application/vnd.databricks.v1+cell": {
     "cellMetadata": {
      "byteLimit": 2048000,
      "rowLimit": 10000
     },
     "inputWidgets": {},
     "nuid": "6f7e2dc1-b78e-4cc4-8032-b0838d09ad31",
     "showTitle": false,
     "tableResultSettingsMap": {},
     "title": ""
    }
   },
   "outputs": [],
   "source": [
    "from pyspark.sql.functions import concat, lit\n",
    "silver_with_summarization_prompt = silver.withColumn(\n",
    "  \"summarization_prompt\",\n",
    "  concat(\n",
    "    lit(summarization_prompt),\n",
    "    lit(\"Comapny Name: \"),\n",
    "    col(\"company\"),\n",
    "    lit(\"\\nSEC Document Type: \"),\n",
    "    col(\"document_type\"),\n",
    "    lit(\"\\nDocument Year: \"),\n",
    "    col(\"year\"),\n",
    "    lit(\"\\n\\nDOCUMENT CHUNK:\\n\"),\n",
    "    col(\"page_content\")\n",
    "  )\n",
    ")\n",
    "\n",
    "display(silver_with_summarization_prompt)"
   ]
  },
  {
   "cell_type": "code",
   "execution_count": 0,
   "metadata": {
    "application/vnd.databricks.v1+cell": {
     "cellMetadata": {
      "byteLimit": 2048000,
      "rowLimit": 10000
     },
     "inputWidgets": {},
     "nuid": "6cbc002b-d1a6-499d-9a19-70c4aff76f6b",
     "showTitle": false,
     "tableResultSettingsMap": {},
     "title": ""
    }
   },
   "outputs": [],
   "source": [
    "display(silver_with_summarization_prompt.limit(10).selectExpr(\"*\", \"ai_summarize(summarization_prompt, 500) as ai_summarization\"))"
   ]
  },
  {
   "cell_type": "code",
   "execution_count": 0,
   "metadata": {
    "application/vnd.databricks.v1+cell": {
     "cellMetadata": {
      "byteLimit": 2048000,
      "rowLimit": 10000
     },
     "inputWidgets": {},
     "nuid": "526f52bd-b629-4488-8afc-c783d4a67f42",
     "showTitle": false,
     "tableResultSettingsMap": {},
     "title": ""
    }
   },
   "outputs": [],
   "source": [
    "sec_docs_gold = silver_with_summarization_prompt.limit(10).selectExpr(\"*\", \"ai_summarize(summarization_prompt, 500) as ai_summarization\").select(\"chunk_id\",\"path\",\"page_content\",\"document_type\",\"year\",\"company\",\"ai_summarization\")"
   ]
  },
  {
   "cell_type": "code",
   "execution_count": 0,
   "metadata": {
    "application/vnd.databricks.v1+cell": {
     "cellMetadata": {},
     "inputWidgets": {},
     "nuid": "6ee10bc0-3ce2-4d18-bb22-75be22f09ac0",
     "showTitle": false,
     "tableResultSettingsMap": {},
     "title": ""
    }
   },
   "outputs": [],
   "source": []
  }
 ],
 "metadata": {
  "application/vnd.databricks.v1+notebook": {
   "computePreferences": null,
   "dashboards": [],
   "environmentMetadata": {
    "base_environment": "",
    "environment_version": "2"
   },
   "inputWidgetPreferences": null,
   "language": "python",
   "notebookMetadata": {
    "pythonIndentUnit": 2
   },
   "notebookName": "02_cleanup_chunks",
   "widgets": {}
  },
  "language_info": {
   "name": "python"
  }
 },
 "nbformat": 4,
 "nbformat_minor": 0
}
