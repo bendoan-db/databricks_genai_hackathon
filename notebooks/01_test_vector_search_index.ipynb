{
 "cells": [
  {
   "cell_type": "code",
   "execution_count": 0,
   "metadata": {
    "application/vnd.databricks.v1+cell": {
     "cellMetadata": {
      "byteLimit": 2048000,
      "rowLimit": 10000
     },
     "inputWidgets": {},
     "nuid": "1a443ab0-79ed-4d6d-9d70-4377f60cd82e",
     "showTitle": false,
     "tableResultSettingsMap": {},
     "title": ""
    },
    "jupyter": {
     "outputs_hidden": true
    }
   },
   "outputs": [],
   "source": [
    "# %pip install -U -qqqq databricks-vectorsearch mlflow\n",
    "# %restart_python"
   ]
  },
  {
   "cell_type": "code",
   "execution_count": 0,
   "metadata": {
    "application/vnd.databricks.v1+cell": {
     "cellMetadata": {
      "byteLimit": 2048000,
      "rowLimit": 10000
     },
     "inputWidgets": {},
     "nuid": "703e19f8-9929-4a61-aee6-a036f3ee886e",
     "showTitle": false,
     "tableResultSettingsMap": {},
     "title": ""
    }
   },
   "outputs": [],
   "source": [
    "from databricks.vector_search.client import VectorSearchClient\n",
    "from datetime import timedelta\n",
    "import time"
   ]
  },
  {
   "cell_type": "code",
   "execution_count": 0,
   "metadata": {
    "application/vnd.databricks.v1+cell": {
     "cellMetadata": {
      "byteLimit": 2048000,
      "rowLimit": 10000
     },
     "inputWidgets": {},
     "nuid": "047c70f7-21c2-4002-a4e2-ecc546a11983",
     "showTitle": false,
     "tableResultSettingsMap": {},
     "title": ""
    }
   },
   "outputs": [],
   "source": [
    "import sys, os, yaml\n",
    "sys.path.append(os.path.abspath('..'))\n",
    "from configs.project import ProjectConfig\n",
    "\n",
    "with open(\"../configs/project.yml\", \"r\") as file:\n",
    "    data = yaml.safe_load(file)\n",
    "\n",
    "projectConfig = ProjectConfig(**data)"
   ]
  },
  {
   "cell_type": "code",
   "execution_count": 0,
   "metadata": {
    "application/vnd.databricks.v1+cell": {
     "cellMetadata": {
      "byteLimit": 2048000,
      "rowLimit": 10000
     },
     "inputWidgets": {},
     "nuid": "5a932e9d-2da9-41ea-9e16-83a5c23fdf63",
     "showTitle": false,
     "tableResultSettingsMap": {},
     "title": ""
    }
   },
   "outputs": [],
   "source": [
    "vs_config = projectConfig.vector_search_attributes[\"id_1\"]\n",
    "\n",
    "for k, v in vs_config.model_dump().items():\n",
    "  print(k, v)"
   ]
  },
  {
   "cell_type": "code",
   "execution_count": 0,
   "metadata": {
    "application/vnd.databricks.v1+cell": {
     "cellMetadata": {
      "byteLimit": 2048000,
      "rowLimit": 10000
     },
     "inputWidgets": {},
     "nuid": "279d242f-4be0-447f-a866-719191bf4a86",
     "showTitle": false,
     "tableResultSettingsMap": {},
     "title": ""
    }
   },
   "outputs": [],
   "source": [
    "print(\"source_table_name\", vs_config.source_table_name)\n",
    "print(\"endpoint_name\", vs_config.endpoint_name)\n",
    "print(\"index_name\", vs_config.index_name)\n"
   ]
  },
  {
   "cell_type": "code",
   "execution_count": 0,
   "metadata": {
    "application/vnd.databricks.v1+cell": {
     "cellMetadata": {
      "byteLimit": 2048000,
      "rowLimit": 10000
     },
     "inputWidgets": {},
     "nuid": "185e2421-a523-4169-a843-32073c7df924",
     "showTitle": false,
     "tableResultSettingsMap": {},
     "title": ""
    }
   },
   "outputs": [],
   "source": [
    "vsc = VectorSearchClient(\n",
    "  # disable_notice=True,\n",
    "  # workspace_url = \"https://e2-demo-field-eng.cloud.databricks.com/\",\n",
    "  # service_principal_client_id = dbutils.secrets.get(\"felix-flory\", \"SERVICE_PRINCIPAL_ID\"),\n",
    "  # service_principal_client_secret = dbutils.secrets.get(\"felix-flory\", \"SERVICE_PRINCIPAL_SECRET\"),\n",
    "  )\n",
    "index = vsc.get_index(vs_config.endpoint_name, vs_config.index_name)"
   ]
  },
  {
   "cell_type": "markdown",
   "metadata": {
    "application/vnd.databricks.v1+cell": {
     "cellMetadata": {},
     "inputWidgets": {},
     "nuid": "ffdc1375-00bd-4d25-8c23-6ee405ba9983",
     "showTitle": false,
     "tableResultSettingsMap": {},
     "title": ""
    }
   },
   "source": [
    "similarity_search: https://api-docs.databricks.com/python/vector-search/databricks.vector_search.html#databricks.vector_search.index.VectorSearchIndex.similarity_search\n",
    "\n",
    "Filters: https://docs.databricks.com/aws/en/generative-ai/vector-search"
   ]
  },
  {
   "cell_type": "code",
   "execution_count": 0,
   "metadata": {
    "application/vnd.databricks.v1+cell": {
     "cellMetadata": {
      "byteLimit": 2048000,
      "rowLimit": 10000
     },
     "inputWidgets": {},
     "nuid": "1b7ec204-fbe5-4905-9e30-49a0ca75b504",
     "showTitle": false,
     "tableResultSettingsMap": {},
     "title": ""
    }
   },
   "outputs": [],
   "source": [
    "columns = spark.table(vs_config.source_table_name).columns\n",
    "filters = {\n",
    "    \"company\": \"american express\",  # \"apple\"\n",
    "    \"doc_section\": \"Item 6: Selected Financial Data\",\n",
    "}"
   ]
  },
  {
   "cell_type": "code",
   "execution_count": 0,
   "metadata": {
    "application/vnd.databricks.v1+cell": {
     "cellMetadata": {
      "byteLimit": 2048000,
      "rowLimit": 10000
     },
     "inputWidgets": {},
     "nuid": "0e2400f5-18f4-4869-98dd-659ab2b2d32f",
     "showTitle": false,
     "tableResultSettingsMap": {},
     "title": ""
    }
   },
   "outputs": [],
   "source": [
    "results = index.similarity_search(\n",
    "  query_text=\"What was the last earnings results from American Express\",\n",
    "  columns=columns,\n",
    "  num_results=10,\n",
    "  filters = filters,\n",
    "  query_type = \"ANN\", # \"ANN\" or HYBRID\"\n",
    "  score_threshold = 0.50\n",
    ")\n",
    "\n",
    "if results[\"result\"][\"row_count\"] >0:\n",
    "  display(results[\"result\"][\"data_array\"])\n",
    "else:\n",
    "  print(\"No records\")\n"
   ]
  },
  {
   "cell_type": "markdown",
   "metadata": {
    "application/vnd.databricks.v1+cell": {
     "cellMetadata": {},
     "inputWidgets": {},
     "nuid": "d358b589-aaed-4c0e-8a20-1271601b63f0",
     "showTitle": false,
     "tableResultSettingsMap": {},
     "title": ""
    }
   },
   "source": [
    "# Integrate into Langchain\n",
    "\n",
    "api docs: https://api-docs.databricks.com/python/databricks-ai-bridge/latest/databricks_langchain.html#databricks_langchain.VectorSearchRetrieverTool\n"
   ]
  },
  {
   "cell_type": "code",
   "execution_count": 0,
   "metadata": {
    "application/vnd.databricks.v1+cell": {
     "cellMetadata": {
      "byteLimit": 2048000,
      "rowLimit": 10000
     },
     "inputWidgets": {},
     "nuid": "2ca44a85-6926-4e8c-b26c-7d75a57b761f",
     "showTitle": false,
     "tableResultSettingsMap": {},
     "title": ""
    }
   },
   "outputs": [],
   "source": [
    "from databricks_langchain import VectorSearchRetrieverTool, ChatDatabricks\n",
    "\n",
    "# Initialize the retriever tool.\n",
    "vs_tool = VectorSearchRetrieverTool(\n",
    "  index_name=vs_config.index_name,\n",
    "  tool_name=\"docs_retriever\",\n",
    "  tool_description=\"Retrieves information about SEC filings\",\n",
    "  # client_args = {\n",
    "  #   \"disable_notice\": True,\n",
    "  #   \"workspace_url\": \"https://e2-demo-field-eng.cloud.databricks.com/\",\n",
    "  #   \"service_principal_client_id\": dbutils.secrets.get(\"felix-flory\", \"SERVICE_PRINCIPAL_ID\"),\n",
    "  #   \"service_principal_client_secret\": dbutils.secrets.get(\"felix-flory\", \"SERVICE_PRINCIPAL_SECRET\") \n",
    "  # }\n",
    ")\n",
    "\n",
    "# Run a query against the vector search index locally for testing\n",
    "vs_tool.invoke(\"What was the last earnings results from American Express\", disable_notice=True)"
   ]
  },
  {
   "cell_type": "code",
   "execution_count": 0,
   "metadata": {
    "application/vnd.databricks.v1+cell": {
     "cellMetadata": {
      "byteLimit": 2048000,
      "rowLimit": 10000
     },
     "inputWidgets": {},
     "nuid": "2516a100-493c-47e8-b0f4-0c2b70a8c426",
     "showTitle": false,
     "tableResultSettingsMap": {},
     "title": ""
    }
   },
   "outputs": [],
   "source": [
    "# Bind the retriever tool to your Langchain LLM of choice\n",
    "llm = ChatDatabricks(endpoint=\"databricks-meta-llama-3-1-70b-instruct\", temperature = 0.0)\n",
    "llm_with_tools = llm.bind_tools([vs_tool])\n",
    "\n",
    "# Chat with your LLM to test the tool calling functionality\n",
    "llm_with_tools.invoke(\"What was the last earnings results from American Express\")"
   ]
  }
 ],
 "metadata": {
  "application/vnd.databricks.v1+notebook": {
   "computePreferences": null,
   "dashboards": [],
   "environmentMetadata": {
    "base_environment": "",
    "environment_version": "2"
   },
   "inputWidgetPreferences": null,
   "language": "python",
   "notebookMetadata": {
    "pythonIndentUnit": 2
   },
   "notebookName": "01_test_vector_search_index",
   "widgets": {}
  },
  "language_info": {
   "name": "python"
  }
 },
 "nbformat": 4,
 "nbformat_minor": 0
}
