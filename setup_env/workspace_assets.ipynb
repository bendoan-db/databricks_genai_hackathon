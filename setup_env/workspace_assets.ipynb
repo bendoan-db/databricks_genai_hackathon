{
 "cells": [
  {
   "cell_type": "code",
   "execution_count": 0,
   "metadata": {
    "application/vnd.databricks.v1+cell": {
     "cellMetadata": {
      "byteLimit": 2048000,
      "rowLimit": 10000
     },
     "inputWidgets": {},
     "nuid": "be834575-986a-48e8-987f-d6c7d49de464",
     "showTitle": false,
     "tableResultSettingsMap": {},
     "title": ""
    }
   },
   "outputs": [],
   "source": [
    "# %pip install -U -qqqq mlflow\n",
    "# %restart_python"
   ]
  },
  {
   "cell_type": "code",
   "execution_count": 0,
   "metadata": {
    "application/vnd.databricks.v1+cell": {
     "cellMetadata": {
      "byteLimit": 2048000,
      "rowLimit": 10000
     },
     "inputWidgets": {},
     "nuid": "8964397a-7b01-4cf5-bf72-ca01072692f1",
     "showTitle": false,
     "tableResultSettingsMap": {},
     "title": ""
    }
   },
   "outputs": [],
   "source": [
    "from configs.project import get_project_config"
   ]
  },
  {
   "cell_type": "code",
   "execution_count": 0,
   "metadata": {
    "application/vnd.databricks.v1+cell": {
     "cellMetadata": {
      "byteLimit": 2048000,
      "rowLimit": 10000
     },
     "inputWidgets": {},
     "nuid": "5de28b88-5fb8-4b92-89cb-b2b7abc6783c",
     "showTitle": false,
     "tableResultSettingsMap": {},
     "title": ""
    }
   },
   "outputs": [],
   "source": [
    "projectConfig = get_project_config()\n",
    "projectConfig.model_dump()"
   ]
  },
  {
   "cell_type": "markdown",
   "metadata": {
    "application/vnd.databricks.v1+cell": {
     "cellMetadata": {},
     "inputWidgets": {},
     "nuid": "9760defc-6202-49f1-8a88-0d26de67602b",
     "showTitle": false,
     "tableResultSettingsMap": {},
     "title": ""
    }
   },
   "source": [
    "## Create Catalog, Schema, and Volume "
   ]
  },
  {
   "cell_type": "code",
   "execution_count": 0,
   "metadata": {
    "application/vnd.databricks.v1+cell": {
     "cellMetadata": {
      "byteLimit": 2048000,
      "rowLimit": 10000
     },
     "inputWidgets": {},
     "nuid": "c0f09427-36d5-43d3-b8fa-c469d14b5773",
     "showTitle": false,
     "tableResultSettingsMap": {},
     "title": ""
    }
   },
   "outputs": [],
   "source": [
    "catalog = projectConfig.uc_catalog\n",
    "schema = projectConfig.uc_schema\n",
    "data_folder = projectConfig.raw_data_volume"
   ]
  },
  {
   "cell_type": "code",
   "execution_count": 0,
   "metadata": {
    "application/vnd.databricks.v1+cell": {
     "cellMetadata": {
      "byteLimit": 2048000,
      "rowLimit": 10000
     },
     "inputWidgets": {},
     "nuid": "67b9f374-27d3-4dd0-bceb-13a3ae33a1de",
     "showTitle": false,
     "tableResultSettingsMap": {},
     "title": ""
    }
   },
   "outputs": [],
   "source": [
    "try:\n",
    "  spark.sql(f\"CREATE CATALOG IF NOT EXISTS {catalog}\")\n",
    "except Exception as e:\n",
    "  pass\n",
    "spark.sql(f\"CREATE SCHEMA IF NOT EXISTS {catalog}.{schema}\")\n",
    "spark.sql(f\"GRANT CREATE, USAGE on DATABASE {catalog}.{schema} TO `account users`\")\n",
    "spark.sql(f\"CREATE VOLUME IF NOT EXISTS {catalog}.{schema}.{data_folder}\")"
   ]
  },
  {
   "cell_type": "markdown",
   "metadata": {
    "application/vnd.databricks.v1+cell": {
     "cellMetadata": {},
     "inputWidgets": {},
     "nuid": "150538ca-683d-4b58-9897-a25ba88f03ce",
     "showTitle": false,
     "tableResultSettingsMap": {},
     "title": ""
    }
   },
   "source": [
    "## Create a Secret Scope\n",
    "\n",
    "for admins please see this reference to create a secret-scope: https://docs.databricks.com/aws/en/security/secrets/?language=Databricks%C2%A0workspace%C2%A0UI#create-a-secret-scope\n",
    "\n",
    "The databricks secret holding at personal access token is used for deploying the model with agent that accesses the Genie space.  Users can use the code below to store their PAT in a databricks managed secret.\n"
   ]
  },
  {
   "cell_type": "code",
   "execution_count": 0,
   "metadata": {
    "application/vnd.databricks.v1+cell": {
     "cellMetadata": {
      "byteLimit": 2048000,
      "rowLimit": 10000
     },
     "inputWidgets": {},
     "nuid": "b2bf2c9c-c263-4d20-b096-d8848a060b92",
     "showTitle": false,
     "tableResultSettingsMap": {},
     "title": ""
    }
   },
   "outputs": [],
   "source": [
    "create_scope = False\n",
    "if create_scope:\n",
    "    secret_scope = next(\n",
    "        (\n",
    "            item\n",
    "            for item in dbutils.secrets.listScopes()\n",
    "            if projectConfig.secret_scope == item.name\n",
    "        ),\n",
    "        None,\n",
    "    )\n",
    "\n",
    "    print(secret_scope)"
   ]
  },
  {
   "cell_type": "code",
   "execution_count": 0,
   "metadata": {
    "application/vnd.databricks.v1+cell": {
     "cellMetadata": {
      "byteLimit": 2048000,
      "rowLimit": 10000
     },
     "inputWidgets": {},
     "nuid": "1dad622e-c6cd-46ef-a76a-ab55e9e02853",
     "showTitle": false,
     "tableResultSettingsMap": {},
     "title": ""
    }
   },
   "outputs": [],
   "source": [
    "cleanup = False\n",
    "if cleanup:\n",
    "    dbutils.secrets.deleteScope(secret_scope)"
   ]
  },
  {
   "cell_type": "markdown",
   "metadata": {
    "application/vnd.databricks.v1+cell": {
     "cellMetadata": {},
     "inputWidgets": {},
     "nuid": "e28d53d1-e995-4518-a922-065a7f4ecd34",
     "showTitle": false,
     "tableResultSettingsMap": {},
     "title": ""
    }
   },
   "source": [
    "## Create a Secret Value"
   ]
  },
  {
   "cell_type": "code",
   "execution_count": 0,
   "metadata": {
    "application/vnd.databricks.v1+cell": {
     "cellMetadata": {
      "byteLimit": 2048000,
      "rowLimit": 10000
     },
     "inputWidgets": {},
     "nuid": "2437895e-49ad-4d4e-972b-84197f7c5e8d",
     "showTitle": false,
     "tableResultSettingsMap": {},
     "title": ""
    }
   },
   "outputs": [],
   "source": [
    "create_secret = False\n",
    "if create_secret:\n",
    "    import os\n",
    "    from getpass import getpass\n",
    "\n",
    "    print(\"enter your secret key\")\n",
    "    os.environ[\"my_secret\"] = getpass()"
   ]
  },
  {
   "cell_type": "code",
   "execution_count": 0,
   "metadata": {
    "application/vnd.databricks.v1+cell": {
     "cellMetadata": {
      "byteLimit": 2048000,
      "rowLimit": 10000
     },
     "inputWidgets": {},
     "nuid": "df43799c-af14-40c5-ba64-a1f8ee567a03",
     "showTitle": false,
     "tableResultSettingsMap": {},
     "title": ""
    }
   },
   "outputs": [],
   "source": [
    "if create_secret:\n",
    "    from databricks.sdk import WorkspaceClient\n",
    "\n",
    "    w = WorkspaceClient(\n",
    "    #   host=\"https://e2-demo-field-eng.cloud.databricks.com/\",\n",
    "    #   client_id=dbutils.secrets.get(\"felix-flory\",\"SERVICE_PRINCIPAL_ID\"),\n",
    "    #   client_secret=dbutils.secrets.get(\"felix-flory\",\"SERVICE_PRINCIPAL_SECRET\"),\n",
    "    )\n",
    "\n",
    "    w.secrets.put_secret(\n",
    "        projectConfig.secret_scope, \"<key-name>\", string_value=os.environ[\"my_secret\"]\n",
    "    )"
   ]
  },
  {
   "cell_type": "markdown",
   "metadata": {
    "application/vnd.databricks.v1+cell": {
     "cellMetadata": {},
     "inputWidgets": {},
     "nuid": "7a562bbf-5a89-4df5-9922-b085a9ff764a",
     "showTitle": false,
     "tableResultSettingsMap": {},
     "title": ""
    }
   },
   "source": [
    "## Create External Serving Endpoints\n",
    "\n",
    "This step is optional and creates an external LLM serving endpoint. Two examples are commented out: one of OpenAI and one for Anthropic hosted LLM endpoints."
   ]
  },
  {
   "cell_type": "code",
   "execution_count": 0,
   "metadata": {
    "application/vnd.databricks.v1+cell": {
     "cellMetadata": {
      "byteLimit": 2048000,
      "rowLimit": 10000
     },
     "inputWidgets": {},
     "nuid": "d7bca83d-364b-45d7-82fc-39bd4b0e6d07",
     "showTitle": false,
     "tableResultSettingsMap": {},
     "title": ""
    }
   },
   "outputs": [],
   "source": [
    "import mlflow.deployments\n",
    "from requests.exceptions import HTTPError\n",
    "\n",
    "client = mlflow.deployments.get_deploy_client(\"databricks\")\n"
   ]
  },
  {
   "cell_type": "code",
   "execution_count": 0,
   "metadata": {
    "application/vnd.databricks.v1+cell": {
     "cellMetadata": {
      "byteLimit": 2048000,
      "rowLimit": 10000
     },
     "inputWidgets": {},
     "nuid": "b4e18c3d-afc7-4ad5-b9b1-706322e827d7",
     "showTitle": false,
     "tableResultSettingsMap": {},
     "title": ""
    }
   },
   "outputs": [],
   "source": [
    "# endpoint_name = projectConfig.llm_endpoint_names[0]\n",
    "# endpoint_list = [\n",
    "#     e\n",
    "#     for e in client.list_endpoints()\n",
    "#     if \"fflory\" in e.get(\"name\", \"\") or endpoint_name in e.get(\"name\", \"\")\n",
    "# ]"
   ]
  },
  {
   "cell_type": "code",
   "execution_count": 0,
   "metadata": {
    "application/vnd.databricks.v1+cell": {
     "cellMetadata": {
      "byteLimit": 2048000,
      "rowLimit": 10000
     },
     "inputWidgets": {},
     "nuid": "782fba81-5149-40c9-a49a-32ef36f4d19c",
     "showTitle": false,
     "tableResultSettingsMap": {},
     "title": ""
    }
   },
   "outputs": [],
   "source": [
    "# endpoint_name = projectConfig.llm_endpoint_names[0]\n",
    "# ep_config = {\n",
    "#     \"name\": endpoint_name,\n",
    "#     \"config\": {\n",
    "#         \"served_entities\": [\n",
    "#             {\n",
    "#                 \"external_model\": {\n",
    "#                     \"name\": \"gpt-4o\",\n",
    "#                     \"provider\": \"openai\",\n",
    "#                     \"task\": \"llm/v1/chat\",\n",
    "#                     \"openai_config\": {\n",
    "#                         \"openai_api_key\": f\"{{{{secrets/{projectConfig.secret_scope}/OPENAI_API_KEY}}}}\"\n",
    "#                     },\n",
    "#                 },\n",
    "#             },\n",
    "#         ],\n",
    "#         \"route_optimized\": True,\n",
    "#     },\n",
    "# }\n",
    "\n",
    "# try:\n",
    "#     client.get_endpoint(endpoint_name)\n",
    "#     print(f\"Endpoint {endpoint_name} already exists\")\n",
    "# except HTTPError as e:\n",
    "#     print(\"Endpoint does not exist. Creating it.\")\n",
    "#     client.create_endpoint(\n",
    "#         # name=endpoint_name,\n",
    "#         config=ep_config,\n",
    "#     )"
   ]
  },
  {
   "cell_type": "code",
   "execution_count": 0,
   "metadata": {
    "application/vnd.databricks.v1+cell": {
     "cellMetadata": {
      "byteLimit": 2048000,
      "rowLimit": 10000
     },
     "inputWidgets": {},
     "nuid": "556270f6-d2dc-49f8-b964-27fabee7db54",
     "showTitle": false,
     "tableResultSettingsMap": {},
     "title": ""
    }
   },
   "outputs": [],
   "source": [
    "# endpoint_name = projectConfig.llm_endpoint_names[1]\n",
    "# ep_config = {\n",
    "#     \"name\": endpoint_name,\n",
    "#     \"config\": {\n",
    "#         \"served_entities\": [\n",
    "#             {\n",
    "#                 \"external_model\": {\n",
    "#                     \"name\": \"claude-3-7-sonnet-20250219\",\n",
    "#                     \"provider\": \"anthropic\",\n",
    "#                     \"task\": \"llm/v1/chat\",\n",
    "#                     \"anthropic_config\": {\n",
    "#                         \"anthropic_api_key\": f\"{{{{secrets/{projectConfig.secret_scope}/ANTHROPIC_API_KEY}}}}\"\n",
    "#                     },\n",
    "#                 },\n",
    "#             },\n",
    "#         ],\n",
    "#         \"route_optimized\": True,\n",
    "#     },\n",
    "# }\n",
    "\n",
    "# try:\n",
    "#     client.get_endpoint(endpoint_name)\n",
    "#     print(f\"Endpoint {endpoint_name} already exists\")\n",
    "# except HTTPError as e:\n",
    "#     print(\"Endpoint does not exist. Creating it.\")\n",
    "#     client.create_endpoint(\n",
    "#         # name=endpoint_name,\n",
    "#         config=ep_config,\n",
    "#     )"
   ]
  },
  {
   "cell_type": "markdown",
   "metadata": {
    "application/vnd.databricks.v1+cell": {
     "cellMetadata": {},
     "inputWidgets": {},
     "nuid": "c88fc3af-c30d-40fe-899f-6d05a274b7ea",
     "showTitle": false,
     "tableResultSettingsMap": {},
     "title": ""
    }
   },
   "source": [
    "## Create MLFlow Experiment Workspace path"
   ]
  },
  {
   "cell_type": "code",
   "execution_count": 0,
   "metadata": {
    "application/vnd.databricks.v1+cell": {
     "cellMetadata": {
      "byteLimit": 2048000,
      "rowLimit": 10000
     },
     "inputWidgets": {},
     "nuid": "da672fae-2d7d-44ba-8d16-910e7a8a1be7",
     "showTitle": false,
     "tableResultSettingsMap": {},
     "title": ""
    }
   },
   "outputs": [],
   "source": [
    "from src.utils import set_mlflow_experiment\n",
    "\n",
    "experiment = set_mlflow_experiment(projectConfig.mlflow_experiment_name)"
   ]
  },
  {
   "cell_type": "code",
   "execution_count": 0,
   "metadata": {
    "application/vnd.databricks.v1+cell": {
     "cellMetadata": {
      "byteLimit": 2048000,
      "rowLimit": 10000
     },
     "inputWidgets": {},
     "nuid": "1594a399-826b-4236-bf56-ec3f56f59160",
     "showTitle": false,
     "tableResultSettingsMap": {},
     "title": ""
    }
   },
   "outputs": [],
   "source": [
    "experiment.to_proto()"
   ]
  }
 ],
 "metadata": {
  "application/vnd.databricks.v1+notebook": {
   "computePreferences": null,
   "dashboards": [],
   "environmentMetadata": {
    "base_environment": "",
    "environment_version": "2"
   },
   "inputWidgetPreferences": null,
   "language": "python",
   "notebookMetadata": {
    "pythonIndentUnit": 2
   },
   "notebookName": "workspace_assets",
   "widgets": {}
  },
  "language_info": {
   "name": "python"
  }
 },
 "nbformat": 4,
 "nbformat_minor": 0
}
