{
 "cells": [
  {
   "cell_type": "markdown",
   "metadata": {
    "application/vnd.databricks.v1+cell": {
     "cellMetadata": {},
     "inputWidgets": {},
     "nuid": "6f8a938e-f274-4c37-80a8-a17967fdee8f",
     "showTitle": false,
     "tableResultSettingsMap": {},
     "title": ""
    }
   },
   "source": [
    "https://docs.databricks.com/aws/en/generative-ai/agent-evaluation/evaluate-agent"
   ]
  },
  {
   "cell_type": "code",
   "execution_count": 0,
   "metadata": {
    "application/vnd.databricks.v1+cell": {
     "cellMetadata": {
      "byteLimit": 2048000,
      "rowLimit": 10000
     },
     "inputWidgets": {},
     "nuid": "2a6686d9-7791-4b4f-ae3f-33b433e79953",
     "showTitle": false,
     "tableResultSettingsMap": {},
     "title": ""
    }
   },
   "outputs": [],
   "source": [
    "%pip install -U -qqqq mlflow databricks-langchain databricks-agents uv langgraph==0.3.4\n",
    "dbutils.library.restartPython()"
   ]
  },
  {
   "cell_type": "code",
   "execution_count": 0,
   "metadata": {
    "application/vnd.databricks.v1+cell": {
     "cellMetadata": {
      "byteLimit": 2048000,
      "rowLimit": 10000
     },
     "inputWidgets": {},
     "nuid": "5238575c-1a70-4ec9-bc7a-0954abb10a4e",
     "showTitle": false,
     "tableResultSettingsMap": {},
     "title": ""
    }
   },
   "outputs": [],
   "source": [
    "from databricks.agents import list_deployments, get_deployments, delete_deployment\n",
    "import mlflow\n",
    "import pandas as pd"
   ]
  },
  {
   "cell_type": "code",
   "execution_count": 0,
   "metadata": {
    "application/vnd.databricks.v1+cell": {
     "cellMetadata": {
      "byteLimit": 2048000,
      "rowLimit": 10000
     },
     "inputWidgets": {},
     "nuid": "6e5c0987-a425-4d07-9a39-efc481024a18",
     "showTitle": false,
     "tableResultSettingsMap": {},
     "title": ""
    }
   },
   "outputs": [],
   "source": [
    "import sys, os, yaml\n",
    "sys.path.append(os.path.abspath('..'))\n",
    "from configs.project import ProjectConfig\n",
    "\n",
    "with open(\"../configs/project.yml\", \"r\") as file:\n",
    "    data = yaml.safe_load(file)\n",
    "\n",
    "projectConfig = ProjectConfig(**data)"
   ]
  },
  {
   "cell_type": "code",
   "execution_count": 0,
   "metadata": {
    "application/vnd.databricks.v1+cell": {
     "cellMetadata": {
      "byteLimit": 2048000,
      "rowLimit": 10000
     },
     "inputWidgets": {},
     "nuid": "15b937eb-752f-4693-95ee-9f8010c79807",
     "showTitle": false,
     "tableResultSettingsMap": {},
     "title": ""
    }
   },
   "outputs": [],
   "source": [
    "from src.utils import set_mlflow_experiment\n",
    "\n",
    "experiment = set_mlflow_experiment(projectConfig.mlflow_experiment_name+\"_rag_agent_text\")"
   ]
  },
  {
   "cell_type": "code",
   "execution_count": 0,
   "metadata": {
    "application/vnd.databricks.v1+cell": {
     "cellMetadata": {
      "byteLimit": 2048000,
      "rowLimit": 10000
     },
     "inputWidgets": {},
     "nuid": "a60ab0ac-fa80-4283-a4c3-b8e623eb4d53",
     "showTitle": false,
     "tableResultSettingsMap": {},
     "title": ""
    }
   },
   "outputs": [],
   "source": [
    "model_name = \"rag_agent\"\n",
    "UC_MODEL_NAME = f\"{projectConfig.uc_catalog}.{projectConfig.uc_schema}.{model_name}\"\n",
    "print(UC_MODEL_NAME)"
   ]
  },
  {
   "cell_type": "code",
   "execution_count": 0,
   "metadata": {
    "application/vnd.databricks.v1+cell": {
     "cellMetadata": {
      "byteLimit": 2048000,
      "rowLimit": 10000
     },
     "inputWidgets": {},
     "nuid": "ac286cd3-b857-4613-808d-137c506f5640",
     "showTitle": false,
     "tableResultSettingsMap": {},
     "title": ""
    }
   },
   "outputs": [],
   "source": [
    "# Get the deployment for a specific agent model name and version\n",
    "agent_model_name = UC_MODEL_NAME  # Set to your Unity Catalog model name\n",
    "agent_model_version = 1  # Set to your agent model version\n",
    "deployment = get_deployments(model_name=agent_model_name, model_version=agent_model_version)[0]\n",
    "\n",
    "endpoint_name = deployment.__dict__.get(\"endpoint_name\")\n",
    "print(endpoint_name)"
   ]
  },
  {
   "cell_type": "code",
   "execution_count": 0,
   "metadata": {
    "application/vnd.databricks.v1+cell": {
     "cellMetadata": {
      "byteLimit": 2048000,
      "rowLimit": 10000
     },
     "inputWidgets": {},
     "nuid": "a650e3d5-df67-4b06-846c-d5932a38d3fa",
     "showTitle": false,
     "tableResultSettingsMap": {},
     "title": ""
    }
   },
   "outputs": [],
   "source": [
    "import pyspark.sql.functions as F\n",
    "eval_sdf = spark.table(projectConfig.eval_tables.get(\"id_1\").fqn)\n",
    "eval_dataset = eval_sdf.filter(F.col(\"request\").contains(\"American Express\"))"
   ]
  },
  {
   "cell_type": "code",
   "execution_count": 0,
   "metadata": {
    "application/vnd.databricks.v1+cell": {
     "cellMetadata": {
      "byteLimit": 2048000,
      "rowLimit": 10000
     },
     "inputWidgets": {},
     "nuid": "ccfd079b-7892-4cfd-bf31-d31c984a0235",
     "showTitle": false,
     "tableResultSettingsMap": {},
     "title": ""
    }
   },
   "outputs": [],
   "source": [
    "display(eval_dataset)"
   ]
  },
  {
   "cell_type": "code",
   "execution_count": 0,
   "metadata": {
    "application/vnd.databricks.v1+cell": {
     "cellMetadata": {},
     "inputWidgets": {},
     "nuid": "73f84c30-88f3-4e75-944d-c70662f52a3c",
     "showTitle": false,
     "tableResultSettingsMap": {},
     "title": ""
    }
   },
   "outputs": [],
   "source": [
    "# eval_set = [{\n",
    "#   \"request\": {\"messages\": [{\"role\": \"user\", \"content\": \"Was American Express able to retain card members during 2022?\"}]}\n",
    "# }, {\n",
    "#   \"request\": \"Was American Express revenue in 2022?\",\n",
    "# }]"
   ]
  },
  {
   "cell_type": "code",
   "execution_count": 0,
   "metadata": {
    "application/vnd.databricks.v1+cell": {
     "cellMetadata": {
      "byteLimit": 2048000,
      "rowLimit": 10000
     },
     "inputWidgets": {},
     "nuid": "bacf7465-d890-4fce-b8e2-ebf86d9f4a07",
     "showTitle": false,
     "tableResultSettingsMap": {},
     "title": ""
    }
   },
   "outputs": [],
   "source": [
    "from mlflow.deployments import get_deploy_client\n",
    "\n",
    "# The guidelines below will be used to evaluate any response of the agent.\n",
    "global_guidelines = {\n",
    "  \"rejection\": [\"If the request is unrelated to company financials and reports, the response must should be a rejection of the request\"],\n",
    "  # \"conciseness\": [\"If the request is related to company financials and reports, the response must should be concise\"],\n",
    "  # \"api_code\": [\"If the request is related to to company financials and reports and question about API, the response must have code\"],\n",
    "  \"professional\": [\"The response must be professional.\"]\n",
    "}"
   ]
  },
  {
   "cell_type": "code",
   "execution_count": 0,
   "metadata": {
    "application/vnd.databricks.v1+cell": {
     "cellMetadata": {
      "byteLimit": 2048000,
      "rowLimit": 10000
     },
     "inputWidgets": {},
     "nuid": "10983844-91b1-4d9a-93be-92f69de29c6c",
     "showTitle": false,
     "tableResultSettingsMap": {},
     "title": ""
    }
   },
   "outputs": [],
   "source": [
    "# In the following lines, `endpoint-name-of-your-agent` is the name of the agent endpoint.\n",
    "with mlflow.start_run(run_name=\"system_prompt_v2\") as run:\n",
    "  evaluation_results = mlflow.evaluate(\n",
    "      data=eval_dataset,  # pandas DataFrame with just the evaluation set\n",
    "      model = f\"endpoints:/{endpoint_name}\",\n",
    "      model_type=\"databricks-agent\",\n",
    "      evaluator_config={\n",
    "        \"databricks-agent\": {\n",
    "          \"global_guidelines\": global_guidelines\n",
    "        }\n",
    "      }\n",
    "  )"
   ]
  },
  {
   "cell_type": "markdown",
   "metadata": {
    "application/vnd.databricks.v1+cell": {
     "cellMetadata": {},
     "inputWidgets": {},
     "nuid": "055c12d9-eeee-4499-8d25-cab293f7d146",
     "showTitle": false,
     "tableResultSettingsMap": {},
     "title": ""
    }
   },
   "source": [
    "For foundation models or older databricks SDK versions use"
   ]
  },
  {
   "cell_type": "code",
   "execution_count": 0,
   "metadata": {
    "application/vnd.databricks.v1+cell": {
     "cellMetadata": {
      "byteLimit": 2048000,
      "rowLimit": 10000
     },
     "inputWidgets": {},
     "nuid": "89894932-46c7-4435-8c54-2ea846dd31c1",
     "showTitle": false,
     "tableResultSettingsMap": {},
     "title": ""
    }
   },
   "outputs": [],
   "source": [
    "\n",
    "# # Define a very simple system-prompt agent.\n",
    "# @mlflow.trace(span_type=\"AGENT\")\n",
    "# def my_agent(messages):\n",
    "#   SYSTEM_PROMPT = \"\"\"\n",
    "#     You are a chatbot that answers questions about company financials and reports.\n",
    "#     For requests unrelated to company financials and reports, reject the request.\n",
    "#   \"\"\"\n",
    "#   return get_deploy_client(\"databricks\").predict(\n",
    "#     endpoint=endpoint_name,\n",
    "#     inputs={\"messages\": [{\"role\": \"system\", \"content\": SYSTEM_PROMPT}, *messages]}\n",
    "#   )\n",
    "\n",
    "# # Evaluate the Agent with the evaluation set and log it to the MLFlow run \"system_prompt_v0\".\n",
    "# with mlflow.start_run(run_name=\"system_prompt_v0\") as run:\n",
    "#   mlflow.evaluate(\n",
    "#     data=eval_dataset, # eval_set,\n",
    "#     model=lambda request: my_agent(**request),\n",
    "#     model_type=\"databricks-agent\",\n",
    "#     evaluator_config={\n",
    "#       \"databricks-agent\": {\n",
    "#         \"global_guidelines\": global_guidelines\n",
    "#       }\n",
    "#     }\n",
    "#   )"
   ]
  }
 ],
 "metadata": {
  "application/vnd.databricks.v1+notebook": {
   "computePreferences": null,
   "dashboards": [],
   "environmentMetadata": {
    "base_environment": "",
    "environment_version": "2"
   },
   "inputWidgetPreferences": null,
   "language": "python",
   "notebookMetadata": {
    "pythonIndentUnit": 2
   },
   "notebookName": "04_RAG_agent_text_eval",
   "widgets": {}
  },
  "language_info": {
   "name": "python"
  }
 },
 "nbformat": 4,
 "nbformat_minor": 0
}
