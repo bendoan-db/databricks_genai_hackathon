{
 "cells": [
  {
   "cell_type": "code",
   "execution_count": 0,
   "metadata": {
    "application/vnd.databricks.v1+cell": {
     "cellMetadata": {
      "byteLimit": 2048000,
      "rowLimit": 10000
     },
     "inputWidgets": {},
     "nuid": "05feaaba-07c9-413e-8919-d09cbf6bc29a",
     "showTitle": false,
     "tableResultSettingsMap": {},
     "title": ""
    }
   },
   "outputs": [],
   "source": [
    "%pip install --no-deps -r https://ml-team-public-read.s3.us-west-2.amazonaws.com/wheels/kbqa/release/databricks_kbqa-0.3.2-environment.txt\n",
    "%pip install --no-deps https://ml-team-public-read.s3.us-west-2.amazonaws.com/wheels/kbqa/release/databricks_kbqa-0.3.2-py3-none-any.whl\n",
    "%restart_python\n"
   ]
  },
  {
   "cell_type": "code",
   "execution_count": 0,
   "metadata": {
    "application/vnd.databricks.v1+cell": {
     "cellMetadata": {
      "byteLimit": 2048000,
      "rowLimit": 10000
     },
     "inputWidgets": {},
     "nuid": "7f638f38-a908-40e7-a1fc-4d952e7d2778",
     "showTitle": false,
     "tableResultSettingsMap": {},
     "title": ""
    }
   },
   "outputs": [],
   "source": [
    "from databricks_kbqa import KBQA\n",
    "\n",
    "KBQA.help()\n"
   ]
  },
  {
   "cell_type": "code",
   "execution_count": 0,
   "metadata": {
    "application/vnd.databricks.v1+cell": {
     "cellMetadata": {
      "byteLimit": 2048000,
      "rowLimit": 10000
     },
     "inputWidgets": {},
     "nuid": "54dd1783-d3a0-4e06-90cc-0c2451c757fd",
     "showTitle": false,
     "tableResultSettingsMap": {},
     "title": ""
    }
   },
   "outputs": [],
   "source": [
    "kbqa = KBQA.create(\n",
    "  catalog_name=\"felixflory\",\n",
    "  name=\"cyberKBQA\",\n",
    "  description=\"Answers questions about Cybersecurity.\",\n",
    "  knowledge_sources=[\n",
    "    # {\n",
    "    #   \"name\": \"cybersecurity_docs\",\n",
    "    #   \"description\": \"Cybersecurity Documentation\",\n",
    "    #   \"type\": \"search_index\",\n",
    "    #   \"search_index\": {\n",
    "    #     \"name\": \"felixflory.databricks_genai_hackathon.cybersecurity_docs_index\",\n",
    "    #     \"text_col\": \"text\",\n",
    "    #     \"doc_uri_col\": \"url\"\n",
    "    #   }\n",
    "    # },\n",
    "    {\n",
    "      \"name\": \"cybersecurity_whitepapers\",\n",
    "      \"description\": \"cybersecurity-published whitepapers\",\n",
    "      \"type\": \"uc_files\",\n",
    "      \"uc_files\": {\n",
    "        \"path\": \"/Volumes/felixflory/databricks_genai_hackathon/pdfs\"\n",
    "      }\n",
    "    },\n",
    "  ]\n",
    ")"
   ]
  }
 ],
 "metadata": {
  "application/vnd.databricks.v1+notebook": {
   "computePreferences": null,
   "dashboards": [],
   "environmentMetadata": {
    "base_environment": "",
    "environment_version": "2"
   },
   "inputWidgetPreferences": null,
   "language": "python",
   "notebookMetadata": {
    "pythonIndentUnit": 2
   },
   "notebookName": "KBQA",
   "widgets": {}
  },
  "language_info": {
   "name": "python"
  }
 },
 "nbformat": 4,
 "nbformat_minor": 0
}
