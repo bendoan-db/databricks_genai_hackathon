{
 "cells": [
  {
   "cell_type": "code",
   "execution_count": 0,
   "metadata": {
    "application/vnd.databricks.v1+cell": {
     "cellMetadata": {
      "byteLimit": 2048000,
      "rowLimit": 10000
     },
     "inputWidgets": {},
     "nuid": "be834575-986a-48e8-987f-d6c7d49de464",
     "showTitle": false,
     "tableResultSettingsMap": {},
     "title": ""
    }
   },
   "outputs": [],
   "source": [
    "%pip install -q --upgrade pydantic mlflow openai\n",
    "%restart_python"
   ]
  },
  {
   "cell_type": "code",
   "execution_count": 0,
   "metadata": {
    "application/vnd.databricks.v1+cell": {
     "cellMetadata": {
      "byteLimit": 2048000,
      "rowLimit": 10000
     },
     "inputWidgets": {},
     "nuid": "e8883778-74d6-4aa0-8494-438485b51a9a",
     "showTitle": false,
     "tableResultSettingsMap": {},
     "title": ""
    }
   },
   "outputs": [],
   "source": [
    "%load_ext autoreload\n",
    "%autoreload 2\n",
    "# Enables autoreload; learn more at https://docs.databricks.com/en/files/workspace-modules.html#autoreload-for-python-modules\n",
    "# To disable autoreload; run %autoreload 0"
   ]
  },
  {
   "cell_type": "code",
   "execution_count": 0,
   "metadata": {
    "application/vnd.databricks.v1+cell": {
     "cellMetadata": {
      "byteLimit": 2048000,
      "rowLimit": 10000
     },
     "inputWidgets": {},
     "nuid": "0ae337f6-0ffe-41d1-aae7-b222c047186e",
     "showTitle": false,
     "tableResultSettingsMap": {},
     "title": ""
    }
   },
   "outputs": [],
   "source": [
    "import sys, os\n",
    "\n",
    "sys.path.append(os.path.abspath(\"..\"))\n",
    "from configs.project import ProjectConfig"
   ]
  },
  {
   "cell_type": "code",
   "execution_count": 0,
   "metadata": {
    "application/vnd.databricks.v1+cell": {
     "cellMetadata": {
      "byteLimit": 2048000,
      "rowLimit": 10000
     },
     "inputWidgets": {},
     "nuid": "9422db49-e5f9-4955-83e5-9ad62cd0ba06",
     "showTitle": false,
     "tableResultSettingsMap": {},
     "title": ""
    }
   },
   "outputs": [],
   "source": [
    "import yaml\n",
    "\n",
    "with open(\"../configs/project.yml\", \"r\") as file:\n",
    "    data = yaml.safe_load(file)\n",
    "\n",
    "projectConfig = ProjectConfig(**data)\n",
    "projectConfig.model_dump()"
   ]
  },
  {
   "cell_type": "code",
   "execution_count": 0,
   "metadata": {
    "application/vnd.databricks.v1+cell": {
     "cellMetadata": {
      "byteLimit": 2048000,
      "rowLimit": 10000
     },
     "inputWidgets": {},
     "nuid": "c0f09427-36d5-43d3-b8fa-c469d14b5773",
     "showTitle": false,
     "tableResultSettingsMap": {},
     "title": ""
    }
   },
   "outputs": [],
   "source": [
    "catalog = projectConfig.uc_catalog\n",
    "schema = projectConfig.uc_schema\n",
    "data_folder = projectConfig.raw_data_volume"
   ]
  },
  {
   "cell_type": "markdown",
   "metadata": {
    "application/vnd.databricks.v1+cell": {
     "cellMetadata": {},
     "inputWidgets": {},
     "nuid": "9760defc-6202-49f1-8a88-0d26de67602b",
     "showTitle": false,
     "tableResultSettingsMap": {},
     "title": ""
    }
   },
   "source": [
    "## Create Catalog, Schema, and Volume "
   ]
  },
  {
   "cell_type": "code",
   "execution_count": 0,
   "metadata": {
    "application/vnd.databricks.v1+cell": {
     "cellMetadata": {
      "byteLimit": 2048000,
      "rowLimit": 10000
     },
     "inputWidgets": {},
     "nuid": "67b9f374-27d3-4dd0-bceb-13a3ae33a1de",
     "showTitle": false,
     "tableResultSettingsMap": {},
     "title": ""
    }
   },
   "outputs": [],
   "source": [
    "spark.sql(f\"CREATE CATALOG IF NOT EXISTS {catalog}\")\n",
    "spark.sql(f\"CREATE SCHEMA IF NOT EXISTS {catalog}.{schema}\")\n",
    "spark.sql(f\"GRANT CREATE, USAGE on DATABASE {catalog}.{schema} TO `account users`\")\n",
    "spark.sql(f\"CREATE VOLUME IF NOT EXISTS {catalog}.{schema}.{data_folder}\")"
   ]
  },
  {
   "cell_type": "markdown",
   "metadata": {
    "application/vnd.databricks.v1+cell": {
     "cellMetadata": {},
     "inputWidgets": {},
     "nuid": "150538ca-683d-4b58-9897-a25ba88f03ce",
     "showTitle": false,
     "tableResultSettingsMap": {},
     "title": ""
    }
   },
   "source": [
    "## Create a Secret Scope\n",
    "\n",
    "https://docs.databricks.com/aws/en/security/secrets/?language=Databricks%C2%A0workspace%C2%A0UI#create-a-secret-scope"
   ]
  },
  {
   "cell_type": "code",
   "execution_count": 0,
   "metadata": {
    "application/vnd.databricks.v1+cell": {
     "cellMetadata": {
      "byteLimit": 2048000,
      "rowLimit": 10000
     },
     "inputWidgets": {},
     "nuid": "b2bf2c9c-c263-4d20-b096-d8848a060b92",
     "showTitle": false,
     "tableResultSettingsMap": {},
     "title": ""
    }
   },
   "outputs": [],
   "source": [
    "secret_scope = next(\n",
    "    (\n",
    "        item\n",
    "        for item in dbutils.secrets.listScopes()\n",
    "        if projectConfig.secret_scope == item.name\n",
    "    ),\n",
    "    None,\n",
    ")\n",
    "\n",
    "print(secret_scope)"
   ]
  },
  {
   "cell_type": "code",
   "execution_count": 0,
   "metadata": {
    "application/vnd.databricks.v1+cell": {
     "cellMetadata": {
      "byteLimit": 2048000,
      "rowLimit": 10000
     },
     "inputWidgets": {},
     "nuid": "1dad622e-c6cd-46ef-a76a-ab55e9e02853",
     "showTitle": false,
     "tableResultSettingsMap": {},
     "title": ""
    }
   },
   "outputs": [],
   "source": [
    "cleanup = False\n",
    "if cleanup:\n",
    "    dbutils.secrets.deleteScope(secret_scope)"
   ]
  },
  {
   "cell_type": "markdown",
   "metadata": {
    "application/vnd.databricks.v1+cell": {
     "cellMetadata": {},
     "inputWidgets": {},
     "nuid": "e28d53d1-e995-4518-a922-065a7f4ecd34",
     "showTitle": false,
     "tableResultSettingsMap": {},
     "title": ""
    }
   },
   "source": [
    "## Create a Secret Value"
   ]
  },
  {
   "cell_type": "code",
   "execution_count": 0,
   "metadata": {
    "application/vnd.databricks.v1+cell": {
     "cellMetadata": {
      "byteLimit": 2048000,
      "rowLimit": 10000
     },
     "inputWidgets": {},
     "nuid": "2437895e-49ad-4d4e-972b-84197f7c5e8d",
     "showTitle": false,
     "tableResultSettingsMap": {},
     "title": ""
    }
   },
   "outputs": [],
   "source": [
    "create_secret = False\n",
    "if create_secret:\n",
    "    import os\n",
    "    from getpass import getpass\n",
    "\n",
    "    print(\"enter your secret key\")\n",
    "    os.environ[\"my_secret\"] = getpass()"
   ]
  },
  {
   "cell_type": "code",
   "execution_count": 0,
   "metadata": {
    "application/vnd.databricks.v1+cell": {
     "cellMetadata": {
      "byteLimit": 2048000,
      "rowLimit": 10000
     },
     "inputWidgets": {},
     "nuid": "df43799c-af14-40c5-ba64-a1f8ee567a03",
     "showTitle": false,
     "tableResultSettingsMap": {},
     "title": ""
    }
   },
   "outputs": [],
   "source": [
    "if create_secret:\n",
    "    from databricks.sdk import WorkspaceClient\n",
    "\n",
    "    w = WorkspaceClient()\n",
    "\n",
    "    w.secrets.put_secret(\n",
    "        projectConfig.secret_scope, \"<key-name>\", string_value=os.environ[\"my_secret\"]\n",
    "    )"
   ]
  },
  {
   "cell_type": "markdown",
   "metadata": {
    "application/vnd.databricks.v1+cell": {
     "cellMetadata": {},
     "inputWidgets": {},
     "nuid": "7a562bbf-5a89-4df5-9922-b085a9ff764a",
     "showTitle": false,
     "tableResultSettingsMap": {},
     "title": ""
    }
   },
   "source": [
    "## Create External Serving Endpoints"
   ]
  },
  {
   "cell_type": "code",
   "execution_count": 0,
   "metadata": {
    "application/vnd.databricks.v1+cell": {
     "cellMetadata": {
      "byteLimit": 2048000,
      "rowLimit": 10000
     },
     "inputWidgets": {},
     "nuid": "d7bca83d-364b-45d7-82fc-39bd4b0e6d07",
     "showTitle": false,
     "tableResultSettingsMap": {},
     "title": ""
    }
   },
   "outputs": [],
   "source": [
    "import mlflow.deployments\n",
    "from requests.exceptions import HTTPError\n",
    "\n",
    "client = mlflow.deployments.get_deploy_client(\"databricks\")\n"
   ]
  },
  {
   "cell_type": "code",
   "execution_count": 0,
   "metadata": {
    "application/vnd.databricks.v1+cell": {
     "cellMetadata": {
      "byteLimit": 2048000,
      "rowLimit": 10000
     },
     "inputWidgets": {},
     "nuid": "b4e18c3d-afc7-4ad5-b9b1-706322e827d7",
     "showTitle": false,
     "tableResultSettingsMap": {},
     "title": ""
    }
   },
   "outputs": [],
   "source": [
    "# endpoint_list = [\n",
    "#     e\n",
    "#     for e in client.list_endpoints()\n",
    "#     if \"fflory\" in e.get(\"name\", \"\") or endpoint_name in e.get(\"name\", \"\")\n",
    "# ]"
   ]
  },
  {
   "cell_type": "code",
   "execution_count": 0,
   "metadata": {
    "application/vnd.databricks.v1+cell": {
     "cellMetadata": {
      "byteLimit": 2048000,
      "rowLimit": 10000
     },
     "inputWidgets": {},
     "nuid": "782fba81-5149-40c9-a49a-32ef36f4d19c",
     "showTitle": false,
     "tableResultSettingsMap": {},
     "title": ""
    }
   },
   "outputs": [],
   "source": [
    "# endpoint_name = projectConfig.external_endpoint_names[0]\n",
    "# ep_config = {\n",
    "#     \"name\": endpoint_name,\n",
    "#     \"config\": {\n",
    "#         \"served_entities\": [\n",
    "#             {\n",
    "#                 \"external_model\": {\n",
    "#                     \"name\": \"gpt-4o\",\n",
    "#                     \"provider\": \"openai\",\n",
    "#                     \"task\": \"llm/v1/chat\",\n",
    "#                     \"openai_config\": {\n",
    "#                         \"openai_api_key\": f\"{{{{secrets/{projectConfig.secret_scope}/OPENAI_API_KEY}}}}\"\n",
    "#                     },\n",
    "#                 },\n",
    "#             },\n",
    "#         ],\n",
    "#         \"route_optimized\": True,\n",
    "#     },\n",
    "# }\n",
    "\n",
    "# try:\n",
    "#     client.get_endpoint(endpoint_name)\n",
    "#     print(f\"Endpoint {endpoint_name} already exists\")\n",
    "# except HTTPError as e:\n",
    "#     print(\"Endpoint does not exist. Creating it.\")\n",
    "#     client.create_endpoint(\n",
    "#         # name=endpoint_name,\n",
    "#         config=ep_config,\n",
    "#     )"
   ]
  },
  {
   "cell_type": "code",
   "execution_count": 0,
   "metadata": {
    "application/vnd.databricks.v1+cell": {
     "cellMetadata": {
      "byteLimit": 2048000,
      "rowLimit": 10000
     },
     "inputWidgets": {},
     "nuid": "556270f6-d2dc-49f8-b964-27fabee7db54",
     "showTitle": false,
     "tableResultSettingsMap": {},
     "title": ""
    }
   },
   "outputs": [],
   "source": [
    "# endpoint_name = projectConfig.external_endpoint_names[1]\n",
    "# ep_config = {\n",
    "#     \"name\": endpoint_name,\n",
    "#     \"config\": {\n",
    "#         \"served_entities\": [\n",
    "#             {\n",
    "#                 \"external_model\": {\n",
    "#                     \"name\": \"claude-3-7-sonnet-20250219\",\n",
    "#                     \"provider\": \"anthropic\",\n",
    "#                     \"task\": \"llm/v1/chat\",\n",
    "#                     \"anthropic_config\": {\n",
    "#                         \"anthropic_api_key\": f\"{{{{secrets/{projectConfig.secret_scope}/ANTHROPIC_API_KEY}}}}\"\n",
    "#                     },\n",
    "#                 },\n",
    "#             },\n",
    "#         ],\n",
    "#         \"route_optimized\": True,\n",
    "#     },\n",
    "# }\n",
    "\n",
    "# try:\n",
    "#     client.get_endpoint(endpoint_name)\n",
    "#     print(f\"Endpoint {endpoint_name} already exists\")\n",
    "# except HTTPError as e:\n",
    "#     print(\"Endpoint does not exist. Creating it.\")\n",
    "#     client.create_endpoint(\n",
    "#         # name=endpoint_name,\n",
    "#         config=ep_config,\n",
    "#     )"
   ]
  },
  {
   "cell_type": "markdown",
   "metadata": {
    "application/vnd.databricks.v1+cell": {
     "cellMetadata": {},
     "inputWidgets": {},
     "nuid": "c88fc3af-c30d-40fe-899f-6d05a274b7ea",
     "showTitle": false,
     "tableResultSettingsMap": {},
     "title": ""
    }
   },
   "source": [
    "## Create MLFlow Experiment Workspace path"
   ]
  },
  {
   "cell_type": "code",
   "execution_count": 0,
   "metadata": {
    "application/vnd.databricks.v1+cell": {
     "cellMetadata": {},
     "inputWidgets": {},
     "nuid": "da672fae-2d7d-44ba-8d16-910e7a8a1be7",
     "showTitle": false,
     "tableResultSettingsMap": {},
     "title": ""
    }
   },
   "outputs": [],
   "source": []
  }
 ],
 "metadata": {
  "application/vnd.databricks.v1+notebook": {
   "computePreferences": null,
   "dashboards": [],
   "environmentMetadata": {
    "base_environment": "",
    "environment_version": "2"
   },
   "inputWidgetPreferences": null,
   "language": "python",
   "notebookMetadata": {
    "pythonIndentUnit": 2
   },
   "notebookName": "workspace_assets",
   "widgets": {}
  },
  "language_info": {
   "name": "python"
  }
 },
 "nbformat": 4,
 "nbformat_minor": 0
}
