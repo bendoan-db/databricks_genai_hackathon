{
 "cells": [
  {
   "cell_type": "code",
   "execution_count": 0,
   "metadata": {
    "application/vnd.databricks.v1+cell": {
     "cellMetadata": {
      "byteLimit": 2048000,
      "rowLimit": 10000
     },
     "inputWidgets": {},
     "nuid": "9006ea89-31d5-4034-8a34-a23149701918",
     "showTitle": false,
     "tableResultSettingsMap": {},
     "title": ""
    }
   },
   "outputs": [],
   "source": [
    "%pip install -q databricks-vectorsearch\n",
    "dbutils.library.restartPython()"
   ]
  },
  {
   "cell_type": "code",
   "execution_count": 0,
   "metadata": {
    "application/vnd.databricks.v1+cell": {
     "cellMetadata": {
      "byteLimit": 2048000,
      "rowLimit": 10000
     },
     "inputWidgets": {},
     "nuid": "e969c084-4c85-485b-8194-3f705b9db81f",
     "showTitle": false,
     "tableResultSettingsMap": {},
     "title": ""
    }
   },
   "outputs": [],
   "source": [
    "import yaml\n",
    "\n",
    "with open('ingestion_config.yml', 'r') as file:\n",
    "    config = yaml.safe_load(file)\n",
    "\n",
    "#load global configs\n",
    "databricks_config = config['databricks_config']\n",
    "entity_resolution_config = config['entity_resolution_config']\n",
    "\n",
    "#load uc configs\n",
    "catalog=databricks_config['catalog']\n",
    "schema=databricks_config['schema']\n",
    "silver_table = databricks_config['silver_table']\n",
    "gold_table = databricks_config['gold_table']['name']\n",
    "gold_table_columns = databricks_config['gold_table']['schema']\n",
    "\n",
    "#load entity resolution configs\n",
    "silver_table_er = entity_resolution_config['er_silver_table']\n",
    "vector_search_endpoint = entity_resolution_config['vector_search_endpoint']\n",
    "vector_search_index = entity_resolution_config['vector_search_index']\n",
    "embedding_model = entity_resolution_config['embedding_model']\n",
    "vector_search_id_column = entity_resolution_config['vector_search_id_column']\n",
    "embedding_source_column = entity_resolution_config['embedding_source_column']\n",
    "\n",
    "#entity resolution model configs\n",
    "er_llm_endpoint = entity_resolution_config['resolution_llm_config']['llm_endpoint_name']\n",
    "prompt = entity_resolution_config['resolution_llm_config']['prompt']"
   ]
  },
  {
   "cell_type": "code",
   "execution_count": 0,
   "metadata": {
    "application/vnd.databricks.v1+cell": {
     "cellMetadata": {
      "byteLimit": 2048000,
      "rowLimit": 10000
     },
     "inputWidgets": {},
     "nuid": "c887af67-ca61-4980-af8b-e5b73f3cd3fd",
     "showTitle": false,
     "tableResultSettingsMap": {},
     "title": ""
    }
   },
   "outputs": [],
   "source": [
    "#write entities to table\n",
    "silver_sec_docs = spark.table(f\"{catalog}.{schema}.{silver_table}\")\n",
    "display(silver_sec_docs)"
   ]
  },
  {
   "cell_type": "code",
   "execution_count": 0,
   "metadata": {
    "application/vnd.databricks.v1+cell": {
     "cellMetadata": {
      "byteLimit": 2048000,
      "rowLimit": 10000
     },
     "inputWidgets": {},
     "nuid": "93b2f9e3-77c4-4dcc-9228-2202eee82578",
     "showTitle": false,
     "tableResultSettingsMap": {},
     "title": ""
    }
   },
   "outputs": [],
   "source": [
    "import pandas as pd\n",
    "from typing import List, Dict\n",
    "from pyspark.sql.functions import pandas_udf, col\n",
    "from pyspark.sql.types import ArrayType, StructType, StructField, StringType, FloatType\n",
    "from databricks.vector_search.client import VectorSearchClient\n",
    "\n",
    "@pandas_udf(StringType())\n",
    "def vector_search_lookup(texts: pd.Series) -> pd.Series:\n",
    "    \"\"\"\n",
    "    Performs vector search lookup against a Databricks vector search index.\n",
    "\n",
    "    This UDF:\n",
    "    1. Takes input text from the my_text column\n",
    "    2. Generates embeddings using an MLflow model\n",
    "    3. Queries a vector search index to find semantically similar content\n",
    "    4. Returns the top 3 matches for each input text\n",
    "\n",
    "    Args:\n",
    "        texts (pd.Series): Series of text strings to search for\n",
    "\n",
    "    Returns:\n",
    "        pd.Series: Series of arrays, each containing the top 3 matches\n",
    "                  as structs with id, text, and score fields\n",
    "    \"\"\"\n",
    "    # Initialize the vector search client\n",
    "    vs_client = VectorSearchClient()\n",
    "\n",
    "    # Configuration - in production, these would typically come from environment variables\n",
    "    VS_INDEX_NAME = (\n",
    "        f\"{catalog}.{schema}.{vector_search_index}\"  # Replace with your index name\n",
    "    )\n",
    "    VS_ENDPOINT_NAME = vector_search_endpoint  # Replace with your endpoint name\n",
    "\n",
    "    # Get the vector search index\n",
    "    vs_index = vs_client.get_index(\n",
    "        endpoint_name=VS_ENDPOINT_NAME, index_name=VS_INDEX_NAME\n",
    "    )\n",
    "\n",
    "    results = []\n",
    "    # Process each text in the batch\n",
    "    for text in texts:\n",
    "        # Handle empty/null inputs\n",
    "        if text is None or pd.isna(text) or text.strip() == \"\":\n",
    "            results.append([])\n",
    "            continue\n",
    "\n",
    "        try:\n",
    "            # Query the vector search index\n",
    "            search_results = vs_index.similarity_search(\n",
    "                query_text=text,\n",
    "                num_results=3,  # Get top 3 matches\n",
    "                columns=[\"company_name\"],\n",
    "            )\n",
    "\n",
    "            top_3_companies = \"; \".join(\n",
    "                [result[0] for result in search_results[\"result\"][\"data_array\"]]\n",
    "            )\n",
    "            results.append(top_3_companies)\n",
    "        except Exception as e:\n",
    "            error_message = f\"Error processing text: {str(e)}\"\n",
    "            results.append[error_message]\n",
    "\n",
    "    return pd.Series(results)"
   ]
  },
  {
   "cell_type": "code",
   "execution_count": 0,
   "metadata": {
    "application/vnd.databricks.v1+cell": {
     "cellMetadata": {
      "byteLimit": 2048000,
      "rowLimit": 10000
     },
     "inputWidgets": {},
     "nuid": "6ec41113-f247-4230-a489-74dd658a053b",
     "showTitle": false,
     "tableResultSettingsMap": {},
     "title": ""
    }
   },
   "outputs": [],
   "source": [
    "silver_docs_with_vectors = silver_sec_docs.withColumn(\"possible_entities\", vector_search_lookup(col(\"company\")))\n",
    "display(silver_docs_with_vectors)"
   ]
  },
  {
   "cell_type": "code",
   "execution_count": 0,
   "metadata": {
    "application/vnd.databricks.v1+cell": {
     "cellMetadata": {
      "byteLimit": 2048000,
      "rowLimit": 10000
     },
     "inputWidgets": {},
     "nuid": "7193c5bd-aa94-4848-91e9-b938084dc2a0",
     "showTitle": false,
     "tableResultSettingsMap": {},
     "title": ""
    }
   },
   "outputs": [],
   "source": [
    "#we can't run ai_query and scalar udfs on the same dataframe, so we have to save it and load it back in\n",
    "silver_docs_with_vectors.write.saveAsTable(f\"{catalog}.{schema}.{silver_table_er}\")"
   ]
  },
  {
   "cell_type": "code",
   "execution_count": 0,
   "metadata": {
    "application/vnd.databricks.v1+cell": {
     "cellMetadata": {
      "byteLimit": 2048000,
      "rowLimit": 10000
     },
     "inputWidgets": {},
     "nuid": "839b82b5-1b0c-4acb-98eb-cd1df65e94fc",
     "showTitle": false,
     "tableResultSettingsMap": {},
     "title": ""
    }
   },
   "outputs": [],
   "source": [
    "from pyspark.sql.functions import concat, lit\n",
    "silver_docs_with_entities = spark.table(f\"{catalog}.{schema}.{silver_table_er}\").withColumn(\n",
    "  \"resolved_entity_prompt\", concat(\n",
    "    lit(prompt),\n",
    "    col(\"company\"),\n",
    "    lit(\"\\nPOSSIBLE ENITITIES -> \"),\n",
    "    col(\"possible_entities\"),\\\n",
    "    lit(\"\\nMATCHED ENTITY ->\")\n",
    "  )\n",
    ")\n",
    "display(silver_docs_with_entities)"
   ]
  },
  {
   "cell_type": "code",
   "execution_count": 0,
   "metadata": {
    "application/vnd.databricks.v1+cell": {
     "cellMetadata": {
      "byteLimit": 2048000,
      "rowLimit": 10000
     },
     "inputWidgets": {},
     "nuid": "dd1b94d6-5ade-4272-aca6-78473275a391",
     "showTitle": false,
     "tableResultSettingsMap": {},
     "title": ""
    }
   },
   "outputs": [],
   "source": [
    "gold_docs = silver_docs_with_entities.selectExpr(\n",
    "    \"*\", f\"ai_query('{er_llm_endpoint}', resolved_entity_prompt) as resolved_company\"\n",
    ").select(gold_table_columns)\n",
    "display(gold_docs)"
   ]
  },
  {
   "cell_type": "code",
   "execution_count": 0,
   "metadata": {
    "application/vnd.databricks.v1+cell": {
     "cellMetadata": {
      "byteLimit": 2048000,
      "rowLimit": 10000
     },
     "inputWidgets": {},
     "nuid": "17735382-6a03-4d3c-8d6f-2e9f6e313bf4",
     "showTitle": false,
     "tableResultSettingsMap": {},
     "title": ""
    }
   },
   "outputs": [],
   "source": [
    "gold_docs.write.saveAsTable(f\"{catalog}.{schema}.{gold_table}\")"
   ]
  },
  {
   "cell_type": "code",
   "execution_count": 0,
   "metadata": {
    "application/vnd.databricks.v1+cell": {
     "cellMetadata": {
      "byteLimit": 2048000,
      "rowLimit": 10000
     },
     "inputWidgets": {},
     "nuid": "928dc646-4884-480f-8036-fa588e03122b",
     "showTitle": false,
     "tableResultSettingsMap": {},
     "title": ""
    }
   },
   "outputs": [],
   "source": [
    "display(spark.table(f\"{catalog}.{schema}.{gold_table}\"))"
   ]
  },
  {
   "cell_type": "code",
   "execution_count": 0,
   "metadata": {
    "application/vnd.databricks.v1+cell": {
     "cellMetadata": {},
     "inputWidgets": {},
     "nuid": "a52652a5-cfac-41af-b8b4-a93fb7b887b1",
     "showTitle": false,
     "tableResultSettingsMap": {},
     "title": ""
    }
   },
   "outputs": [],
   "source": []
  }
 ],
 "metadata": {
  "application/vnd.databricks.v1+notebook": {
   "computePreferences": null,
   "dashboards": [],
   "environmentMetadata": {
    "base_environment": "",
    "environment_version": "2"
   },
   "inputWidgetPreferences": null,
   "language": "python",
   "notebookMetadata": {
    "pythonIndentUnit": 2
   },
   "notebookName": "01b_entity_resolution",
   "widgets": {}
  },
  "language_info": {
   "name": "python"
  }
 },
 "nbformat": 4,
 "nbformat_minor": 0
}
