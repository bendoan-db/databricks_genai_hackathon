{
 "cells": [
  {
   "cell_type": "code",
   "execution_count": 0,
   "metadata": {
    "application/vnd.databricks.v1+cell": {
     "cellMetadata": {
      "byteLimit": 2048000,
      "rowLimit": 10000
     },
     "inputWidgets": {},
     "nuid": "f1487982-da39-4a3b-9906-730a14ff0328",
     "showTitle": false,
     "tableResultSettingsMap": {},
     "title": ""
    }
   },
   "outputs": [],
   "source": [
    "%pip install -q -r requirements.txt\n",
    "dbutils.library.restartPython()"
   ]
  },
  {
   "cell_type": "code",
   "execution_count": 0,
   "metadata": {
    "application/vnd.databricks.v1+cell": {
     "cellMetadata": {
      "byteLimit": 2048000,
      "rowLimit": 10000
     },
     "inputWidgets": {},
     "nuid": "e67b9bbd-f5e0-4d01-8241-71e0b2cf226b",
     "showTitle": false,
     "tableResultSettingsMap": {},
     "title": ""
    }
   },
   "outputs": [],
   "source": [
    "import os \n",
    "import yaml\n",
    "from dbruntime.databricks_repl_context import get_context\n",
    "\n",
    "#for development purposes only\n",
    "os.environ[\"DATABRICKS_TOKEN\"] = get_context().apiToken\n",
    "\n",
    "with open('./smoke_test_config.yaml', 'r') as file:\n",
    "    config = yaml.safe_load(file)\n",
    "\n",
    "databricks_config = config[\"databricks_config\"]\n",
    "input_example_config = config[\"input_examples\"]\n",
    "agent_config = config[\"agent_config\"]\n",
    "vector_search_config = config[\"vector_search_config\"]\n",
    "\n",
    "catalog = databricks_config[\"catalog\"]\n",
    "schema = databricks_config[\"schema\"]\n",
    "\n",
    "#mlflow and agent config\n",
    "mlflow_experiment_name = databricks_config[\"mlflow_experiment_name\"]\n",
    "agent_name = agent_config[\"uc_agent_name\"]\n",
    "llm_endpoint_name = agent_config[\"llm_endpoint_name\"]\n",
    "\n",
    "#vector search config\n",
    "embedding_endpoint_name = vector_search_config[\"embedding_model_endpoint_name\"]\n",
    "vector_search_index_name = vector_search_config[\"vector_search_index_name\"]"
   ]
  },
  {
   "cell_type": "code",
   "execution_count": 0,
   "metadata": {
    "application/vnd.databricks.v1+cell": {
     "cellMetadata": {
      "byteLimit": 2048000,
      "rowLimit": 10000
     },
     "inputWidgets": {},
     "nuid": "d0f09ea8-9932-43f6-9a23-c07dfdb37850",
     "showTitle": false,
     "tableResultSettingsMap": {},
     "title": ""
    }
   },
   "outputs": [],
   "source": [
    "%run ./02a_rag_agent"
   ]
  },
  {
   "cell_type": "code",
   "execution_count": 0,
   "metadata": {
    "application/vnd.databricks.v1+cell": {
     "cellMetadata": {
      "byteLimit": 2048000,
      "rowLimit": 10000
     },
     "inputWidgets": {},
     "nuid": "abbf5117-1119-4aa6-8b1e-4bbbaa32fd65",
     "showTitle": false,
     "tableResultSettingsMap": {},
     "title": ""
    }
   },
   "outputs": [],
   "source": [
    "rag_input_example = {\"messages\": [{\"role\": \"user\", \"content\": input_example_config[\"rag_input_example\"]}]}\n",
    "genie_input_example = {\"messages\": [{\"role\": \"user\", \"content\": input_example_config[\"genie_input_example\"]}]}"
   ]
  },
  {
   "cell_type": "code",
   "execution_count": 0,
   "metadata": {
    "application/vnd.databricks.v1+cell": {
     "cellMetadata": {
      "byteLimit": 2048000,
      "rowLimit": 10000
     },
     "inputWidgets": {},
     "nuid": "06f4ffa7-b21c-4048-972c-ff2c2bf5da5e",
     "showTitle": false,
     "tableResultSettingsMap": {},
     "title": ""
    }
   },
   "outputs": [],
   "source": [
    "AGENT.predict(rag_input_example)"
   ]
  },
  {
   "cell_type": "code",
   "execution_count": 0,
   "metadata": {
    "application/vnd.databricks.v1+cell": {
     "cellMetadata": {
      "byteLimit": 2048000,
      "rowLimit": 10000
     },
     "inputWidgets": {},
     "nuid": "23fbdafa-6346-417e-8a15-b9f29c6f7038",
     "showTitle": false,
     "tableResultSettingsMap": {},
     "title": ""
    }
   },
   "outputs": [],
   "source": [
    "AGENT.predict(genie_input_example)"
   ]
  },
  {
   "cell_type": "code",
   "execution_count": 0,
   "metadata": {
    "application/vnd.databricks.v1+cell": {
     "cellMetadata": {
      "byteLimit": 2048000,
      "rowLimit": 10000
     },
     "inputWidgets": {},
     "nuid": "7d13e15c-a80e-406b-9ca4-9679b8181c6b",
     "showTitle": false,
     "tableResultSettingsMap": {},
     "title": ""
    }
   },
   "outputs": [],
   "source": [
    "import mlflow\n",
    "\n",
    "try:\n",
    "  experiment = mlflow.get_experiment_by_name(mlflow_experiment_name)\n",
    "except:\n",
    "  mlflow.create_experiment(mlflow_experiment_name)\n",
    "  print(f\"Experiment created: {mlflow_experiment_name}\")"
   ]
  },
  {
   "cell_type": "code",
   "execution_count": 0,
   "metadata": {
    "application/vnd.databricks.v1+cell": {
     "cellMetadata": {
      "byteLimit": 2048000,
      "rowLimit": 10000
     },
     "inputWidgets": {},
     "nuid": "e0f8482e-ad04-488f-ac6e-35cf18ef5a20",
     "showTitle": false,
     "tableResultSettingsMap": {},
     "title": ""
    }
   },
   "outputs": [],
   "source": [
    "import mlflow\n",
    "from mlflow.models.resources import (\n",
    "  DatabricksVectorSearchIndex,\n",
    "  DatabricksServingEndpoint,\n",
    "  DatabricksSQLWarehouse,\n",
    "  DatabricksFunction,\n",
    "  DatabricksGenieSpace,\n",
    "  DatabricksTable,\n",
    "  DatabricksUCConnection\n",
    ")\n",
    "\n",
    "with mlflow.start_run(run_name=\"smoke_test\"):\n",
    "    logged_chain_info = mlflow.pyfunc.log_model(\n",
    "        python_model=os.path.join(os.getcwd(), \"02a_rag_agent\"),\n",
    "        model_config=os.path.join(os.getcwd(), \"smoke_test_config.yaml\"),  # Chain configuration set in 00_config\n",
    "        artifact_path=\"agent\",  # Required by MLflow\n",
    "        input_example=rag_input_example,\n",
    "        resources=[\n",
    "        DatabricksVectorSearchIndex(index_name=f\"{catalog}.{schema}.{vector_search_index_name}\"),\n",
    "        DatabricksServingEndpoint(endpoint_name=llm_endpoint_name),\n",
    "        DatabricksServingEndpoint(endpoint_name=embedding_endpoint_name)\n",
    "        ],\n",
    "        pip_requirements=[\"-r requirements.txt\"],\n",
    "        example_no_conversion=True,  # Required by MLflow to use the input_example as the chain's schema\n",
    "    )"
   ]
  },
  {
   "cell_type": "code",
   "execution_count": 0,
   "metadata": {
    "application/vnd.databricks.v1+cell": {
     "cellMetadata": {
      "byteLimit": 2048000,
      "rowLimit": 10000
     },
     "inputWidgets": {},
     "nuid": "cc73715f-8bd3-4aac-aa95-f433533678dc",
     "showTitle": false,
     "tableResultSettingsMap": {},
     "title": ""
    }
   },
   "outputs": [],
   "source": [
    "import os\n",
    "import pandas as pd\n",
    "evals_df = pd.read_csv(f\"{os.getcwd()}/data/smoke_test_evals.tsv\", sep='\\t')"
   ]
  },
  {
   "cell_type": "code",
   "execution_count": 0,
   "metadata": {
    "application/vnd.databricks.v1+cell": {
     "cellMetadata": {
      "byteLimit": 2048000,
      "rowLimit": 10000
     },
     "inputWidgets": {},
     "nuid": "c5c304de-f6c4-40bc-a299-cb4d3a2504f8",
     "showTitle": false,
     "tableResultSettingsMap": {},
     "title": ""
    }
   },
   "outputs": [],
   "source": [
    "with mlflow.start_run(run_name=\"smoke_test_eval\"):\n",
    "    # Evaluate\n",
    "    eval_results = mlflow.evaluate(\n",
    "        data=evals_df,\n",
    "        model=f\"runs:/{logged_chain_info.run_id}/agent\",  # replace `agent` with artifact_path that you used when calling log_model.  By default, this is `agent`.\n",
    "        model_type=\"databricks-agent\",\n",
    "        evaluator_config={\n",
    "            \"databricks-agent\": {\n",
    "                \"metrics\": [\n",
    "                    \"chunk_relevance\",\n",
    "                    \"context_sufficiency\",\n",
    "                    \"correctness\",\n",
    "                    \"safety\",\n",
    "                    \"groundedness\",\n",
    "                ],\n",
    "            }\n",
    "        },\n",
    "    )"
   ]
  },
  {
   "cell_type": "code",
   "execution_count": 0,
   "metadata": {
    "application/vnd.databricks.v1+cell": {
     "cellMetadata": {
      "byteLimit": 2048000,
      "rowLimit": 10000
     },
     "inputWidgets": {},
     "nuid": "269a0f6a-0d00-450b-9b2c-65e8377a50a8",
     "showTitle": false,
     "tableResultSettingsMap": {},
     "title": ""
    }
   },
   "outputs": [],
   "source": [
    "mlflow.models.predict(\n",
    "    model_uri=f\"runs:/{logged_chain_info.run_id}/agent\",\n",
    "    input_data=rag_input_example,\n",
    "    env_manager=\"uv\",\n",
    ")"
   ]
  },
  {
   "cell_type": "code",
   "execution_count": 0,
   "metadata": {
    "application/vnd.databricks.v1+cell": {
     "cellMetadata": {
      "byteLimit": 2048000,
      "rowLimit": 10000
     },
     "inputWidgets": {},
     "nuid": "4a73e4e2-ee4d-4e79-9035-51b30a6f26d1",
     "showTitle": false,
     "tableResultSettingsMap": {},
     "title": ""
    }
   },
   "outputs": [],
   "source": [
    "mlflow.set_registry_uri(\"databricks-uc\")\n",
    "\n",
    "UC_MODEL_NAME = f\"{catalog}.{schema}.{agent_name}\"\n",
    "\n",
    "# register the model to UC\n",
    "uc_registered_model_info = mlflow.register_model(\n",
    "    model_uri=logged_chain_info.model_uri, name=UC_MODEL_NAME\n",
    ")"
   ]
  },
  {
   "cell_type": "code",
   "execution_count": 0,
   "metadata": {
    "application/vnd.databricks.v1+cell": {
     "cellMetadata": {
      "byteLimit": 2048000,
      "rowLimit": 10000
     },
     "inputWidgets": {},
     "nuid": "299e826b-aac8-46c4-8574-683f9104de43",
     "showTitle": false,
     "tableResultSettingsMap": {},
     "title": ""
    }
   },
   "outputs": [],
   "source": [
    "from databricks import agents\n",
    "deployment_info = agents.deploy(UC_MODEL_NAME, uc_registered_model_info.version)"
   ]
  },
  {
   "cell_type": "code",
   "execution_count": 0,
   "metadata": {
    "application/vnd.databricks.v1+cell": {
     "cellMetadata": {
      "byteLimit": 2048000,
      "rowLimit": 10000
     },
     "inputWidgets": {},
     "nuid": "5333158a-08f6-4442-931d-2edce5de1db5",
     "showTitle": false,
     "tableResultSettingsMap": {},
     "title": ""
    }
   },
   "outputs": [],
   "source": [
    "import time\n",
    "from typing import Dict\n",
    "\n",
    "from mlflow.deployments import get_deploy_client\n",
    "\n",
    "client = get_deploy_client(\"databricks\")  # uses workspace creds automatically\n",
    "\n",
    "def wait_for_endpoint_ready(\n",
    "    endpoint_name: str, sleep_seconds: int = 30, timeout_seconds: int = 1_800\n",
    ") -> Dict:\n",
    "    start_time = time.time()\n",
    "\n",
    "    while True:\n",
    "        # Grab the latest metadata for the endpoint\n",
    "        meta = client.get_endpoint(endpoint=endpoint_name)\n",
    "\n",
    "        # 'state.ready' is \"READY\" once the endpoint can receive traffic\n",
    "        ready_state = meta.get(\"state\", {}).get(\"ready\", \"UNKNOWN\")\n",
    "        print(f\"[{time.strftime('%H:%M:%S')}] {endpoint_name}: {ready_state}\")\n",
    "\n",
    "        if ready_state == \"READY\":\n",
    "            print(\"✅ Endpoint is RUNNING and ready to serve requests.\")\n",
    "            return meta\n",
    "\n",
    "        # Abort if we've waited too long\n",
    "        if time.time() - start_time > timeout_seconds:\n",
    "            raise TimeoutError(\n",
    "                f\"Endpoint {endpoint_name} was not READY after \"\n",
    "                f\"{timeout_seconds} seconds.\"\n",
    "            )\n",
    "\n",
    "        # Otherwise, wait and try again\n",
    "        time.sleep(sleep_seconds)"
   ]
  },
  {
   "cell_type": "code",
   "execution_count": 0,
   "metadata": {
    "application/vnd.databricks.v1+cell": {
     "cellMetadata": {
      "byteLimit": 2048000,
      "rowLimit": 10000
     },
     "inputWidgets": {},
     "nuid": "3cd9fd33-4d40-4d3e-8610-4e212714e0ed",
     "showTitle": false,
     "tableResultSettingsMap": {},
     "title": ""
    }
   },
   "outputs": [],
   "source": [
    "wait_for_endpoint_ready(deployment_info.endpoint_name)"
   ]
  },
  {
   "cell_type": "code",
   "execution_count": 0,
   "metadata": {
    "application/vnd.databricks.v1+cell": {
     "cellMetadata": {
      "byteLimit": 2048000,
      "rowLimit": 10000
     },
     "inputWidgets": {},
     "nuid": "dd47242d-ac1f-4c31-8dcc-ed3c42908c50",
     "showTitle": false,
     "tableResultSettingsMap": {},
     "title": ""
    }
   },
   "outputs": [],
   "source": [
    "print(\"\"\"\n",
    "             Smoke test complete!\n",
    "            /\n",
    "        (o_o)/\n",
    "        <)  )\n",
    "        /  \\                \\(o_o)/ \\(o_o)/ \\(o_o)/ \\(o_o)/\n",
    "      \"\"\")"
   ]
  },
  {
   "cell_type": "code",
   "execution_count": 0,
   "metadata": {
    "application/vnd.databricks.v1+cell": {
     "cellMetadata": {},
     "inputWidgets": {},
     "nuid": "51d9dfa1-bd4a-4ca7-bc19-667739d5c023",
     "showTitle": false,
     "tableResultSettingsMap": {},
     "title": ""
    }
   },
   "outputs": [],
   "source": []
  }
 ],
 "metadata": {
  "application/vnd.databricks.v1+notebook": {
   "computePreferences": null,
   "dashboards": [],
   "environmentMetadata": {
    "base_environment": "",
    "environment_version": "2"
   },
   "inputWidgetPreferences": null,
   "language": "python",
   "notebookMetadata": {
    "pythonIndentUnit": 2
   },
   "notebookName": "02b_rag_agent_driver",
   "widgets": {}
  },
  "language_info": {
   "name": "python"
  }
 },
 "nbformat": 4,
 "nbformat_minor": 0
}
