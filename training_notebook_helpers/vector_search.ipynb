{
 "cells": [
  {
   "cell_type": "code",
   "execution_count": 0,
   "metadata": {
    "application/vnd.databricks.v1+cell": {
     "cellMetadata": {
      "byteLimit": 2048000,
      "rowLimit": 10000
     },
     "inputWidgets": {},
     "nuid": "5cd02ef2-cc59-4a09-8de9-9f76827ccf43",
     "showTitle": false,
     "tableResultSettingsMap": {},
     "title": ""
    }
   },
   "outputs": [],
   "source": [
    "%pip install -q -r ./../requirements.txt\n",
    "dbutils.library.restartPython()"
   ]
  },
  {
   "cell_type": "code",
   "execution_count": 0,
   "metadata": {
    "application/vnd.databricks.v1+cell": {
     "cellMetadata": {
      "byteLimit": 2048000,
      "rowLimit": 10000
     },
     "inputWidgets": {},
     "nuid": "fa8540db-034a-4573-b838-4aa6ed1035c3",
     "showTitle": false,
     "tableResultSettingsMap": {},
     "title": ""
    }
   },
   "outputs": [],
   "source": [
    "from operator import itemgetter\n",
    "import mlflow\n",
    "import os\n",
    "from typing import Any, Callable, Dict, Generator, List, Optional\n",
    "\n",
    "from databricks.vector_search.client import VectorSearchClient\n",
    "\n",
    "from vector_search_utils.self_querying_retriever import load_self_querying_retriever\n",
    "#from supervisor_utils.decomposer import load_decomposer\n",
    "\n",
    "from databricks_langchain import ChatDatabricks\n",
    "from databricks_langchain import DatabricksVectorSearch\n",
    "\n",
    "from langchain_core.runnables import RunnableLambda\n",
    "from langchain_core.output_parsers import StrOutputParser\n",
    "from langchain_core.prompts import (\n",
    "    PromptTemplate,\n",
    "    ChatPromptTemplate,\n",
    "    MessagesPlaceholder,\n",
    ")\n",
    "\n",
    "from langgraph_supervisor import create_supervisor\n",
    "from langchain.chat_models import init_chat_model\n",
    "\n",
    "from langchain_core.runnables import RunnablePassthrough, RunnableBranch\n",
    "from langchain_core.messages import HumanMessage, AIMessage\n",
    "from langchain.retrievers.multi_query import MultiQueryRetriever\n",
    "\n",
    "from langchain_core.output_parsers import BaseOutputParser\n",
    "from langchain_core.prompts import PromptTemplate\n",
    "from pydantic import BaseModel, Field\n",
    "\n",
    "from mlflow.pyfunc import ChatAgent\n",
    "from mlflow.types.agent import (\n",
    "    ChatAgentChunk,\n",
    "    ChatAgentMessage,\n",
    "    ChatAgentResponse,\n",
    "    ChatContext,\n",
    ")"
   ]
  },
  {
   "cell_type": "code",
   "execution_count": 0,
   "metadata": {
    "application/vnd.databricks.v1+cell": {
     "cellMetadata": {
      "byteLimit": 2048000,
      "rowLimit": 10000
     },
     "inputWidgets": {},
     "nuid": "742ca599-f559-423a-93fc-49847b6ba2dc",
     "showTitle": false,
     "tableResultSettingsMap": {},
     "title": ""
    }
   },
   "outputs": [],
   "source": [
    "## Enable MLflow Tracing\n",
    "\n",
    "mlflow.set_tracking_uri(\"databricks\")\n",
    "mlflow.langchain.autolog()\n",
    "\n",
    "# Load the chain's configuration\n",
    "model_config = mlflow.models.ModelConfig(development_config=\"./../configs/agent.yaml\")\n",
    "databricks_config = model_config.get(\"databricks_config\")\n",
    "doc_agent_config = model_config.get(\"doc_agent_config\")\n",
    "\n",
    "catalog = databricks_config[\"catalog\"]\n",
    "schema = databricks_config[\"schema\"]\n",
    "\n",
    "retriever_config = model_config.get(\"retriever_config\")\n",
    "vector_search_schema = retriever_config.get(\"schema\")\n",
    "\n",
    "doc_retrieval_model = ChatDatabricks(\n",
    "    endpoint=doc_agent_config.get(\"llm_config\").get(\"llm_endpoint_name\"),\n",
    "    extra_params=doc_agent_config.get(\"llm_config\").get(\"llm_parameters\"),\n",
    "    model_kwargs={\"parallel_tool_calls\": False}\n",
    ")"
   ]
  },
  {
   "cell_type": "code",
   "execution_count": 0,
   "metadata": {
    "application/vnd.databricks.v1+cell": {
     "cellMetadata": {
      "byteLimit": 2048000,
      "rowLimit": 10000
     },
     "inputWidgets": {},
     "nuid": "282b57b4-e768-401d-addd-912f8cbba3a3",
     "showTitle": false,
     "tableResultSettingsMap": {},
     "title": ""
    }
   },
   "outputs": [],
   "source": [
    "print(retriever_config[\"vector_search_endpoint\"])\n",
    "print(retriever_config[\"vector_search_index\"])"
   ]
  },
  {
   "cell_type": "code",
   "execution_count": 0,
   "metadata": {
    "application/vnd.databricks.v1+cell": {
     "cellMetadata": {
      "byteLimit": 2048000,
      "rowLimit": 10000
     },
     "inputWidgets": {},
     "nuid": "d82090e0-ecce-470e-8b62-cf355eb59583",
     "showTitle": false,
     "tableResultSettingsMap": {},
     "title": ""
    }
   },
   "outputs": [],
   "source": [
    "client = VectorSearchClient()\n",
    "index = client.get_index(\n",
    "  endpoint_name=retriever_config[\"vector_search_endpoint\"],\n",
    "  index_name=f\"{catalog}.{schema}.sec_doc_chunks_index_v1\"\n",
    ")\n",
    "\n",
    "results = index.similarity_search(\n",
    "    query_text=\"American Express Revenue 2022\", #query_embeddings\n",
    "    columns=[\"chunk_id\", \"document_type\", \"path\", \"resolved_company\", \"doc_content\", \"year\"],\n",
    "    num_results=10,\n",
    "    query_type=\"HYBRID\",\n",
    "    filters={\"resolved_company\": [\"AMERICANEXPRESS\"], \"year\": \"2022\"},\n",
    "    score_threshold=\"\"\n",
    "    )\n",
    "\n",
    "for r in results['result']['data_array']:\n",
    "  print(r)\n"
   ]
  },
  {
   "cell_type": "code",
   "execution_count": 0,
   "metadata": {
    "application/vnd.databricks.v1+cell": {
     "cellMetadata": {
      "byteLimit": 2048000,
      "rowLimit": 10000
     },
     "inputWidgets": {},
     "nuid": "cc895231-da61-4455-9bdc-16a0e4a269ab",
     "showTitle": false,
     "tableResultSettingsMap": {},
     "title": ""
    }
   },
   "outputs": [],
   "source": [
    "from databricks_langchain import VectorSearchRetrieverTool, ChatDatabricks\n",
    "\n",
    "# Initialize the retriever tool.\n",
    "vs_tool = VectorSearchRetrieverTool(\n",
    "  index_name=f\"{catalog}.{schema}.sec_doc_chunks_index_v1\",\n",
    "  tool_name=\"databricks_docs_retriever\",\n",
    "  tool_description=\"Retrieves information about SEC filings for different companies\",\n",
    "  query_type=\"ANN\", # can also by HYBRID\n",
    "  num_results=\"10\"\n",
    ")\n",
    "\n",
    "# Run a query against the vector search index locally for testing\n",
    "vs_tool.invoke(\"What was American Express's revenue in 2022?\")"
   ]
  },
  {
   "cell_type": "code",
   "execution_count": 0,
   "metadata": {
    "application/vnd.databricks.v1+cell": {
     "cellMetadata": {
      "byteLimit": 2048000,
      "rowLimit": 10000
     },
     "inputWidgets": {},
     "nuid": "33cb7546-46d0-45c5-9d6d-4034aa148116",
     "showTitle": false,
     "tableResultSettingsMap": {},
     "title": ""
    }
   },
   "outputs": [],
   "source": [
    "example_input = {\n",
    "        \"messages\": [\n",
    "            {\n",
    "                \"role\": \"user\",\n",
    "                \"content\": \"What was American Express's revenue in 2022?\",\n",
    "            }\n",
    "        ]\n",
    "    }"
   ]
  },
  {
   "cell_type": "code",
   "execution_count": 0,
   "metadata": {
    "application/vnd.databricks.v1+cell": {
     "cellMetadata": {
      "byteLimit": 2048000,
      "rowLimit": 10000
     },
     "inputWidgets": {},
     "nuid": "2239d256-6d84-431a-8b66-1f9b824f6b95",
     "showTitle": false,
     "tableResultSettingsMap": {},
     "title": ""
    }
   },
   "outputs": [],
   "source": [
    "from langgraph.prebuilt import create_react_agent\n",
    "\n",
    "# Bind the retriever tool to your Langchain LLM of choice\n",
    "llm = ChatDatabricks(endpoint=\"databricks-claude-3-7-sonnet\")\n",
    "\n",
    "retriever_agent = create_react_agent(\n",
    "    model=llm,\n",
    "    tools=[vs_tool],\n",
    "    prompt=\"You are an SEC Docs analyst. Use the retrieved SEC documents to answer the following question\",\n",
    "    name=\"sec_metrics_analyst\",\n",
    ")\n",
    "\n",
    "response = retriever_agent.invoke(example_input)"
   ]
  },
  {
   "cell_type": "code",
   "execution_count": 0,
   "metadata": {
    "application/vnd.databricks.v1+cell": {
     "cellMetadata": {
      "byteLimit": 2048000,
      "rowLimit": 10000
     },
     "inputWidgets": {},
     "nuid": "016b727f-df08-424c-b233-5a48d57ca53f",
     "showTitle": false,
     "tableResultSettingsMap": {},
     "title": ""
    }
   },
   "outputs": [],
   "source": []
  },
  {
   "cell_type": "code",
   "execution_count": 0,
   "metadata": {
    "application/vnd.databricks.v1+cell": {
     "cellMetadata": {},
     "inputWidgets": {},
     "nuid": "1841539d-4d19-43fe-afc4-519b40897aba",
     "showTitle": false,
     "tableResultSettingsMap": {},
     "title": ""
    }
   },
   "outputs": [],
   "source": []
  }
 ],
 "metadata": {
  "application/vnd.databricks.v1+notebook": {
   "computePreferences": null,
   "dashboards": [],
   "environmentMetadata": {
    "base_environment": "",
    "environment_version": "2"
   },
   "inputWidgetPreferences": null,
   "language": "python",
   "notebookMetadata": {
    "pythonIndentUnit": 2
   },
   "notebookName": "vector_search",
   "widgets": {}
  },
  "language_info": {
   "name": "python"
  }
 },
 "nbformat": 4,
 "nbformat_minor": 0
}
