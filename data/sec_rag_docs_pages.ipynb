{
 "cells": [
  {
   "cell_type": "code",
   "execution_count": 0,
   "metadata": {
    "application/vnd.databricks.v1+cell": {
     "cellMetadata": {
      "byteLimit": 2048000,
      "rowLimit": 10000
     },
     "inputWidgets": {},
     "nuid": "d222f466-11f2-4c46-9822-e2a3547ad6fb",
     "showTitle": false,
     "tableResultSettingsMap": {},
     "title": ""
    }
   },
   "outputs": [],
   "source": [
    "%load_ext autoreload\n",
    "%autoreload 2\n",
    "# Enables autoreload; learn more at https://docs.databricks.com/en/files/workspace-modules.html#autoreload-for-python-modules\n",
    "# To disable autoreload; run %autoreload 0"
   ]
  },
  {
   "cell_type": "code",
   "execution_count": 0,
   "metadata": {
    "application/vnd.databricks.v1+cell": {
     "cellMetadata": {
      "byteLimit": 2048000,
      "rowLimit": 10000
     },
     "inputWidgets": {},
     "nuid": "9b3ba7c8-3f90-4cc6-9d27-0e460f30b552",
     "showTitle": false,
     "tableResultSettingsMap": {},
     "title": ""
    }
   },
   "outputs": [],
   "source": [
    "# df = spark.table(\"field_ai_examples.alphaleger.sec_rag_docs_pages_bronze\")\n",
    "df = spark.table(\"field_ai_examples.alphaleger.sec_rag_docs_pages_platinum\")\n",
    "# display(df)\n",
    "# display(df.select(\"company\").distinct())\n",
    "df.filter(df.company.isin([\"apple\", \"american express\"])).repartition(1).write.mode(\"overwrite\").parquet(\"/Volumes/felixflory/databricks_genai_hackathon/raw_data/sec_rag_docs_pages_folder.parquet\")"
   ]
  },
  {
   "cell_type": "code",
   "execution_count": 0,
   "metadata": {
    "application/vnd.databricks.v1+cell": {
     "cellMetadata": {
      "byteLimit": 2048000,
      "rowLimit": 10000
     },
     "inputWidgets": {},
     "nuid": "a8a17c3b-62bf-4c69-bd8e-63e3dd588110",
     "showTitle": false,
     "tableResultSettingsMap": {},
     "title": ""
    }
   },
   "outputs": [],
   "source": [
    "import sys, os\n",
    "sys.path.append(os.path.abspath('..'))\n",
    "from configs.project import projectConfig"
   ]
  },
  {
   "cell_type": "code",
   "execution_count": 0,
   "metadata": {
    "application/vnd.databricks.v1+cell": {
     "cellMetadata": {
      "byteLimit": 2048000,
      "rowLimit": 10000
     },
     "inputWidgets": {},
     "nuid": "05ad2308-4eff-4d00-9695-eafd96abde2f",
     "showTitle": false,
     "tableResultSettingsMap": {},
     "title": ""
    }
   },
   "outputs": [],
   "source": [
    "import urllib.request\n",
    "\n",
    "url = \"https://raw.githubusercontent.com/fflory/databricks_genai_hackathon/main/data/sec_rag_docs_pages.snappy.parquet\"\n",
    "local_path = \"/Volumes/felixflory/databricks_genai_hackathon/raw_data/sec_rag_docs_pages.snappy.parquet\"\n",
    "_ = urllib.request.urlretrieve(url, local_path)"
   ]
  },
  {
   "cell_type": "code",
   "execution_count": 0,
   "metadata": {
    "application/vnd.databricks.v1+cell": {
     "cellMetadata": {
      "byteLimit": 2048000,
      "rowLimit": 10000
     },
     "inputWidgets": {},
     "nuid": "1669a60c-e433-4822-b6cc-ba07373f3aaa",
     "showTitle": false,
     "tableResultSettingsMap": {},
     "title": ""
    }
   },
   "outputs": [],
   "source": [
    "spark.read.parquet(\n",
    "    f\"/Volumes/{projectConfig.uc_catalog}/{projectConfig.uc_schema}/raw_data/sec_rag_docs_pages.snappy.parquet\"\n",
    ").write.format(\"delta\").mode(\"overwrite\").saveAsTable(\n",
    "    projectConfig.table_sec_rag_docs_pages, mode=\"overwrite\",\n",
    ")"
   ]
  },
  {
   "cell_type": "code",
   "execution_count": 0,
   "metadata": {
    "application/vnd.databricks.v1+cell": {
     "cellMetadata": {
      "byteLimit": 2048000,
      "rowLimit": 10000
     },
     "inputWidgets": {},
     "nuid": "1d5c86ec-d38e-4c10-a29c-f75cf4a8cbe5",
     "showTitle": false,
     "tableResultSettingsMap": {},
     "title": ""
    }
   },
   "outputs": [],
   "source": [
    "catalog = projectConfig.uc_catalog\n",
    "schema = projectConfig.uc_schema"
   ]
  },
  {
   "cell_type": "code",
   "execution_count": 0,
   "metadata": {
    "application/vnd.databricks.v1+cell": {
     "cellMetadata": {
      "byteLimit": 2048000,
      "rowLimit": 10000
     },
     "inputWidgets": {},
     "nuid": "6b83aae4-c86a-465c-8856-64d3db5c37e9",
     "showTitle": false,
     "tableResultSettingsMap": {},
     "title": ""
    }
   },
   "outputs": [],
   "source": [
    "# spark.sql(f\"ALTER TABLE {projectConfig.table_sec_rag_docs_pages} ALTER COLUMN <PK_COLUMN> SET NOT NULL\")\n",
    "\n",
    "# spark.sql(f\"ALTER TABLE {projectConfig.table_sec_rag_docs_pages} ADD CONSTRAINT {sec_rag_docs_pages}_pk PRIMARY KEY( <PK_COLUMN> )\")\n",
    "\n",
    "spark.sql(f\"ALTER TABLE {projectConfig.table_sec_rag_docs_pages} SET TBLPROPERTIES (delta.enableChangeDataFeed = true) \")\n"
   ]
  }
 ],
 "metadata": {
  "application/vnd.databricks.v1+notebook": {
   "computePreferences": null,
   "dashboards": [],
   "environmentMetadata": {
    "base_environment": "",
    "environment_version": "2"
   },
   "inputWidgetPreferences": null,
   "language": "python",
   "notebookMetadata": {
    "pythonIndentUnit": 2
   },
   "notebookName": "sec_rag_docs_pages",
   "widgets": {}
  },
  "language_info": {
   "name": "python"
  }
 },
 "nbformat": 4,
 "nbformat_minor": 0
}
