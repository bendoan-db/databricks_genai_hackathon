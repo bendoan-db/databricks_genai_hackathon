{
 "cells": [
  {
   "cell_type": "code",
   "execution_count": 0,
   "metadata": {
    "application/vnd.databricks.v1+cell": {
     "cellMetadata": {
      "byteLimit": 2048000,
      "rowLimit": 10000
     },
     "inputWidgets": {},
     "nuid": "1a443ab0-79ed-4d6d-9d70-4377f60cd82e",
     "showTitle": false,
     "tableResultSettingsMap": {},
     "title": ""
    }
   },
   "outputs": [],
   "source": [
    "# %pip install databricks-sdk\n",
    "%pip install --upgrade databricks-vectorsearch pydantic mlflow\n",
    "%restart_python"
   ]
  },
  {
   "cell_type": "code",
   "execution_count": 0,
   "metadata": {
    "application/vnd.databricks.v1+cell": {
     "cellMetadata": {
      "byteLimit": 2048000,
      "rowLimit": 10000
     },
     "inputWidgets": {},
     "nuid": "a8d920e2-4356-4974-86c3-e847b17fd3d2",
     "showTitle": false,
     "tableResultSettingsMap": {},
     "title": ""
    }
   },
   "outputs": [],
   "source": [
    "%load_ext autoreload\n",
    "%autoreload 2\n",
    "# Enables autoreload; learn more at https://docs.databricks.com/en/files/workspace-modules.html#autoreload-for-python-modules\n",
    "# To disable autoreload; run %autoreload 0"
   ]
  },
  {
   "cell_type": "code",
   "execution_count": 0,
   "metadata": {
    "application/vnd.databricks.v1+cell": {
     "cellMetadata": {
      "byteLimit": 2048000,
      "rowLimit": 10000
     },
     "inputWidgets": {},
     "nuid": "703e19f8-9929-4a61-aee6-a036f3ee886e",
     "showTitle": false,
     "tableResultSettingsMap": {},
     "title": ""
    }
   },
   "outputs": [],
   "source": [
    "import sys, os\n",
    "sys.path.append(os.path.abspath('..'))\n",
    "from configs.project import ProjectConfig\n",
    "\n",
    "from databricks.vector_search.client import VectorSearchClient\n",
    "from datetime import timedelta\n",
    "import time"
   ]
  },
  {
   "cell_type": "code",
   "execution_count": 0,
   "metadata": {
    "application/vnd.databricks.v1+cell": {
     "cellMetadata": {
      "byteLimit": 2048000,
      "rowLimit": 10000
     },
     "inputWidgets": {},
     "nuid": "5a932e9d-2da9-41ea-9e16-83a5c23fdf63",
     "showTitle": false,
     "tableResultSettingsMap": {},
     "title": ""
    }
   },
   "outputs": [],
   "source": [
    "import yaml\n",
    "\n",
    "with open(\"../configs/project.yml\", \"r\") as file:\n",
    "    data = yaml.safe_load(file)\n",
    "\n",
    "projectConfig = ProjectConfig(**data)\n",
    "projectConfig.model_dump()"
   ]
  },
  {
   "cell_type": "code",
   "execution_count": 0,
   "metadata": {
    "application/vnd.databricks.v1+cell": {
     "cellMetadata": {
      "byteLimit": 2048000,
      "rowLimit": 10000
     },
     "inputWidgets": {},
     "nuid": "298b43cf-b5e2-4aac-9d7e-df5ba039d5b3",
     "showTitle": false,
     "tableResultSettingsMap": {},
     "title": ""
    }
   },
   "outputs": [],
   "source": [
    "vector_search_key = list(projectConfig.vector_search_attributes.keys())[0]\n",
    "globals().update(projectConfig.vector_search_attributes[vector_search_key])\n",
    "# vector_search_endpoint_name = projectConfig.vector_search_attributes[vector_search_key]['vector_search_endpoint_name']\n",
    "# embedding_model_endpoint_name = projectConfig.vector_search_attributes[vector_search_key]['embedding_model_endpoint_name']\n",
    "# source_table_name = projectConfig.vector_search_attributes[vector_search_key]['source_table_name']\n",
    "# index_name = projectConfig.vector_search_attributes[vector_search_key]['index_name']\n",
    "# primary_key = projectConfig.vector_search_attributes[vector_search_key]['primary_key']\n",
    "# embedding_source_column = projectConfig.vector_search_attributes[vector_search_key]['embedding_source_column']\n"
   ]
  },
  {
   "cell_type": "code",
   "execution_count": 0,
   "metadata": {
    "application/vnd.databricks.v1+cell": {
     "cellMetadata": {
      "byteLimit": 2048000,
      "rowLimit": 10000
     },
     "inputWidgets": {},
     "nuid": "185e2421-a523-4169-a843-32073c7df924",
     "showTitle": false,
     "tableResultSettingsMap": {},
     "title": ""
    }
   },
   "outputs": [],
   "source": [
    "vsc = VectorSearchClient(disable_notice=True)\n",
    "# ep = vsc.get_endpoint(name=endpoint_name)\n",
    "index = vsc.get_index(endpoint_name, index_name)"
   ]
  },
  {
   "cell_type": "code",
   "execution_count": 0,
   "metadata": {
    "application/vnd.databricks.v1+cell": {
     "cellMetadata": {
      "byteLimit": 2048000,
      "rowLimit": 10000
     },
     "inputWidgets": {},
     "nuid": "0e2400f5-18f4-4869-98dd-659ab2b2d32f",
     "showTitle": false,
     "tableResultSettingsMap": {},
     "title": ""
    }
   },
   "outputs": [],
   "source": [
    "results = index.similarity_search(\n",
    "  query_text=\"What was the last earnings results from American Express\",\n",
    "  columns=spark.table(source_table_name).columns,\n",
    "  num_results=1\n",
    ")\n",
    "\n",
    "if results[\"result\"][\"row_count\"] >0:\n",
    "  display(results[\"result\"][\"data_array\"])\n",
    "else:\n",
    "  print(\"No records\")\n"
   ]
  }
 ],
 "metadata": {
  "application/vnd.databricks.v1+notebook": {
   "computePreferences": null,
   "dashboards": [],
   "environmentMetadata": {
    "base_environment": "",
    "environment_version": "2"
   },
   "inputWidgetPreferences": null,
   "language": "python",
   "notebookMetadata": {
    "pythonIndentUnit": 2
   },
   "notebookName": "01_test_vector_search_index",
   "widgets": {}
  },
  "language_info": {
   "name": "python"
  }
 },
 "nbformat": 4,
 "nbformat_minor": 0
}
