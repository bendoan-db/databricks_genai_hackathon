{
 "cells": [
  {
   "cell_type": "code",
   "execution_count": 0,
   "metadata": {
    "application/vnd.databricks.v1+cell": {
     "cellMetadata": {
      "byteLimit": 2048000,
      "rowLimit": 10000
     },
     "inputWidgets": {},
     "nuid": "d2b10ad6-cd96-4a83-87d9-a70a917f5d9a",
     "showTitle": false,
     "tableResultSettingsMap": {},
     "title": ""
    }
   },
   "outputs": [],
   "source": [
    "%pip install -q -r requirements.txt\n",
    "dbutils.library.restartPython()"
   ]
  },
  {
   "cell_type": "code",
   "execution_count": 0,
   "metadata": {
    "application/vnd.databricks.v1+cell": {
     "cellMetadata": {
      "byteLimit": 2048000,
      "rowLimit": 10000
     },
     "inputWidgets": {},
     "nuid": "c6224e18-5aa4-4195-82bf-9f1812867b56",
     "showTitle": false,
     "tableResultSettingsMap": {},
     "title": ""
    }
   },
   "outputs": [],
   "source": [
    "import os \n",
    "import yaml\n",
    "from dbruntime.databricks_repl_context import get_context\n",
    "\n",
    "#for development purposes only\n",
    "os.environ[\"DATABRICKS_TOKEN\"] = get_context().apiToken\n",
    "os.environ[\"DATABRICKS_HOST\"] = \"https://\" + get_context().browserHostName\n",
    "\n",
    "with open('./smoke_test_config.yaml', 'r') as file:\n",
    "    config = yaml.safe_load(file)\n",
    "\n",
    "databricks_config = config[\"databricks_config\"]\n",
    "catalog = databricks_config[\"catalog\"]\n",
    "schema = databricks_config[\"schema\"]\n",
    "\n",
    "vs_config = config[\"vector_search_config\"]\n",
    "\n",
    "docs_table_name = vs_config[\"document_table_name\"]\n",
    "vs_endpoint_name = vs_config[\"vector_search_endpoint_name\"]\n",
    "vs_index_name = vs_config[\"vector_search_index_name\"]\n",
    "embedding_model = vs_config[\"embedding_model_endpoint_name\"]"
   ]
  },
  {
   "cell_type": "code",
   "execution_count": 0,
   "metadata": {
    "application/vnd.databricks.v1+cell": {
     "cellMetadata": {
      "byteLimit": 2048000,
      "rowLimit": 10000
     },
     "inputWidgets": {},
     "nuid": "af40a333-83a1-4e01-8908-9a0744aecb66",
     "showTitle": false,
     "tableResultSettingsMap": {},
     "title": ""
    }
   },
   "outputs": [],
   "source": [
    "try:\n",
    "  spark.sql(f\"CREATE CATALOG IF NOT EXISTS {catalog}\")\n",
    "except Exception as e:\n",
    "  print(f\"Failed to create schema {schema} with exception {str(e)}\")\n",
    "  raise e"
   ]
  },
  {
   "cell_type": "code",
   "execution_count": 0,
   "metadata": {
    "application/vnd.databricks.v1+cell": {
     "cellMetadata": {
      "byteLimit": 2048000,
      "rowLimit": 10000
     },
     "inputWidgets": {},
     "nuid": "d7d20569-0f2b-4dc0-a517-f2848192da84",
     "showTitle": false,
     "tableResultSettingsMap": {},
     "title": ""
    }
   },
   "outputs": [],
   "source": [
    "try:\n",
    "  spark.sql(f\"CREATE SCHEMA IF NOT EXISTS {catalog}.{schema}\")\n",
    "except Exception as e:\n",
    "  print(f\"Failed to create schema {schema} with exception {str(e)}\")\n",
    "  raise e"
   ]
  },
  {
   "cell_type": "code",
   "execution_count": 0,
   "metadata": {
    "application/vnd.databricks.v1+cell": {
     "cellMetadata": {
      "byteLimit": 2048000,
      "rowLimit": 10000
     },
     "inputWidgets": {},
     "nuid": "65f73f8f-ec30-4687-b04d-1c06bef351ab",
     "showTitle": false,
     "tableResultSettingsMap": {},
     "title": ""
    }
   },
   "outputs": [],
   "source": [
    "import os\n",
    "try: \n",
    "  input_example = spark.read.parquet(f\"file://{os.getcwd()}/data/*.parquet\")\n",
    "  input_example.write.mode(\"overwrite\").saveAsTable(f\"{catalog}.{schema}.{docs_table_name}\")\n",
    "  spark.sql(f\"ALTER TABLE {catalog}.{schema}.smoke_test_documents SET TBLPROPERTIES (delta.enableChangeDataFeed = true)\")\n",
    "except Exception as e:\n",
    "  print(f\"Failed to create test document table with exception {str(e)}\")\n",
    "  raise e"
   ]
  },
  {
   "cell_type": "code",
   "execution_count": 0,
   "metadata": {
    "application/vnd.databricks.v1+cell": {
     "cellMetadata": {
      "byteLimit": 2048000,
      "rowLimit": 10000
     },
     "inputWidgets": {},
     "nuid": "3b55e336-e2ce-4a2d-a30e-01588fd51ec3",
     "showTitle": false,
     "tableResultSettingsMap": {},
     "title": ""
    }
   },
   "outputs": [],
   "source": [
    "import time\n",
    "from datetime import timedelta\n",
    "from databricks.vector_search.client import VectorSearchClient\n",
    "\n",
    "vsc = VectorSearchClient(disable_notice=True)\n",
    "\n",
    "try:\n",
    "    vsc.create_endpoint(name=vs_endpoint_name,\n",
    "                        endpoint_type=\"STANDARD\")\n",
    "    time.sleep(5)\n",
    "    vsc.wait_for_endpoint(name=vs_endpoint_name,\n",
    "                                timeout=timedelta(minutes=60),\n",
    "                                verbose=True)\n",
    "    \n",
    "    print(f\"Endpoint named {vs_endpoint_name} is ready.\")\n",
    "    vs_endpoint = vsc.get_endpoint(name=vs_endpoint_name)\n",
    "\n",
    "except Exception as e:\n",
    "    if \"already exists\" in str(e):\n",
    "        print(f\"Endpoint named {vs_endpoint_name} already exists.\")\n",
    "        vs_endpoint = vsc.get_endpoint(name=vs_endpoint_name)\n",
    "    else:\n",
    "        print(f\"Failed to create vector search endpoint with error: {str(e)}\")\n",
    "        raise e"
   ]
  },
  {
   "cell_type": "code",
   "execution_count": 0,
   "metadata": {
    "application/vnd.databricks.v1+cell": {
     "cellMetadata": {
      "byteLimit": 2048000,
      "rowLimit": 10000
     },
     "inputWidgets": {},
     "nuid": "be1f19b5-208c-49f9-a8b4-dcd912ac1aa4",
     "showTitle": false,
     "tableResultSettingsMap": {},
     "title": ""
    }
   },
   "outputs": [],
   "source": [
    "try:\n",
    "  vector_search_index = vsc.create_delta_sync_index_and_wait(\n",
    "    endpoint_name=vs_endpoint_name,\n",
    "    index_name=f\"{catalog}.{schema}.{vs_index_name}\",\n",
    "    source_table_name=f\"{catalog}.{schema}.{docs_table_name}\",\n",
    "    primary_key=\"chunk_id\",\n",
    "    embedding_source_column=\"content_chunked\",\n",
    "    embedding_model_endpoint_name=embedding_model,\n",
    "    verbose=True,\n",
    "    pipeline_type=\"TRIGGERED\"\n",
    "  )\n",
    "except Exception as e:\n",
    "    if \"already exists\" in str(e):\n",
    "      print(f\"Index named {vs_index_name} already exists.\")\n",
    "      vector_search_index = vsc.get_index(endpoint_name, vs_index_name)\n",
    "    else:\n",
    "      print(f\"Failed to create vector search endpoint with error: {str(e)}\")\n",
    "      raise e"
   ]
  },
  {
   "cell_type": "code",
   "execution_count": 0,
   "metadata": {
    "application/vnd.databricks.v1+cell": {
     "cellMetadata": {
      "byteLimit": 2048000,
      "rowLimit": 10000
     },
     "inputWidgets": {},
     "nuid": "5f763b84-9dd2-41ee-8c93-8687296147b3",
     "showTitle": false,
     "tableResultSettingsMap": {},
     "title": ""
    }
   },
   "outputs": [],
   "source": [
    "print(f\"VS Index {catalog}.{schema}.{vs_index_name} created successfully!\")"
   ]
  }
 ],
 "metadata": {
  "application/vnd.databricks.v1+notebook": {
   "computePreferences": null,
   "dashboards": [],
   "environmentMetadata": {
    "base_environment": "",
    "environment_version": "2"
   },
   "inputWidgetPreferences": null,
   "language": "python",
   "notebookMetadata": {
    "pythonIndentUnit": 2
   },
   "notebookName": "01_create_vector_search_index",
   "widgets": {}
  },
  "language_info": {
   "name": "python"
  }
 },
 "nbformat": 4,
 "nbformat_minor": 0
}
