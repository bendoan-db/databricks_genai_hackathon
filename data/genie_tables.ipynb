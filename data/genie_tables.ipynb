{
 "cells": [
  {
   "cell_type": "code",
   "execution_count": 0,
   "metadata": {
    "application/vnd.databricks.v1+cell": {
     "cellMetadata": {
      "byteLimit": 2048000,
      "rowLimit": 10000
     },
     "inputWidgets": {},
     "nuid": "16df3fc1-8e2f-49b4-8fb8-ffa4a26a7ef7",
     "showTitle": false,
     "tableResultSettingsMap": {},
     "title": ""
    }
   },
   "outputs": [],
   "source": [
    "# df = spark.table(\"doan.financial_statements.balance_sheet\")\n",
    "# df.write.mode(\"overwrite\").parquet(\"/Volumes/felixflory/databricks_genai_hackathon/raw_data/balance_sheet.parquet\")"
   ]
  },
  {
   "cell_type": "code",
   "execution_count": 0,
   "metadata": {
    "application/vnd.databricks.v1+cell": {
     "cellMetadata": {
      "byteLimit": 2048000,
      "rowLimit": 10000
     },
     "inputWidgets": {},
     "nuid": "559defdd-5c11-4092-ab3f-84de93227ef7",
     "showTitle": false,
     "tableResultSettingsMap": {},
     "title": ""
    }
   },
   "outputs": [],
   "source": [
    "# df = spark.table(\"doan.financial_statements.income_statement\")\n",
    "# df.write.mode(\"overwrite\").parquet(\"/Volumes/felixflory/databricks_genai_hackathon/raw_data/income_statement.parquet\")"
   ]
  },
  {
   "cell_type": "code",
   "execution_count": 0,
   "metadata": {
    "application/vnd.databricks.v1+cell": {
     "cellMetadata": {
      "byteLimit": 2048000,
      "rowLimit": 10000
     },
     "inputWidgets": {},
     "nuid": "08e1cab6-303d-4dbe-be9a-c8f7b2e39687",
     "showTitle": false,
     "tableResultSettingsMap": {},
     "title": ""
    }
   },
   "outputs": [],
   "source": [
    "import sys, os\n",
    "sys.path.append(os.path.abspath('..'))\n",
    "from configs.project import projectConfig"
   ]
  },
  {
   "cell_type": "code",
   "execution_count": 0,
   "metadata": {
    "application/vnd.databricks.v1+cell": {
     "cellMetadata": {
      "byteLimit": 2048000,
      "rowLimit": 10000
     },
     "inputWidgets": {},
     "nuid": "74c9a5f9-3183-4ceb-9052-14b0da71b994",
     "showTitle": false,
     "tableResultSettingsMap": {},
     "title": ""
    }
   },
   "outputs": [],
   "source": [
    "import urllib.request\n",
    "\n",
    "url = \"https://raw.githubusercontent.com/fflory/databricks_genai_hackathon/main/data/balance_sheet.parquet\"\n",
    "local_path = \"/Volumes/felixflory/databricks_genai_hackathon/raw_data/balance_sheet.snappy.parquet\"\n",
    "_ = urllib.request.urlretrieve(url, local_path)\n",
    "\n",
    "url = \"https://raw.githubusercontent.com/fflory/databricks_genai_hackathon/main/data/income_statement.parquet\"\n",
    "local_path = \"/Volumes/felixflory/databricks_genai_hackathon/raw_data/income_statement.snappy.parquet\"\n",
    "_ = urllib.request.urlretrieve(url, local_path)"
   ]
  },
  {
   "cell_type": "code",
   "execution_count": 0,
   "metadata": {
    "application/vnd.databricks.v1+cell": {
     "cellMetadata": {
      "byteLimit": 2048000,
      "rowLimit": 10000
     },
     "inputWidgets": {},
     "nuid": "d84632c1-f234-40d1-b118-a59a04eedf43",
     "showTitle": false,
     "tableResultSettingsMap": {},
     "title": ""
    }
   },
   "outputs": [],
   "source": [
    "spark.read.parquet(\n",
    "    f\"/Volumes/{projectConfig.uc_catalog}/{projectConfig.uc_schema}/raw_data/balance_sheet.snappy.parquet\"\n",
    ").write.format(\"delta\").mode(\"overwrite\").saveAsTable(\n",
    "    f\"{projectConfig.uc_catalog}.{projectConfig.uc_schema}.balance_sheet\",\n",
    "    mode=\"overwrite\",\n",
    ")\n",
    "spark.read.parquet(\n",
    "    f\"/Volumes/{projectConfig.uc_catalog}/{projectConfig.uc_schema}/raw_data/income_statement.snappy.parquet\"\n",
    ").write.format(\"delta\").mode(\"overwrite\").saveAsTable(\n",
    "    f\"{projectConfig.uc_catalog}.{projectConfig.uc_schema}.income_statement\",\n",
    "    mode=\"overwrite\",\n",
    ")"
   ]
  },
  {
   "cell_type": "code",
   "execution_count": 0,
   "metadata": {
    "application/vnd.databricks.v1+cell": {
     "cellMetadata": {
      "byteLimit": 2048000,
      "rowLimit": 10000
     },
     "inputWidgets": {},
     "nuid": "1e9ba1b7-4447-4386-b18d-0bd20743d172",
     "showTitle": false,
     "tableResultSettingsMap": {},
     "title": ""
    }
   },
   "outputs": [],
   "source": [
    "balance_sheet_df = spark.table(f\"{projectConfig.uc_catalog}.{projectConfig.uc_schema}.balance_sheet\")\n",
    "income_statement_df = spark.table(f\"{projectConfig.uc_catalog}.{projectConfig.uc_schema}.income_statement\")"
   ]
  },
  {
   "cell_type": "code",
   "execution_count": 0,
   "metadata": {
    "application/vnd.databricks.v1+cell": {
     "cellMetadata": {
      "byteLimit": 2048000,
      "rowLimit": 10000
     },
     "inputWidgets": {},
     "nuid": "ee61dad5-ecc9-4998-895f-a41d6380df8a",
     "showTitle": false,
     "tableResultSettingsMap": {},
     "title": ""
    }
   },
   "outputs": [],
   "source": [
    "display(balance_sheet_df)"
   ]
  },
  {
   "cell_type": "code",
   "execution_count": 0,
   "metadata": {
    "application/vnd.databricks.v1+cell": {
     "cellMetadata": {
      "byteLimit": 2048000,
      "rowLimit": 10000
     },
     "inputWidgets": {},
     "nuid": "390017f4-57fb-4713-9e31-9604114f0ae0",
     "showTitle": false,
     "tableResultSettingsMap": {},
     "title": ""
    }
   },
   "outputs": [],
   "source": [
    "balance_sheet_df.select(\"TICKER\").distinct().show()"
   ]
  },
  {
   "cell_type": "code",
   "execution_count": 0,
   "metadata": {
    "application/vnd.databricks.v1+cell": {
     "cellMetadata": {
      "byteLimit": 2048000,
      "rowLimit": 10000
     },
     "inputWidgets": {},
     "nuid": "8b116d35-601a-4407-9b33-b4a8ab55a4be",
     "showTitle": false,
     "tableResultSettingsMap": {},
     "title": ""
    }
   },
   "outputs": [],
   "source": [
    "display(income_statement_df)"
   ]
  },
  {
   "cell_type": "code",
   "execution_count": 0,
   "metadata": {
    "application/vnd.databricks.v1+cell": {
     "cellMetadata": {
      "byteLimit": 2048000,
      "rowLimit": 10000
     },
     "inputWidgets": {},
     "nuid": "d107433c-74aa-44a4-b879-22431cb87a77",
     "showTitle": false,
     "tableResultSettingsMap": {},
     "title": ""
    }
   },
   "outputs": [],
   "source": [
    "print(\"tables created:\")\n",
    "print(f\"{projectConfig.uc_catalog}.{projectConfig.uc_schema}.balance_sheet\")\n",
    "print(f\"{projectConfig.uc_catalog}.{projectConfig.uc_schema}.income_statement\")"
   ]
  }
 ],
 "metadata": {
  "application/vnd.databricks.v1+notebook": {
   "computePreferences": null,
   "dashboards": [],
   "environmentMetadata": {
    "base_environment": "",
    "environment_version": "2"
   },
   "inputWidgetPreferences": null,
   "language": "python",
   "notebookMetadata": {
    "pythonIndentUnit": 2
   },
   "notebookName": "genie_tables",
   "widgets": {}
  },
  "language_info": {
   "name": "python"
  }
 },
 "nbformat": 4,
 "nbformat_minor": 0
}
