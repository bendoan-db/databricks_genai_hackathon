{
 "cells": [
  {
   "cell_type": "code",
   "execution_count": 0,
   "metadata": {
    "application/vnd.databricks.v1+cell": {
     "cellMetadata": {
      "byteLimit": 2048000,
      "rowLimit": 10000
     },
     "inputWidgets": {},
     "nuid": "cca072e8-f1f2-404d-8cca-2be2d812ba05",
     "showTitle": false,
     "tableResultSettingsMap": {},
     "title": ""
    },
    "jupyter": {
     "outputs_hidden": true
    }
   },
   "outputs": [],
   "source": [
    "# %pip install databricks-sdk\n",
    "%pip install --upgrade databricks-vectorsearch pydantic mlflow\n",
    "%restart_python"
   ]
  },
  {
   "cell_type": "code",
   "execution_count": 0,
   "metadata": {
    "application/vnd.databricks.v1+cell": {
     "cellMetadata": {
      "byteLimit": 2048000,
      "rowLimit": 10000
     },
     "inputWidgets": {},
     "nuid": "e8c4b82a-3838-417d-b440-655295dc1e11",
     "showTitle": false,
     "tableResultSettingsMap": {},
     "title": ""
    }
   },
   "outputs": [],
   "source": [
    "%load_ext autoreload\n",
    "%autoreload 2\n",
    "# Enables autoreload; learn more at https://docs.databricks.com/en/files/workspace-modules.html#autoreload-for-python-modules\n",
    "# To disable autoreload; run %autoreload 0"
   ]
  },
  {
   "cell_type": "code",
   "execution_count": 0,
   "metadata": {
    "application/vnd.databricks.v1+cell": {
     "cellMetadata": {
      "byteLimit": 2048000,
      "rowLimit": 10000
     },
     "inputWidgets": {},
     "nuid": "0344eaa4-5354-4cd8-af5b-03a0c5c820cd",
     "showTitle": false,
     "tableResultSettingsMap": {},
     "title": ""
    }
   },
   "outputs": [],
   "source": [
    "import sys, os\n",
    "sys.path.append(os.path.abspath('..'))\n",
    "from configs.project import ProjectConfig\n",
    "\n",
    "from databricks.vector_search.client import VectorSearchClient\n",
    "from datetime import timedelta\n",
    "import time\n"
   ]
  },
  {
   "cell_type": "code",
   "execution_count": 0,
   "metadata": {
    "application/vnd.databricks.v1+cell": {
     "cellMetadata": {
      "byteLimit": 2048000,
      "rowLimit": 10000
     },
     "inputWidgets": {},
     "nuid": "31b2197c-2897-4798-902d-0df08560aec9",
     "showTitle": false,
     "tableResultSettingsMap": {},
     "title": ""
    }
   },
   "outputs": [],
   "source": [
    "import yaml\n",
    "\n",
    "with open(\"../configs/project.yml\", \"r\") as file:\n",
    "    data = yaml.safe_load(file)\n",
    "\n",
    "projectConfig = ProjectConfig(**data)\n",
    "# TODO: choose the correct index here most likely \"id_1\"\n",
    "_config = projectConfig.vector_search_attributes[\"id_1\"]\n",
    "\n",
    "for k, v in _config.model_dump().items():\n",
    "  print(k, v)"
   ]
  },
  {
   "cell_type": "code",
   "execution_count": 0,
   "metadata": {
    "application/vnd.databricks.v1+cell": {
     "cellMetadata": {
      "byteLimit": 2048000,
      "rowLimit": 10000
     },
     "inputWidgets": {},
     "nuid": "6c1b02a9-266b-4af5-aa66-48a31058b593",
     "showTitle": false,
     "tableResultSettingsMap": {},
     "title": ""
    }
   },
   "outputs": [],
   "source": [
    "# globals().update(_config)"
   ]
  },
  {
   "cell_type": "code",
   "execution_count": 0,
   "metadata": {
    "application/vnd.databricks.v1+cell": {
     "cellMetadata": {
      "byteLimit": 2048000,
      "rowLimit": 10000
     },
     "inputWidgets": {},
     "nuid": "32f87c39-97e5-4552-9c08-6162f66dc294",
     "showTitle": false,
     "tableResultSettingsMap": {},
     "title": ""
    }
   },
   "outputs": [],
   "source": [
    "vsc = VectorSearchClient(disable_notice=True)"
   ]
  },
  {
   "cell_type": "code",
   "execution_count": 0,
   "metadata": {
    "application/vnd.databricks.v1+cell": {
     "cellMetadata": {
      "byteLimit": 2048000,
      "rowLimit": 10000
     },
     "inputWidgets": {},
     "nuid": "25b6856d-8cde-4217-84ab-be5fa5bf1596",
     "showTitle": false,
     "tableResultSettingsMap": {},
     "title": ""
    },
    "jupyter": {
     "outputs_hidden": true
    }
   },
   "outputs": [],
   "source": [
    "spark.sql(f\"ALTER TABLE {_config.source_table_name} ALTER COLUMN {_config.primary_key} SET NOT NULL\")\n",
    "try:\n",
    "  spark.sql(f\"ALTER TABLE {_config.source_table_name} ADD CONSTRAINT {_config.primary_key}_pk PRIMARY KEY( {_config.primary_key} )\")\n",
    "except Exception as e:\n",
    "  print(f\"Constraint {_config.primary_key}_pk already exists.\")\n",
    "spark.sql(f\"ALTER TABLE {_config.source_table_name} SET TBLPROPERTIES (delta.enableChangeDataFeed = true) \")\n"
   ]
  },
  {
   "cell_type": "code",
   "execution_count": 0,
   "metadata": {
    "application/vnd.databricks.v1+cell": {
     "cellMetadata": {
      "byteLimit": 2048000,
      "rowLimit": 10000
     },
     "inputWidgets": {},
     "nuid": "3345b92b-1d87-48c9-bdee-842f3fa6da15",
     "showTitle": false,
     "tableResultSettingsMap": {},
     "title": ""
    }
   },
   "outputs": [],
   "source": [
    "display(spark.table(_config.source_table_name))"
   ]
  },
  {
   "cell_type": "code",
   "execution_count": 0,
   "metadata": {
    "application/vnd.databricks.v1+cell": {
     "cellMetadata": {
      "byteLimit": 2048000,
      "rowLimit": 10000
     },
     "inputWidgets": {},
     "nuid": "8cbe0ef8-3a2b-4669-a80d-0ba42c3b0bbe",
     "showTitle": false,
     "tableResultSettingsMap": {},
     "title": ""
    }
   },
   "outputs": [],
   "source": [
    "try:\n",
    "    vsc.create_endpoint(name=_config.endpoint_name,\n",
    "                        endpoint_type=\"STANDARD\")\n",
    "    \n",
    "    time.sleep(5)\n",
    "\n",
    "    vsc.wait_for_endpoint(name=_config.endpoint_name,\n",
    "                                timeout=timedelta(minutes=60),\n",
    "                                verbose=True)\n",
    "    \n",
    "    print(f\"Endpoint named {_config.endpoint_name} is ready.\")\n",
    "\n",
    "    ep = vsc.get_endpoint(name=_config.endpoint_name)\n",
    "\n",
    "except Exception as e:\n",
    "    if \"already exists\" in str(e):\n",
    "        print(f\"Endpoint named {_config.endpoint_name} already exists.\")\n",
    "        ep = vsc.get_endpoint(name=_config.endpoint_name)\n",
    "    else:\n",
    "        raise e\n"
   ]
  },
  {
   "cell_type": "code",
   "execution_count": 0,
   "metadata": {
    "application/vnd.databricks.v1+cell": {
     "cellMetadata": {
      "byteLimit": 2048000,
      "rowLimit": 10000
     },
     "inputWidgets": {},
     "nuid": "ff939de5-8d78-4517-8754-0d2919cb5b77",
     "showTitle": false,
     "tableResultSettingsMap": {},
     "title": ""
    }
   },
   "outputs": [],
   "source": [
    "from databricks.sdk.service import iam\n",
    "from databricks.sdk import WorkspaceClient\n",
    "\n",
    "w = WorkspaceClient()\n",
    "w.permissions.set(request_object_type=\"vector-search-endpoints\",\n",
    "                  request_object_id=ep[\"id\"],\n",
    "                  access_control_list=[\n",
    "                        iam.AccessControlRequest(group_name=\"users\",\n",
    "                                                   permission_level=iam.PermissionLevel.CAN_MANAGE)\n",
    "                      ])"
   ]
  },
  {
   "cell_type": "markdown",
   "metadata": {
    "application/vnd.databricks.v1+cell": {
     "cellMetadata": {},
     "inputWidgets": {},
     "nuid": "9f0514c3-ea38-4122-b66f-fd5c325f609c",
     "showTitle": false,
     "tableResultSettingsMap": {},
     "title": ""
    }
   },
   "source": [
    "Test Embedding Endpoint"
   ]
  },
  {
   "cell_type": "code",
   "execution_count": 0,
   "metadata": {
    "application/vnd.databricks.v1+cell": {
     "cellMetadata": {
      "byteLimit": 2048000,
      "rowLimit": 10000
     },
     "inputWidgets": {},
     "nuid": "9cef618c-b8f6-4564-bc65-b6cc07b801e7",
     "showTitle": false,
     "tableResultSettingsMap": {},
     "title": ""
    }
   },
   "outputs": [],
   "source": [
    "import mlflow\n",
    "import mlflow.deployments\n",
    "\n",
    "client = mlflow.deployments.get_deploy_client(\"databricks\")\n"
   ]
  },
  {
   "cell_type": "code",
   "execution_count": 0,
   "metadata": {
    "application/vnd.databricks.v1+cell": {
     "cellMetadata": {
      "byteLimit": 2048000,
      "rowLimit": 10000
     },
     "inputWidgets": {},
     "nuid": "525b5d45-0a56-40d7-a46e-518f5dca1f49",
     "showTitle": false,
     "tableResultSettingsMap": {},
     "title": ""
    }
   },
   "outputs": [],
   "source": [
    "[ep for ep in client.list_endpoints() if ep[\"name\"]==_config.embedding_model_endpoint_name]\n"
   ]
  },
  {
   "cell_type": "code",
   "execution_count": 0,
   "metadata": {
    "application/vnd.databricks.v1+cell": {
     "cellMetadata": {
      "byteLimit": 2048000,
      "rowLimit": 10000
     },
     "inputWidgets": {},
     "nuid": "9ef956e8-d62e-43c3-a3cf-047032af3d45",
     "showTitle": false,
     "tableResultSettingsMap": {},
     "title": ""
    }
   },
   "outputs": [],
   "source": [
    "client.predict(endpoint=_config.embedding_model_endpoint_name, inputs={\"input\": [\"What is Apache Spark?\"]})\n"
   ]
  },
  {
   "cell_type": "markdown",
   "metadata": {
    "application/vnd.databricks.v1+cell": {
     "cellMetadata": {},
     "inputWidgets": {},
     "nuid": "eab429ea-de11-42d3-a921-c6a23aa82609",
     "showTitle": false,
     "tableResultSettingsMap": {},
     "title": ""
    }
   },
   "source": [
    "#Create Vector Search Index"
   ]
  },
  {
   "cell_type": "code",
   "execution_count": 0,
   "metadata": {
    "application/vnd.databricks.v1+cell": {
     "cellMetadata": {
      "byteLimit": 2048000,
      "rowLimit": 10000
     },
     "inputWidgets": {},
     "nuid": "0545fd8c-4a5f-47ff-87b7-a45a84173a8b",
     "showTitle": false,
     "tableResultSettingsMap": {},
     "title": ""
    }
   },
   "outputs": [],
   "source": [
    "\n",
    "try:\n",
    "  vector_search_index = vsc.create_delta_sync_index_and_wait(\n",
    "    endpoint_name=_config.endpoint_name,\n",
    "    index_name=_config.index_name,\n",
    "    source_table_name=_config.source_table_name,\n",
    "    primary_key=_config.primary_key,\n",
    "    embedding_source_column=_config.embedding_source_column,\n",
    "    embedding_model_endpoint_name=_config.embedding_model_endpoint_name,\n",
    "    pipeline_type=_config.pipeline_type,\n",
    "    verbose=True\n",
    "  )\n",
    "except Exception as e:\n",
    "    if \"already exists\" in str(e):\n",
    "        print(f\"Index named {_config.endpoint_name} already exists.\")\n",
    "        vector_search_index = vsc.get_index(_config.endpoint_name, _config.index_name)\n",
    "    else:\n",
    "        raise e"
   ]
  },
  {
   "cell_type": "code",
   "execution_count": 0,
   "metadata": {
    "application/vnd.databricks.v1+cell": {
     "cellMetadata": {
      "byteLimit": 2048000,
      "rowLimit": 10000
     },
     "inputWidgets": {},
     "nuid": "43d74fe7-5644-4291-a5a9-d047db2cbbe5",
     "showTitle": false,
     "tableResultSettingsMap": {},
     "title": ""
    }
   },
   "outputs": [],
   "source": [
    "spark.sql(f\"GRANT SELECT ON TABLE {_config.index_name} TO `account users` \")\n"
   ]
  }
 ],
 "metadata": {
  "application/vnd.databricks.v1+notebook": {
   "computePreferences": null,
   "dashboards": [],
   "environmentMetadata": {
    "base_environment": "",
    "environment_version": "2"
   },
   "inputWidgetPreferences": null,
   "language": "python",
   "notebookMetadata": {
    "pythonIndentUnit": 2
   },
   "notebookName": "01_create_vector_search_index",
   "widgets": {}
  },
  "language_info": {
   "name": "python"
  }
 },
 "nbformat": 4,
 "nbformat_minor": 0
}
