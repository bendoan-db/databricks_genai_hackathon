{
 "cells": [
  {
   "cell_type": "code",
   "execution_count": 0,
   "metadata": {
    "application/vnd.databricks.v1+cell": {
     "cellMetadata": {
      "byteLimit": 2048000,
      "rowLimit": 10000
     },
     "inputWidgets": {},
     "nuid": "ae062169-8313-46e1-943b-3ea7b54761a7",
     "showTitle": false,
     "tableResultSettingsMap": {},
     "title": ""
    }
   },
   "outputs": [],
   "source": [
    "import yaml\n",
    "\n",
    "with open('ingestion_config.yml', 'r') as file:\n",
    "    config = yaml.safe_load(file)\n",
    "\n",
    "databricks_config = config['databricks_config']\n",
    "llm_config = config['llm_config']\n",
    "\n",
    "catalog=databricks_config['catalog']\n",
    "schema=databricks_config['schema']\n",
    "\n",
    "volume_path = databricks_config['volume_path']\n",
    "bronze_table=databricks_config['bronze_table']\n",
    "silver_table=databricks_config['silver_table']"
   ]
  },
  {
   "cell_type": "code",
   "execution_count": 0,
   "metadata": {
    "application/vnd.databricks.v1+cell": {
     "cellMetadata": {
      "byteLimit": 2048000,
      "rowLimit": 10000
     },
     "inputWidgets": {},
     "nuid": "95e41a61-3aeb-44f2-847e-122a716155d0",
     "showTitle": false,
     "tableResultSettingsMap": {},
     "title": ""
    }
   },
   "outputs": [],
   "source": [
    "sec_documents_raw = spark.read.format(\"binaryFile\").load(volume_path)\n",
    "print(\"Total docs: \" + str(sec_documents_raw.count()))\n",
    "display(sec_documents_raw.limit(2))\n",
    "\n",
    "#write docs to bronze table\n",
    "sec_documents_raw.write.mode(\"overwrite\").saveAsTable(f\"{catalog}.{schema}.{bronze_table}\")\n",
    "print(f\"Successfully wrote bronze docs to {catalog}.{schema}.{bronze_table}\")"
   ]
  },
  {
   "cell_type": "code",
   "execution_count": 0,
   "metadata": {
    "application/vnd.databricks.v1+cell": {
     "cellMetadata": {
      "byteLimit": 2048000,
      "rowLimit": 10000
     },
     "inputWidgets": {},
     "nuid": "3de58f91-de8d-4415-85d8-c6190c70ae1c",
     "showTitle": false,
     "tableResultSettingsMap": {},
     "title": ""
    }
   },
   "outputs": [],
   "source": [
    "#extract document year and company name\n",
    "sec_document_year_and_company = sec_documents_raw.selectExpr(\"*\",\"ai_extract(path, array('year', 'company')) AS extracted_data\")"
   ]
  },
  {
   "cell_type": "code",
   "execution_count": 0,
   "metadata": {
    "application/vnd.databricks.v1+cell": {
     "cellMetadata": {
      "byteLimit": 2048000,
      "rowLimit": 10000
     },
     "inputWidgets": {},
     "nuid": "09255962-8a67-4983-ae3e-2b6fd1606323",
     "showTitle": false,
     "tableResultSettingsMap": {},
     "title": ""
    }
   },
   "outputs": [],
   "source": [
    "#extract document type\n",
    "sec_document_document_type = sec_document_year_and_company.selectExpr(\n",
    "    \"*\",\n",
    "    \"\"\"\n",
    "    ai_classify(path, ARRAY('10k', '8k', '10q', 'Earnings Report')) AS document_type\n",
    "    \"\"\",\n",
    ").select(\"*\", \"extracted_data.*\").drop(\"extracted_data\")"
   ]
  },
  {
   "cell_type": "code",
   "execution_count": 0,
   "metadata": {
    "application/vnd.databricks.v1+cell": {
     "cellMetadata": {
      "byteLimit": 2048000,
      "rowLimit": 10000
     },
     "inputWidgets": {},
     "nuid": "e6d3c45f-cd84-4620-aabf-661e77fd4409",
     "showTitle": false,
     "tableResultSettingsMap": {},
     "title": ""
    }
   },
   "outputs": [],
   "source": [
    "sec_document_document_type.write.mode(\"overwrite\").saveAsTable(f\"{catalog}.{schema}.{silver_table}\")\n",
    "print(f\"Successfully wrote bronze docs to {catalog}.{schema}.{silver_table}\")"
   ]
  },
  {
   "cell_type": "code",
   "execution_count": 0,
   "metadata": {
    "application/vnd.databricks.v1+cell": {
     "cellMetadata": {
      "byteLimit": 2048000,
      "rowLimit": 10000
     },
     "inputWidgets": {},
     "nuid": "b8081b47-c6dc-4da3-968c-e2dfaefe4e5e",
     "showTitle": false,
     "tableResultSettingsMap": {},
     "title": ""
    }
   },
   "outputs": [],
   "source": [
    "display(spark.table(f\"{catalog}.{schema}.{silver_table}\"))"
   ]
  },
  {
   "cell_type": "code",
   "execution_count": 0,
   "metadata": {
    "application/vnd.databricks.v1+cell": {
     "cellMetadata": {},
     "inputWidgets": {},
     "nuid": "68cacc56-ce6f-436a-bb6e-cca338c773ee",
     "showTitle": false,
     "tableResultSettingsMap": {},
     "title": ""
    }
   },
   "outputs": [],
   "source": []
  }
 ],
 "metadata": {
  "application/vnd.databricks.v1+notebook": {
   "computePreferences": {
    "hardware": {
     "accelerator": null,
     "gpuPoolId": null,
     "memory": "HIGH"
    }
   },
   "dashboards": [],
   "environmentMetadata": {
    "base_environment": "",
    "environment_version": "2"
   },
   "inputWidgetPreferences": null,
   "language": "python",
   "notebookMetadata": {
    "mostRecentlyExecutedCommandWithImplicitDF": {
     "commandId": 3394427869738927,
     "dataframes": [
      "_sqldf"
     ]
    },
    "pythonIndentUnit": 2
   },
   "notebookName": "01_extract_file_metadata",
   "widgets": {}
  },
  "language_info": {
   "name": "python"
  }
 },
 "nbformat": 4,
 "nbformat_minor": 0
}
