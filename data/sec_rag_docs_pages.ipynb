{
 "cells": [
  {
   "cell_type": "code",
   "execution_count": 0,
   "metadata": {
    "application/vnd.databricks.v1+cell": {
     "cellMetadata": {
      "byteLimit": 2048000,
      "rowLimit": 10000
     },
     "inputWidgets": {},
     "nuid": "57955bbe-555b-45cc-8cb9-50c3a722a243",
     "showTitle": false,
     "tableResultSettingsMap": {},
     "title": ""
    },
    "jupyter": {
     "outputs_hidden": true
    }
   },
   "outputs": [],
   "source": [
    "%pip install -U -qqqq pydantic\n",
    "%restart_python"
   ]
  },
  {
   "cell_type": "code",
   "execution_count": 0,
   "metadata": {
    "application/vnd.databricks.v1+cell": {
     "cellMetadata": {
      "byteLimit": 2048000,
      "rowLimit": 10000
     },
     "inputWidgets": {},
     "nuid": "0d9feb44-39af-4c62-b942-f2ac5c4fba87",
     "showTitle": false,
     "tableResultSettingsMap": {},
     "title": ""
    }
   },
   "outputs": [],
   "source": [
    "from configs.project import get_project_config\n",
    "from src.data_utils import get_df_from_config\n",
    "\n",
    "\n",
    "_config = get_project_config().vector_search_attributes[\"id_1\"]\n",
    "df = get_df_from_config(_config)\n",
    "display(df)"
   ]
  },
  {
   "cell_type": "code",
   "execution_count": 0,
   "metadata": {
    "application/vnd.databricks.v1+cell": {
     "cellMetadata": {
      "byteLimit": 2048000,
      "rowLimit": 10000
     },
     "inputWidgets": {},
     "nuid": "1669a60c-e433-4822-b6cc-ba07373f3aaa",
     "showTitle": false,
     "tableResultSettingsMap": {},
     "title": ""
    }
   },
   "outputs": [],
   "source": [
    "df.write.format(\"delta\").mode(\"overwrite\").saveAsTable(\n",
    "    _config.source_table_name,\n",
    "    mode=\"overwrite\",\n",
    ")"
   ]
  },
  {
   "cell_type": "code",
   "execution_count": 0,
   "metadata": {
    "application/vnd.databricks.v1+cell": {
     "cellMetadata": {
      "byteLimit": 2048000,
      "rowLimit": 10000
     },
     "inputWidgets": {},
     "nuid": "6b83aae4-c86a-465c-8856-64d3db5c37e9",
     "showTitle": false,
     "tableResultSettingsMap": {},
     "title": ""
    }
   },
   "outputs": [],
   "source": [
    "# spark.sql(f\"ALTER TABLE {_config.source_table_name} ALTER COLUMN {_config.primary_key} SET NOT NULL\")\n",
    "# try:\n",
    "#   spark.sql(f\"ALTER TABLE {_config.source_table_name} ADD CONSTRAINT {_config.primary_key}_pk PRIMARY KEY( {_config.primary_key} )\")\n",
    "# except Exception as e:\n",
    "#   print(f\"Constraint {_config.primary_key}_pk already exists.\")\n",
    "# spark.sql(f\"ALTER TABLE {_config.source_table_name} SET TBLPROPERTIES (delta.enableChangeDataFeed = true) \")"
   ]
  }
 ],
 "metadata": {
  "application/vnd.databricks.v1+notebook": {
   "computePreferences": null,
   "dashboards": [],
   "environmentMetadata": {
    "base_environment": "",
    "environment_version": "2"
   },
   "inputWidgetPreferences": null,
   "language": "python",
   "notebookMetadata": {
    "pythonIndentUnit": 2
   },
   "notebookName": "sec_rag_docs_pages",
   "widgets": {}
  },
  "language_info": {
   "name": "python"
  }
 },
 "nbformat": 4,
 "nbformat_minor": 0
}
