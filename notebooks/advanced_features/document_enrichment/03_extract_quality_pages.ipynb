{
 "cells": [
  {
   "cell_type": "code",
   "execution_count": 0,
   "metadata": {
    "application/vnd.databricks.v1+cell": {
     "cellMetadata": {
      "byteLimit": 2048000,
      "rowLimit": 10000
     },
     "collapsed": true,
     "inputWidgets": {},
     "nuid": "0e54f949-b674-473e-9128-f6591fa88ed0",
     "showTitle": false,
     "tableResultSettingsMap": {},
     "title": ""
    }
   },
   "outputs": [],
   "source": [
    "%pip install -q pyyaml"
   ]
  },
  {
   "cell_type": "code",
   "execution_count": 0,
   "metadata": {
    "application/vnd.databricks.v1+cell": {
     "cellMetadata": {
      "byteLimit": 2048000,
      "rowLimit": 10000
     },
     "inputWidgets": {},
     "nuid": "bf4f07dd-e93d-414d-9600-0e8b2d66d82f",
     "showTitle": false,
     "tableResultSettingsMap": {},
     "title": ""
    }
   },
   "outputs": [],
   "source": [
    "import yaml\n",
    "\n",
    "with open('ingestion_config.yml', 'r') as file:\n",
    "    config = yaml.safe_load(file)\n",
    "  \n",
    "#load global configs\n",
    "databricks_config = config['databricks_config']\n",
    "chunk_extraction_config = config['chunk_extraction_config']\n",
    "\n",
    "#load uc configs\n",
    "catalog=databricks_config['catalog']\n",
    "schema=databricks_config['schema']\n",
    "bronze_chunk_table = chunk_extraction_config[\"bronze_table\"][\"name\"]\n",
    "silver_chunk_table = chunk_extraction_config[\"silver_table\"][\"name\"]\n",
    "silver_chunk_table_schema = chunk_extraction_config[\"silver_table\"][\"schema\"]\n",
    "\n",
    "scoring_llm_endpoint = chunk_extraction_config[\"silver_table\"][\"resolution_llm_config\"][\"llm_endpoint_name\"]\n",
    "scoring_llm_prompt = chunk_extraction_config[\"silver_table\"][\"resolution_llm_config\"][\"prompt\"]"
   ]
  },
  {
   "cell_type": "code",
   "execution_count": 0,
   "metadata": {
    "application/vnd.databricks.v1+cell": {
     "cellMetadata": {
      "byteLimit": 2048000,
      "rowLimit": 10000
     },
     "inputWidgets": {},
     "nuid": "a3c1696f-7745-40de-9eac-f1c0a54f53b3",
     "showTitle": false,
     "tableResultSettingsMap": {},
     "title": ""
    },
    "jupyter": {
     "outputs_hidden": true
    }
   },
   "outputs": [],
   "source": [
    "from pyspark.sql.functions import explode, concat, lit, col\n",
    "\n",
    "bronze_chunks = (\n",
    "    spark.table(f\"{catalog}.{schema}.{bronze_chunk_table}\")\n",
    "    .select(\"*\", explode(\"parsed_content\"))\n",
    "    .select(\"*\", \"col.*\")\n",
    ")"
   ]
  },
  {
   "cell_type": "code",
   "execution_count": 0,
   "metadata": {
    "application/vnd.databricks.v1+cell": {
     "cellMetadata": {
      "byteLimit": 2048000,
      "rowLimit": 10000
     },
     "inputWidgets": {},
     "nuid": "1e62ad68-2203-4d8a-b298-93804721099f",
     "showTitle": false,
     "tableResultSettingsMap": {},
     "title": ""
    }
   },
   "outputs": [],
   "source": [
    "display(bronze_chunks.limit(10))"
   ]
  },
  {
   "cell_type": "code",
   "execution_count": 0,
   "metadata": {
    "application/vnd.databricks.v1+cell": {
     "cellMetadata": {
      "byteLimit": 2048000,
      "rowLimit": 10000
     },
     "inputWidgets": {},
     "nuid": "6fce2fd1-018a-48b4-8d54-e6fd34d5825e",
     "showTitle": false,
     "tableResultSettingsMap": {},
     "title": ""
    }
   },
   "outputs": [],
   "source": [
    "silver_chunks_df = bronze_chunks.selectExpr(\n",
    "    \"*\",\n",
    "    f\"ai_query('{scoring_llm_endpoint}', CONCAT('{scoring_llm_prompt}', doc_content)) as quality_score\"\n",
    ").select(silver_chunk_table_schema)\n",
    "display(silver_chunks_df.limit(20))"
   ]
  },
  {
   "cell_type": "code",
   "execution_count": 0,
   "metadata": {
    "application/vnd.databricks.v1+cell": {
     "cellMetadata": {
      "byteLimit": 2048000,
      "rowLimit": 10000
     },
     "inputWidgets": {},
     "nuid": "ad2653b1-0e49-4740-b015-d8496df446fd",
     "showTitle": false,
     "tableResultSettingsMap": {},
     "title": ""
    }
   },
   "outputs": [],
   "source": [
    "silver_chunks_df.write.mode(\"overwrite\").saveAsTable(f\"{catalog}.{schema}.{silver_chunk_table}\")"
   ]
  },
  {
   "cell_type": "code",
   "execution_count": 0,
   "metadata": {
    "application/vnd.databricks.v1+cell": {
     "cellMetadata": {
      "byteLimit": 2048000,
      "rowLimit": 10000
     },
     "inputWidgets": {},
     "nuid": "6779960e-1644-4081-a13b-10735c7698ea",
     "showTitle": false,
     "tableResultSettingsMap": {},
     "title": ""
    }
   },
   "outputs": [],
   "source": [
    "display(spark.table(f\"{catalog}.{schema}.{silver_chunk_table}\"))"
   ]
  },
  {
   "cell_type": "code",
   "execution_count": 0,
   "metadata": {
    "application/vnd.databricks.v1+cell": {
     "cellMetadata": {
      "byteLimit": 2048000,
      "rowLimit": 10000
     },
     "inputWidgets": {},
     "nuid": "048915b5-6f97-4007-9300-60e54231598e",
     "showTitle": false,
     "tableResultSettingsMap": {},
     "title": ""
    }
   },
   "outputs": [],
   "source": [
    "display(spark.table(f\"{catalog}.{schema}.{silver_chunk_table}\").groupBy(\"quality_score\").count())"
   ]
  },
  {
   "cell_type": "code",
   "execution_count": 0,
   "metadata": {
    "application/vnd.databricks.v1+cell": {
     "cellMetadata": {
      "byteLimit": 2048000,
      "rowLimit": 10000
     },
     "inputWidgets": {},
     "nuid": "fa98920d-a9bc-4797-92a4-fa601c7ead5d",
     "showTitle": false,
     "tableResultSettingsMap": {},
     "title": ""
    }
   },
   "outputs": [],
   "source": [
    "display(spark.table(f\"{catalog}.{schema}.{silver_chunk_table}\").filter(col(\"quality_score\")==0))"
   ]
  }
 ],
 "metadata": {
  "application/vnd.databricks.v1+notebook": {
   "computePreferences": null,
   "dashboards": [],
   "environmentMetadata": null,
   "inputWidgetPreferences": null,
   "language": "python",
   "notebookMetadata": {
    "mostRecentlyExecutedCommandWithImplicitDF": {
     "commandId": 3819540237370012,
     "dataframes": [
      "_sqldf"
     ]
    },
    "pythonIndentUnit": 2
   },
   "notebookName": "03_extract_quality_pages",
   "widgets": {}
  },
  "language_info": {
   "name": "python"
  }
 },
 "nbformat": 4,
 "nbformat_minor": 0
}
