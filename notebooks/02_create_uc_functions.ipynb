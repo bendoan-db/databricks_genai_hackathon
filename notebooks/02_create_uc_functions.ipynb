{
 "cells": [
  {
   "cell_type": "markdown",
   "metadata": {
    "application/vnd.databricks.v1+cell": {
     "cellMetadata": {},
     "inputWidgets": {},
     "nuid": "06e9b804-26ce-4246-ae80-ff3bde58dc7a",
     "showTitle": false,
     "tableResultSettingsMap": {},
     "title": ""
    }
   },
   "source": [
    "Documentation: https://docs.unitycatalog.io/ai/quickstart/"
   ]
  },
  {
   "cell_type": "code",
   "execution_count": 0,
   "metadata": {
    "application/vnd.databricks.v1+cell": {
     "cellMetadata": {
      "byteLimit": 2048000,
      "rowLimit": 10000
     },
     "inputWidgets": {},
     "nuid": "a58d8476-dd7d-41ea-a49c-d9043514b509",
     "showTitle": false,
     "tableResultSettingsMap": {},
     "title": ""
    }
   },
   "outputs": [],
   "source": [
    "%pip install -U -qqqq unitycatalog-ai[databricks] unitycatalog-langchain[databricks] mlflow databricks-langchain \n",
    "%restart_python"
   ]
  },
  {
   "cell_type": "code",
   "execution_count": 0,
   "metadata": {
    "application/vnd.databricks.v1+cell": {
     "cellMetadata": {
      "byteLimit": 2048000,
      "rowLimit": 10000
     },
     "inputWidgets": {},
     "nuid": "936ddc0c-7b6c-4667-9fc0-115fe7d1544c",
     "showTitle": false,
     "tableResultSettingsMap": {},
     "title": ""
    }
   },
   "outputs": [],
   "source": [
    "import mlflow\n",
    "\n",
    "mlflow.langchain.autolog()"
   ]
  },
  {
   "cell_type": "code",
   "execution_count": 0,
   "metadata": {
    "application/vnd.databricks.v1+cell": {
     "cellMetadata": {
      "byteLimit": 2048000,
      "rowLimit": 10000
     },
     "inputWidgets": {},
     "nuid": "80c97578-bd6f-4f14-beca-a13cbeab33a8",
     "showTitle": false,
     "tableResultSettingsMap": {},
     "title": ""
    }
   },
   "outputs": [],
   "source": [
    "import sys, os, yaml\n",
    "sys.path.append(os.path.abspath('..'))\n",
    "from configs.project import ProjectConfig\n",
    "\n",
    "with open(\"../configs/project.yml\", \"r\") as file:\n",
    "    data = yaml.safe_load(file)\n",
    "\n",
    "projectConfig = ProjectConfig(**data)"
   ]
  },
  {
   "cell_type": "code",
   "execution_count": 0,
   "metadata": {
    "application/vnd.databricks.v1+cell": {
     "cellMetadata": {
      "byteLimit": 2048000,
      "rowLimit": 10000
     },
     "inputWidgets": {},
     "nuid": "d153e5be-3f4b-4d7b-adee-c26482e5b8b1",
     "showTitle": false,
     "tableResultSettingsMap": {},
     "title": ""
    }
   },
   "outputs": [],
   "source": [
    "uc_catalog = projectConfig.uc_catalog\n",
    "uc_schema = projectConfig.uc_schema\n",
    "llm_endpoint = projectConfig.llm_endpoint_names[0]\n",
    "print(llm_endpoint)"
   ]
  },
  {
   "cell_type": "markdown",
   "metadata": {
    "application/vnd.databricks.v1+cell": {
     "cellMetadata": {},
     "inputWidgets": {},
     "nuid": "d29f15a6-0280-4713-b804-ce242c1d863e",
     "showTitle": false,
     "tableResultSettingsMap": {},
     "title": ""
    }
   },
   "source": [
    "## SQL Function"
   ]
  },
  {
   "cell_type": "code",
   "execution_count": 0,
   "metadata": {
    "application/vnd.databricks.v1+cell": {
     "cellMetadata": {
      "byteLimit": 2048000,
      "rowLimit": 10000
     },
     "inputWidgets": {},
     "nuid": "e3805db1-3bd0-41ba-a44a-016cbb8c8052",
     "showTitle": false,
     "tableResultSettingsMap": {},
     "title": ""
    }
   },
   "outputs": [],
   "source": [
    "_ = spark.sql(f\"DROP FUNCTION IF EXISTS {uc_catalog}.{uc_schema}.lookup_ticker_info\")\n",
    "_ = spark.sql(f\"\"\"\n",
    "CREATE OR REPLACE FUNCTION {uc_catalog}.{uc_schema}.lookup_ticker_info(\n",
    "  ticker_symbol STRING COMMENT 'Ticker symbol of the company whose info to look up'\n",
    ")\n",
    "RETURNS STRING\n",
    "COMMENT 'Returns total current assets for a particular company, given the companys ticker symbol. The\n",
    "ticker symbol can be used for other queries.'\n",
    "RETURN SELECT CONCAT(\n",
    "    'ticker symbol: ', TICKER, ', ',\n",
    "    'total current assets: ', TOTAL_CURRENT_ASSETS\n",
    "  )\n",
    "  FROM {uc_catalog}.{uc_schema}.balance_sheet\n",
    "  WHERE TICKER = ticker_symbol\n",
    "  LIMIT 1;\n",
    "\"\"\")"
   ]
  },
  {
   "cell_type": "markdown",
   "metadata": {
    "application/vnd.databricks.v1+cell": {
     "cellMetadata": {},
     "inputWidgets": {},
     "nuid": "f0861fd7-c62a-4207-844a-f8503201bc77",
     "showTitle": false,
     "tableResultSettingsMap": {},
     "title": ""
    }
   },
   "source": [
    "# Python Function"
   ]
  },
  {
   "cell_type": "code",
   "execution_count": 0,
   "metadata": {
    "application/vnd.databricks.v1+cell": {
     "cellMetadata": {
      "byteLimit": 2048000,
      "rowLimit": 10000
     },
     "inputWidgets": {},
     "nuid": "7cd659bc-8d55-486a-a6b0-9af99d7cee37",
     "showTitle": false,
     "tableResultSettingsMap": {},
     "title": ""
    }
   },
   "outputs": [],
   "source": [
    "from databricks_langchain import ChatDatabricks\n",
    "llm = ChatDatabricks(endpoint=llm_endpoint, temperature=0.1)"
   ]
  },
  {
   "cell_type": "code",
   "execution_count": 0,
   "metadata": {
    "application/vnd.databricks.v1+cell": {
     "cellMetadata": {
      "byteLimit": 2048000,
      "rowLimit": 10000
     },
     "inputWidgets": {},
     "nuid": "b6076db9-0bd7-4f9b-aa05-2b0879f6028c",
     "showTitle": false,
     "tableResultSettingsMap": {},
     "title": ""
    }
   },
   "outputs": [],
   "source": [
    "from unitycatalog.ai.core.databricks import DatabricksFunctionClient\n",
    "\n",
    "client = DatabricksFunctionClient()"
   ]
  },
  {
   "cell_type": "code",
   "execution_count": 0,
   "metadata": {
    "application/vnd.databricks.v1+cell": {
     "cellMetadata": {
      "byteLimit": 2048000,
      "rowLimit": 10000
     },
     "inputWidgets": {},
     "nuid": "75e13757-83d2-46bd-8b21-4f5f5c8d73ea",
     "showTitle": false,
     "tableResultSettingsMap": {},
     "title": ""
    }
   },
   "outputs": [],
   "source": [
    "def add_numbers(number_1: float, number_2: float) -> float:\n",
    "    \"\"\"\n",
    "    A function that accepts two floating point numbers, adds them,\n",
    "    and returns the resulting sum as a float.\n",
    "\n",
    "    Args:\n",
    "        number_1 (float): The first of the two numbers to add.\n",
    "        number_2 (float): The second of the two numbers to add.\n",
    "\n",
    "    Returns:\n",
    "        float: The sum of the two input numbers.\n",
    "    \"\"\"\n",
    "    return number_1 + number_2\n",
    "\n",
    "# Create the function in UC\n",
    "function_info = client.create_python_function(\n",
    "    func=add_numbers,\n",
    "    catalog=uc_catalog,\n",
    "    schema=uc_schema,\n",
    "    replace=True,\n",
    ")"
   ]
  },
  {
   "cell_type": "code",
   "execution_count": 0,
   "metadata": {
    "application/vnd.databricks.v1+cell": {
     "cellMetadata": {
      "byteLimit": 2048000,
      "rowLimit": 10000
     },
     "inputWidgets": {},
     "nuid": "31e1d491-8f24-4c07-b6e9-56bcc933c45a",
     "showTitle": false,
     "tableResultSettingsMap": {},
     "title": ""
    }
   },
   "outputs": [],
   "source": [
    "from unitycatalog.ai.langchain.toolkit import UCFunctionToolkit\n",
    "\n",
    "# Define the UC function to be used as a tool\n",
    "func_name = f\"{uc_catalog}.{uc_schema}.add_numbers\"\n",
    "\n",
    "# Create a toolkit with the UC function\n",
    "toolkit = UCFunctionToolkit(function_names=[\n",
    "  func_name,\n",
    "  f\"{uc_catalog}.{uc_schema}.lookup_ticker_info\",\n",
    "  ], client=client)"
   ]
  },
  {
   "cell_type": "code",
   "execution_count": 0,
   "metadata": {
    "application/vnd.databricks.v1+cell": {
     "cellMetadata": {
      "byteLimit": 2048000,
      "rowLimit": 10000
     },
     "inputWidgets": {},
     "nuid": "e45c8897-076f-4a5d-9c5f-5ff73f77cc6e",
     "showTitle": false,
     "tableResultSettingsMap": {},
     "title": ""
    }
   },
   "outputs": [],
   "source": [
    "from langchain.agents import AgentExecutor, create_tool_calling_agent\n",
    "from langchain_core.prompts import ChatPromptTemplate\n",
    "from databricks_langchain import ChatDatabricks\n",
    "\n",
    "# Initialize the LLM\n",
    "llm = ChatDatabricks(endpoint=llm_endpoint, temperature = 0.0)\n",
    "\n",
    "# Define the prompt\n",
    "prompt = ChatPromptTemplate.from_messages([\n",
    "    (\"system\", \"You are a helpful assistant. Use tools for computations if applicable.\"),\n",
    "    (\"placeholder\", \"{chat_history}\"),\n",
    "    (\"human\", \"{input}\"),\n",
    "    (\"placeholder\", \"{agent_scratchpad}\")\n",
    "])\n",
    "\n",
    "# Create the agent with our tools\n",
    "agent = create_tool_calling_agent(llm, toolkit.tools, prompt)\n",
    "\n",
    "# Create the executor, adding our defined tools from the UCFunctionToolkit instance\n",
    "agent_executor = AgentExecutor(agent=agent, tools=toolkit.tools, verbose=True)\n",
    "\n",
    "# Run the agent with an input\n",
    "# query = \"What is the sum of 4321.9876 and 1234.5678?\"\n",
    "query = \"What is the total current assets for Apple?\"\n",
    "agent_executor.invoke({\"input\": query})"
   ]
  }
 ],
 "metadata": {
  "application/vnd.databricks.v1+notebook": {
   "computePreferences": null,
   "dashboards": [],
   "environmentMetadata": {
    "base_environment": "",
    "environment_version": "2"
   },
   "inputWidgetPreferences": null,
   "language": "python",
   "notebookMetadata": {
    "pythonIndentUnit": 2
   },
   "notebookName": "02_create_uc_functions",
   "widgets": {}
  },
  "language_info": {
   "name": "python"
  }
 },
 "nbformat": 4,
 "nbformat_minor": 0
}
